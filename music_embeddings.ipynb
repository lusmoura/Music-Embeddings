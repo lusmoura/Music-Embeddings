{
 "cells": [
  {
   "cell_type": "code",
   "execution_count": 1,
   "metadata": {},
   "outputs": [],
   "source": [
    "import re\n",
    "import os\n",
    "import cohere\n",
    "import requests\n",
    "\n",
    "import numpy as np\n",
    "import pandas as pd\n",
    "import plotly.express as px\n",
    "\n",
    "from lxml import html\n",
    "from bs4 import BeautifulSoup\n",
    "from unidecode import unidecode\n",
    "\n",
    "from sklearn.cluster import KMeans\n",
    "from sklearn.manifold import TSNE\n",
    "from sklearn.metrics import silhouette_score, rand_score"
   ]
  },
  {
   "cell_type": "code",
   "execution_count": 2,
   "metadata": {},
   "outputs": [],
   "source": [
    "artist = \"lorde\"\n",
    "API_KEY = \"YOUR_API_KEY\""
   ]
  },
  {
   "cell_type": "code",
   "execution_count": 3,
   "metadata": {},
   "outputs": [],
   "source": [
    "class Discography:\n",
    "    def __init__(self, artist, albums, verbose=True):\n",
    "        self.verbose = verbose\n",
    "        self.artist = artist\n",
    "        self.albums = albums\n",
    "        self.num_albums = len(albums)\n",
    "        self.co = cohere.Client(API_KEY)\n",
    "        self.df = self.get_df()\n",
    "\n",
    "    def get_df(self) -> pd.DataFrame:\n",
    "        \"\"\"Get pandas dataframe from albums - each row is a song\n",
    "        \n",
    "        Returns:\n",
    "            pd.DataFrame -- dataframe with columns: artist, album, song_title, lyrics, url, lyrics_embedding\n",
    "        \"\"\"\n",
    "        if self.verbose:\n",
    "            print(f\"Getting dataframe for {self.artist}...\")\n",
    "\n",
    "        df = pd.DataFrame()\n",
    "        for album in self.albums:\n",
    "            df = pd.concat(\n",
    "                [\n",
    "                    df,\n",
    "                    pd.DataFrame(\n",
    "                        {\n",
    "                            \"artist\": self.artist,\n",
    "                            \"album\": album.title,\n",
    "                            \"song_title\": [song.title for song in album.songs],\n",
    "                            \"lyrics\": [song.lyrics for song in album.songs],\n",
    "                            \"url\": [song.url for song in album.songs],\n",
    "                        }\n",
    "                    ),\n",
    "                ]\n",
    "            )\n",
    "\n",
    "        df = df.reset_index(drop=True)\n",
    "        df = self.get_embeddings(df, \"lyrics\")\n",
    "        df = self.get_embeddings(df, \"song_title\")\n",
    "\n",
    "        return df\n",
    "\n",
    "    def get_embeddings(self, df: pd.DataFrame, column: str) -> pd.DataFrame:\n",
    "        \"\"\"Get embeddings for a column\n",
    "        \n",
    "        Args:\n",
    "            df (pd.DataFrame): dataframe\n",
    "            column (str): column to get embeddings for\n",
    "\n",
    "        Returns:\n",
    "            pd.DataFrame -- dataframe with column: {column}_embedding\n",
    "        \"\"\"\n",
    "\n",
    "        if self.verbose:\n",
    "            print(f\"Getting embeddings for {column}...\")\n",
    "        \n",
    "        texts = df[column].tolist()\n",
    "        response = self.co.embed(model=\"large\", texts=texts)\n",
    "        df[f\"{column}_embedding\"] = response.embeddings\n",
    "        return df"
   ]
  },
  {
   "cell_type": "code",
   "execution_count": 4,
   "metadata": {},
   "outputs": [],
   "source": [
    "class Album:\n",
    "    \"\"\"Album class - Album wrapper\n",
    "\n",
    "    Attributes:\n",
    "        title (str): Album title\n",
    "        songs (list): List of Song objects\n",
    "    \"\"\"\n",
    "\n",
    "    def __init__(self, title, songs):\n",
    "        self.title = title\n",
    "        self.songs = songs"
   ]
  },
  {
   "cell_type": "code",
   "execution_count": 5,
   "metadata": {},
   "outputs": [],
   "source": [
    "class Song:\n",
    "    \"\"\"Song class - Song wrapper\n",
    "\n",
    "    Attributes:\n",
    "        title (str): Song title\n",
    "        lyrics (str): Song lyrics\n",
    "        url (str): Song url\n",
    "    \"\"\"\n",
    "\n",
    "    def __init__(self, title: str, lyrics: str, url: str):\n",
    "        self.title = title\n",
    "        self.lyrics = lyrics\n",
    "        self.url = url"
   ]
  },
  {
   "cell_type": "code",
   "execution_count": 6,
   "metadata": {},
   "outputs": [],
   "source": [
    "class Scraper:\n",
    "    \"\"\"Scraper class - Get albums and songs from artist page\n",
    "\n",
    "    Attributes:\n",
    "        artist (str): Artist name\n",
    "        max_albums (int): Max number of albums to get\n",
    "    \"\"\"\n",
    "\n",
    "    def __init__(self, artist, max_albums=100, verbose=False):\n",
    "        self.artist = artist\n",
    "        self.max_albums = max_albums\n",
    "        self.verbose = verbose\n",
    "        self.main_url = \"https://www.letras.mus.br\"\n",
    "        self.clean_artist = artist.lower().replace(\" \", \"-\")\n",
    "        self.url = self.main_url + \"/\" + self.clean_artist + \"/discografia\"\n",
    "\n",
    "    def clean_album_title(self, album_title: str) -> str:\n",
    "        \"\"\"Clean album title by removing anything in parenthesis - like (Deluxe Edition)\n",
    "        \n",
    "        Args:\n",
    "            album_title (str): Album title\n",
    "        \n",
    "        Returns:\n",
    "            str: Cleaned album title\n",
    "        \"\"\"\n",
    "        album_title = re.sub(r\"\\([^)]*\\)\", \"\", album_title)\n",
    "        return unidecode(album_title).lower().strip()\n",
    "\n",
    "    def make_request(self, url: str) -> requests.models.Response:\n",
    "        \"\"\"Make request with the request module and treat errors\n",
    "        \n",
    "        Args:\n",
    "            url (str): Url to make request\n",
    "\n",
    "        Returns:\n",
    "            requests.models.Response: Response object\n",
    "        \"\"\"\n",
    "\n",
    "        headers = {\n",
    "            \"sec-ch-ua\": '\" Not;A Brand\";v=\"99\", \"Google Chrome\";v=\"91\", \"Chromium\";v=\"91\"',\n",
    "            \"sec-ch-ua-mobile\": \"?0\",\n",
    "            \"Upgrade-Insecure-Requests\": \"1\",\n",
    "            \"User-Agent\": \"Mozilla/5.0 (X11; Linux x86_64) AppleWebKit/537.36 (KHTML, like Gecko) Chrome/91.0.4472.77 Safari/537.36\",\n",
    "        }\n",
    "\n",
    "        try:\n",
    "            response = requests.get(url, headers=headers)\n",
    "        except Exception as e:\n",
    "            print(f\"Error - {e.args}\")\n",
    "            return None\n",
    "\n",
    "        if response.status_code != 200:\n",
    "            return None\n",
    "\n",
    "        return response\n",
    "\n",
    "    def get_discography(self) -> Discography:\n",
    "        \"\"\"Get all albums from artist page\n",
    "        \n",
    "        Returns:\n",
    "            Discography: Discography object\n",
    "        \"\"\"\n",
    "\n",
    "        # get html from artist page - letras.mus.br\n",
    "        response = self.make_request(self.url)\n",
    "        if response is None:\n",
    "            return None\n",
    "\n",
    "        soup = BeautifulSoup(response.text, \"lxml\")\n",
    "        albums_tags = soup.find_all(\"div\", class_=\"album-item g-sp\")\n",
    "\n",
    "        albums = []\n",
    "        albuns_clean_names = []\n",
    "        # iterate over albums reversed to exclude albuns like deluxe and live versions\n",
    "        for i, album_tag in enumerate(albums_tags[::-1], 1):\n",
    "            album_title = album_tag.find(\"h1\").text.strip()\n",
    "            info_type = album_tag.find(\"span\", class_=\"header-info-type\").text\n",
    "\n",
    "            if self.verbose:\n",
    "                print(f\"[{i}/{len(albums_tags)}] - {album_title}\")\n",
    "\n",
    "            # excludes singles and EPs\n",
    "            if \"Álbum\" not in info_type:\n",
    "                if self.verbose:\n",
    "                    print(\"\\tNot an album\")\n",
    "                continue\n",
    "\n",
    "            curr_album_clean_name = self.clean_album_title(album_title)\n",
    "\n",
    "            # excludes albums with the same name\n",
    "            if curr_album_clean_name in albuns_clean_names:\n",
    "                if self.verbose:\n",
    "                    print(\"\\tAlbum already exists\")\n",
    "                continue\n",
    "            else:\n",
    "                albuns_clean_names.append(curr_album_clean_name)\n",
    "\n",
    "            songs_tags = album_tag.find_all(\"a\", class_=\"bt-play-song\")\n",
    "\n",
    "            songs = []\n",
    "            for j, song_tag in enumerate(songs_tags, 1):\n",
    "                if self.verbose:\n",
    "                    print(f\"\\t[{j}/{len(songs_tags)}] - \", end=\"\")\n",
    "                \n",
    "                url = self.main_url + song_tag.get(\"href\")\n",
    "                response = self.make_request(url)\n",
    "                \n",
    "                if response is None:\n",
    "                    if self.verbose:\n",
    "                        print(\"Failed\")\n",
    "                    continue\n",
    "\n",
    "                tree = html.fromstring(response.content)\n",
    "\n",
    "                song_title = tree.xpath(\"//div[@class='cnt-head_title']/h1\")[0].text\n",
    "                \n",
    "                if self.verbose:\n",
    "                    print(song_title)\n",
    "\n",
    "                # get lyrics\n",
    "                try:\n",
    "                    lyrics = tree.xpath('//div[@class=\"cnt-letra\"]//text()')\n",
    "                    lyrics = \"\\n\".join(lyrics).strip()\n",
    "\n",
    "                    if lyrics == \"\":\n",
    "                        raise Exception(f\"No lyrics {url}\")\n",
    "\n",
    "                    # if lyrics is empty this is the default message\n",
    "                    if \"Ainda nÃ£o temos a letra desta mÃºsica.\" in lyrics:\n",
    "                        raise Exception(\"No lyrics\")\n",
    "                except Exception as e:\n",
    "                    if self.verbose:\n",
    "                        print(f\"\\t\\tCouldn't get lyrics {url}\")\n",
    "                    continue\n",
    "\n",
    "                songs.append(Song(song_title, lyrics, url))\n",
    "\n",
    "            albums.append(Album(album_title, songs))\n",
    "\n",
    "            # break if max albums is reached\n",
    "            if len(albums) >= self.max_albums:\n",
    "                break\n",
    "\n",
    "        discography = Discography(self.artist, albums)\n",
    "        return discography"
   ]
  },
  {
   "cell_type": "code",
   "execution_count": 7,
   "metadata": {},
   "outputs": [],
   "source": [
    "class Plot:\n",
    "    \"\"\"Plot class - Plot embeddings and confusion matrix\n",
    "\n",
    "    Attributes:\n",
    "        discography (Discography): Discography object\n",
    "        column (str): Column to plot (lyrics or song_title)\n",
    "    \"\"\"\n",
    "\n",
    "    def __init__(self, discography: Discography, column: str = \"lyrics\"):\n",
    "        if column not in [\"lyrics\", \"song_title\"]:\n",
    "            raise ValueError(\"Column must be 'lyrics' or 'song_title'\")\n",
    "        \n",
    "        self.column = column\n",
    "        self.discography = discography\n",
    "        self.artist = discography.artist\n",
    "        self.df = discography.df\n",
    "        self.set_up()\n",
    "\n",
    "    def set_up(self):\n",
    "        \"\"\"Set up embeddings and clusters\"\"\"\n",
    "        # Reduce dimensionality with PCA\n",
    "        tsne = TSNE(n_components=2, random_state=0, perplexity=5)\n",
    "        embeddings_column = f'{self.column}_embedding'\n",
    "        self.embeddings = self.df[embeddings_column].tolist()\n",
    "        self.embeddings_2d = tsne.fit_transform(np.array(self.embeddings))\n",
    "\n",
    "        # Cluster embeddings\n",
    "        num_clusters = self.discography.num_albums\n",
    "        self.kmeans = KMeans(n_clusters=num_clusters, random_state=0)\n",
    "        self.clusters = self.kmeans.fit_predict(self.embeddings)\n",
    "\n",
    "        self.df['cluster'] = self.clusters\n",
    "\n",
    "        self.df['embeddings_x'] = self.embeddings_2d[:, 0]\n",
    "        self.df['embeddings_y'] = self.embeddings_2d[:, 1]\n",
    "\n",
    "    def plot_clusters(self, download: bool = False, path: str = 'imgs'):\n",
    "        \"\"\"Plot clusters\n",
    "        \n",
    "        Args:\n",
    "            download (bool, optional): Wheter to download clusters. Defaults to False.\n",
    "        \"\"\"\n",
    "        \n",
    "        self.df['album_label'] = self.df['album'].astype('category').cat.codes\n",
    "        self.df['size'] = 1\n",
    "\n",
    "        # Create scatter plot\n",
    "        fig = px.scatter_3d(self.df, x='embeddings_x', y='embeddings_y', z='cluster', color='album',\n",
    "                        hover_name='album', hover_data=['album', 'song_title'], \n",
    "                        size='size', size_max=10, title=f'Song coordinates in 2D space - {self.artist} {self.column}', width=1200, height=800)\n",
    "\n",
    "        fig.update_traces(hovertemplate='<b>%{hovertext}</b><br>' +\n",
    "                                        'Album: %{customdata[0]}<br>' +\n",
    "                                        'Cluster: %{z}<br>' +\n",
    "                                        'Song Title: %{customdata[1]}<br>'+\n",
    "                                        'x: %{x}<br>' +\n",
    "                                        'y: %{y}<br>' +\n",
    "                                        'z: %{z}<br><extra></extra>'\n",
    "                                        )\n",
    "\n",
    "        \n",
    "        if download:\n",
    "            if path is None:\n",
    "                path = ''\n",
    "            elif not os.path.exists(path):\n",
    "                os.makedirs(path)\n",
    "\n",
    "            fig.write_image(f'{path}/scatter_plot_{self.artist}_{self.column}.png')\n",
    "        \n",
    "        counts = self.df.value_counts(['cluster', 'album']).sort_index()\n",
    "        pd.set_option('display.max_rows', None)\n",
    "        print(counts)\n",
    "        fig.show()\n",
    "    \n",
    "    def get_rand_score(self, download: bool = False):\n",
    "        \"\"\"Get rand score which measures how many pair of objects are in the same cluster in the data and in the same cluster in the prediction\"\"\"\n",
    "        score = rand_score(self.df['album'], self.df['cluster'])\n",
    "        print(f\"Rand score: {score}\")\n",
    "\n",
    "    def plot_sillhouette_score(self, download: bool = False, path: str = 'imgs'):\n",
    "        \"\"\"Plot the average silhouette score for each album which measures how similar an object is to its own cluster\n",
    "        \n",
    "        Args:\n",
    "            download (bool, optional): Wheter to download silhouette score. Defaults to False.\n",
    "        \"\"\"\n",
    "        album_names = self.df['album'].unique()\n",
    "        album_scores = {}\n",
    "        for album in album_names:\n",
    "            embeddings = self.df[self.df['album'] == album][f'{self.column}_embedding'].tolist()\n",
    "            clusters = self.df[self.df['album'] == album]['cluster'].tolist()\n",
    "\n",
    "            try:\n",
    "                silhouette_avg = silhouette_score(embeddings, clusters, metric='cosine')\n",
    "            except ValueError:\n",
    "                print(f\"ValueError: Only one data point for album {album} - need more to calculate the silhouette score\")\n",
    "                continue\n",
    "            \n",
    "            album_scores[album] = silhouette_avg\n",
    "\n",
    "        df_scores = pd.DataFrame(list(album_scores.items()), columns=['Album', 'Silhouette Score'])\n",
    "\n",
    "        fig = px.bar(df_scores, x='Silhouette Score', y='Album', \n",
    "                    hover_data={'Silhouette Score': ':.3f'},\n",
    "                    text='Silhouette Score', \n",
    "                    color='Silhouette Score',\n",
    "                    labels={'Silhouette Score': 'Silhouette Score', 'Album': 'Album'},\n",
    "                    title=f'Avg Silhouette Score for Each Album - {self.artist} {self.column}')\n",
    "\n",
    "        if download:\n",
    "            if path is None:\n",
    "                path = ''\n",
    "            elif not os.path.exists(path):\n",
    "                os.makedirs(path)\n",
    "            fig.write_image(f'{path}/sillhouette_plot_{self.artist}_{self.column}.png')\n",
    "\n",
    "        fig.show()\n"
   ]
  },
  {
   "cell_type": "code",
   "execution_count": 8,
   "metadata": {},
   "outputs": [
    {
     "name": "stdout",
     "output_type": "stream",
     "text": [
      "[1/28] - Royals\n",
      "\tNot an album\n",
      "[2/28] - Pure Heroine\n",
      "\t[1/10] - Tennis Court\n",
      "\t[2/10] - 400 Lux\n",
      "\t[3/10] - Royals\n",
      "\t[4/10] - Ribs\n",
      "\t[5/10] - Buzzcut Season\n",
      "\t[6/10] - Team\n",
      "\t[7/10] - Glory And Gore\n",
      "\t[8/10] - Still Sane\n",
      "\t[9/10] - White Teeth Teens\n",
      "\t[10/10] - A World Alone\n",
      "[3/28] - Pure Heroine (Extended)\n",
      "\tAlbum already exists\n",
      "[4/28] - Live In Concert\n",
      "\tNot an album\n",
      "[5/28] - No Better\n",
      "\tNot an album\n",
      "[6/28] - Team\n",
      "\tNot an album\n",
      "[7/28] - Ribs\n",
      "\tNot an album\n",
      "[8/28] - Glory And Gore\n",
      "\tNot an album\n",
      "[9/28] - Buzzcut Season\n",
      "\tNot an album\n",
      "[10/28] - The Love Club\n",
      "\tNot an album\n",
      "[11/28] - Tennis Court EP\n",
      "\tNot an album\n",
      "[12/28] - Flicker (Kanye West Rework)\n",
      "\tNot an album\n",
      "[13/28] - Yellow Flicker Beat\n",
      "\tNot an album\n",
      "[14/28] - Magnets\n",
      "\tNot an album\n",
      "[15/28] - Melodrama\n",
      "\t[1/12] - Green Light\n",
      "\t[2/12] - Sober\n",
      "\t[3/12] - Homemade Dynamite\n",
      "\t[4/12] - The Louvre\n",
      "\t[5/12] - Liability\n",
      "\t[6/12] - Hard Feelings / Loveless\n",
      "\t[7/12] - Sober II (Melodrama)\n",
      "\t[8/12] - Writer In The Dark\n",
      "\t[9/12] - Supercut\n",
      "\t[10/12] - Liability (Reprise)\n",
      "\t[11/12] - Perfect Places\n",
      "\t[12/12] - Homemade Dynamite (remix) (feat. Khalid, SZA & Post Malone)\n",
      "[16/28] - Homemade Dynamite (Remix) (feat. Khalid, Post Malone & Sza)\n",
      "\tNot an album\n",
      "[17/28] - Green Light (Chromeo Remix)\n",
      "\tNot an album\n",
      "[18/28] - Green Light\n",
      "\tNot an album\n",
      "[19/28] - Sober\n",
      "\tNot an album\n",
      "[20/28] - Liability\n",
      "\tNot an album\n",
      "[21/28] - Supercut (El-P Remix)\n",
      "\tNot an album\n",
      "[22/28] - Solar Power\n",
      "\tNot an album\n",
      "[23/28] - Stoned At The Nail Salon\n",
      "\tNot an album\n",
      "[24/28] - Mood Ring\n",
      "\tNot an album\n",
      "[25/28] - Solar Power\n",
      "\t[1/12] - The Path\n",
      "\t[2/12] - Solar Power\n",
      "\t[3/12] - California\n",
      "\t[4/12] - Stoned At The Nail Salon\n",
      "\t[5/12] - Fallen Fruit\n",
      "\t[6/12] - Secrets from a Girl (Who's Seen it All)\n",
      "\t[7/12] - Stoned At The Nail Salon\n",
      "\t[8/12] - Dominoes\n",
      "\t[9/12] - White Teeth Teens\n",
      "\t[10/12] - Leader Of a New Regime\n",
      "\t[11/12] - Mood Ring\n",
      "\t[12/12] - Oceanic Feeling\n",
      "[26/28] - Solar Power (Music Box)\n",
      "\tAlbum already exists\n",
      "[27/28] - Te Ao Mārama\n",
      "\tNot an album\n",
      "[28/28] - Solar Power (Deluxe Edition)\n",
      "\tAlbum already exists\n",
      "Getting dataframe for lorde...\n",
      "Getting embeddings for lyrics...\n",
      "Getting embeddings for song_title...\n"
     ]
    }
   ],
   "source": [
    "scraper = Scraper(artist, max_albums=20, verbose=True)\n",
    "discography = scraper.get_discography()"
   ]
  },
  {
   "attachments": {},
   "cell_type": "markdown",
   "metadata": {},
   "source": [
    "## Lyrics embeddings"
   ]
  },
  {
   "cell_type": "code",
   "execution_count": 9,
   "metadata": {},
   "outputs": [
    {
     "name": "stderr",
     "output_type": "stream",
     "text": [
      "/Users/luisa/Library/Python/3.9/lib/python/site-packages/sklearn/cluster/_kmeans.py:870: FutureWarning: The default value of `n_init` will change from 10 to 'auto' in 1.4. Set the value of `n_init` explicitly to suppress the warning\n",
      "  warnings.warn(\n"
     ]
    }
   ],
   "source": [
    "pt = Plot(discography)"
   ]
  },
  {
   "cell_type": "code",
   "execution_count": 10,
   "metadata": {},
   "outputs": [
    {
     "data": {
      "application/vnd.plotly.v1+json": {
       "config": {
        "plotlyServerURL": "https://plot.ly"
       },
       "data": [
        {
         "alignmentgroup": "True",
         "hovertemplate": "Silhouette Score=%{marker.color:.3f}<br>Album=%{y}<extra></extra>",
         "legendgroup": "",
         "marker": {
          "color": [
           0.023457943236448713,
           0.00613941829048278,
           0.054504709830345104
          ],
          "coloraxis": "coloraxis",
          "pattern": {
           "shape": ""
          }
         },
         "name": "",
         "offsetgroup": "",
         "orientation": "h",
         "showlegend": false,
         "text": [
          0.023457943236448713,
          0.00613941829048278,
          0.054504709830345104
         ],
         "textposition": "auto",
         "type": "bar",
         "x": [
          0.023457943236448713,
          0.00613941829048278,
          0.054504709830345104
         ],
         "xaxis": "x",
         "y": [
          "Pure Heroine",
          "Melodrama",
          "Solar Power"
         ],
         "yaxis": "y"
        }
       ],
       "layout": {
        "barmode": "relative",
        "coloraxis": {
         "colorbar": {
          "title": {
           "text": "Silhouette Score"
          }
         },
         "colorscale": [
          [
           0,
           "#0d0887"
          ],
          [
           0.1111111111111111,
           "#46039f"
          ],
          [
           0.2222222222222222,
           "#7201a8"
          ],
          [
           0.3333333333333333,
           "#9c179e"
          ],
          [
           0.4444444444444444,
           "#bd3786"
          ],
          [
           0.5555555555555556,
           "#d8576b"
          ],
          [
           0.6666666666666666,
           "#ed7953"
          ],
          [
           0.7777777777777778,
           "#fb9f3a"
          ],
          [
           0.8888888888888888,
           "#fdca26"
          ],
          [
           1,
           "#f0f921"
          ]
         ]
        },
        "legend": {
         "tracegroupgap": 0
        },
        "template": {
         "data": {
          "bar": [
           {
            "error_x": {
             "color": "#2a3f5f"
            },
            "error_y": {
             "color": "#2a3f5f"
            },
            "marker": {
             "line": {
              "color": "#E5ECF6",
              "width": 0.5
             },
             "pattern": {
              "fillmode": "overlay",
              "size": 10,
              "solidity": 0.2
             }
            },
            "type": "bar"
           }
          ],
          "barpolar": [
           {
            "marker": {
             "line": {
              "color": "#E5ECF6",
              "width": 0.5
             },
             "pattern": {
              "fillmode": "overlay",
              "size": 10,
              "solidity": 0.2
             }
            },
            "type": "barpolar"
           }
          ],
          "carpet": [
           {
            "aaxis": {
             "endlinecolor": "#2a3f5f",
             "gridcolor": "white",
             "linecolor": "white",
             "minorgridcolor": "white",
             "startlinecolor": "#2a3f5f"
            },
            "baxis": {
             "endlinecolor": "#2a3f5f",
             "gridcolor": "white",
             "linecolor": "white",
             "minorgridcolor": "white",
             "startlinecolor": "#2a3f5f"
            },
            "type": "carpet"
           }
          ],
          "choropleth": [
           {
            "colorbar": {
             "outlinewidth": 0,
             "ticks": ""
            },
            "type": "choropleth"
           }
          ],
          "contour": [
           {
            "colorbar": {
             "outlinewidth": 0,
             "ticks": ""
            },
            "colorscale": [
             [
              0,
              "#0d0887"
             ],
             [
              0.1111111111111111,
              "#46039f"
             ],
             [
              0.2222222222222222,
              "#7201a8"
             ],
             [
              0.3333333333333333,
              "#9c179e"
             ],
             [
              0.4444444444444444,
              "#bd3786"
             ],
             [
              0.5555555555555556,
              "#d8576b"
             ],
             [
              0.6666666666666666,
              "#ed7953"
             ],
             [
              0.7777777777777778,
              "#fb9f3a"
             ],
             [
              0.8888888888888888,
              "#fdca26"
             ],
             [
              1,
              "#f0f921"
             ]
            ],
            "type": "contour"
           }
          ],
          "contourcarpet": [
           {
            "colorbar": {
             "outlinewidth": 0,
             "ticks": ""
            },
            "type": "contourcarpet"
           }
          ],
          "heatmap": [
           {
            "colorbar": {
             "outlinewidth": 0,
             "ticks": ""
            },
            "colorscale": [
             [
              0,
              "#0d0887"
             ],
             [
              0.1111111111111111,
              "#46039f"
             ],
             [
              0.2222222222222222,
              "#7201a8"
             ],
             [
              0.3333333333333333,
              "#9c179e"
             ],
             [
              0.4444444444444444,
              "#bd3786"
             ],
             [
              0.5555555555555556,
              "#d8576b"
             ],
             [
              0.6666666666666666,
              "#ed7953"
             ],
             [
              0.7777777777777778,
              "#fb9f3a"
             ],
             [
              0.8888888888888888,
              "#fdca26"
             ],
             [
              1,
              "#f0f921"
             ]
            ],
            "type": "heatmap"
           }
          ],
          "heatmapgl": [
           {
            "colorbar": {
             "outlinewidth": 0,
             "ticks": ""
            },
            "colorscale": [
             [
              0,
              "#0d0887"
             ],
             [
              0.1111111111111111,
              "#46039f"
             ],
             [
              0.2222222222222222,
              "#7201a8"
             ],
             [
              0.3333333333333333,
              "#9c179e"
             ],
             [
              0.4444444444444444,
              "#bd3786"
             ],
             [
              0.5555555555555556,
              "#d8576b"
             ],
             [
              0.6666666666666666,
              "#ed7953"
             ],
             [
              0.7777777777777778,
              "#fb9f3a"
             ],
             [
              0.8888888888888888,
              "#fdca26"
             ],
             [
              1,
              "#f0f921"
             ]
            ],
            "type": "heatmapgl"
           }
          ],
          "histogram": [
           {
            "marker": {
             "pattern": {
              "fillmode": "overlay",
              "size": 10,
              "solidity": 0.2
             }
            },
            "type": "histogram"
           }
          ],
          "histogram2d": [
           {
            "colorbar": {
             "outlinewidth": 0,
             "ticks": ""
            },
            "colorscale": [
             [
              0,
              "#0d0887"
             ],
             [
              0.1111111111111111,
              "#46039f"
             ],
             [
              0.2222222222222222,
              "#7201a8"
             ],
             [
              0.3333333333333333,
              "#9c179e"
             ],
             [
              0.4444444444444444,
              "#bd3786"
             ],
             [
              0.5555555555555556,
              "#d8576b"
             ],
             [
              0.6666666666666666,
              "#ed7953"
             ],
             [
              0.7777777777777778,
              "#fb9f3a"
             ],
             [
              0.8888888888888888,
              "#fdca26"
             ],
             [
              1,
              "#f0f921"
             ]
            ],
            "type": "histogram2d"
           }
          ],
          "histogram2dcontour": [
           {
            "colorbar": {
             "outlinewidth": 0,
             "ticks": ""
            },
            "colorscale": [
             [
              0,
              "#0d0887"
             ],
             [
              0.1111111111111111,
              "#46039f"
             ],
             [
              0.2222222222222222,
              "#7201a8"
             ],
             [
              0.3333333333333333,
              "#9c179e"
             ],
             [
              0.4444444444444444,
              "#bd3786"
             ],
             [
              0.5555555555555556,
              "#d8576b"
             ],
             [
              0.6666666666666666,
              "#ed7953"
             ],
             [
              0.7777777777777778,
              "#fb9f3a"
             ],
             [
              0.8888888888888888,
              "#fdca26"
             ],
             [
              1,
              "#f0f921"
             ]
            ],
            "type": "histogram2dcontour"
           }
          ],
          "mesh3d": [
           {
            "colorbar": {
             "outlinewidth": 0,
             "ticks": ""
            },
            "type": "mesh3d"
           }
          ],
          "parcoords": [
           {
            "line": {
             "colorbar": {
              "outlinewidth": 0,
              "ticks": ""
             }
            },
            "type": "parcoords"
           }
          ],
          "pie": [
           {
            "automargin": true,
            "type": "pie"
           }
          ],
          "scatter": [
           {
            "fillpattern": {
             "fillmode": "overlay",
             "size": 10,
             "solidity": 0.2
            },
            "type": "scatter"
           }
          ],
          "scatter3d": [
           {
            "line": {
             "colorbar": {
              "outlinewidth": 0,
              "ticks": ""
             }
            },
            "marker": {
             "colorbar": {
              "outlinewidth": 0,
              "ticks": ""
             }
            },
            "type": "scatter3d"
           }
          ],
          "scattercarpet": [
           {
            "marker": {
             "colorbar": {
              "outlinewidth": 0,
              "ticks": ""
             }
            },
            "type": "scattercarpet"
           }
          ],
          "scattergeo": [
           {
            "marker": {
             "colorbar": {
              "outlinewidth": 0,
              "ticks": ""
             }
            },
            "type": "scattergeo"
           }
          ],
          "scattergl": [
           {
            "marker": {
             "colorbar": {
              "outlinewidth": 0,
              "ticks": ""
             }
            },
            "type": "scattergl"
           }
          ],
          "scattermapbox": [
           {
            "marker": {
             "colorbar": {
              "outlinewidth": 0,
              "ticks": ""
             }
            },
            "type": "scattermapbox"
           }
          ],
          "scatterpolar": [
           {
            "marker": {
             "colorbar": {
              "outlinewidth": 0,
              "ticks": ""
             }
            },
            "type": "scatterpolar"
           }
          ],
          "scatterpolargl": [
           {
            "marker": {
             "colorbar": {
              "outlinewidth": 0,
              "ticks": ""
             }
            },
            "type": "scatterpolargl"
           }
          ],
          "scatterternary": [
           {
            "marker": {
             "colorbar": {
              "outlinewidth": 0,
              "ticks": ""
             }
            },
            "type": "scatterternary"
           }
          ],
          "surface": [
           {
            "colorbar": {
             "outlinewidth": 0,
             "ticks": ""
            },
            "colorscale": [
             [
              0,
              "#0d0887"
             ],
             [
              0.1111111111111111,
              "#46039f"
             ],
             [
              0.2222222222222222,
              "#7201a8"
             ],
             [
              0.3333333333333333,
              "#9c179e"
             ],
             [
              0.4444444444444444,
              "#bd3786"
             ],
             [
              0.5555555555555556,
              "#d8576b"
             ],
             [
              0.6666666666666666,
              "#ed7953"
             ],
             [
              0.7777777777777778,
              "#fb9f3a"
             ],
             [
              0.8888888888888888,
              "#fdca26"
             ],
             [
              1,
              "#f0f921"
             ]
            ],
            "type": "surface"
           }
          ],
          "table": [
           {
            "cells": {
             "fill": {
              "color": "#EBF0F8"
             },
             "line": {
              "color": "white"
             }
            },
            "header": {
             "fill": {
              "color": "#C8D4E3"
             },
             "line": {
              "color": "white"
             }
            },
            "type": "table"
           }
          ]
         },
         "layout": {
          "annotationdefaults": {
           "arrowcolor": "#2a3f5f",
           "arrowhead": 0,
           "arrowwidth": 1
          },
          "autotypenumbers": "strict",
          "coloraxis": {
           "colorbar": {
            "outlinewidth": 0,
            "ticks": ""
           }
          },
          "colorscale": {
           "diverging": [
            [
             0,
             "#8e0152"
            ],
            [
             0.1,
             "#c51b7d"
            ],
            [
             0.2,
             "#de77ae"
            ],
            [
             0.3,
             "#f1b6da"
            ],
            [
             0.4,
             "#fde0ef"
            ],
            [
             0.5,
             "#f7f7f7"
            ],
            [
             0.6,
             "#e6f5d0"
            ],
            [
             0.7,
             "#b8e186"
            ],
            [
             0.8,
             "#7fbc41"
            ],
            [
             0.9,
             "#4d9221"
            ],
            [
             1,
             "#276419"
            ]
           ],
           "sequential": [
            [
             0,
             "#0d0887"
            ],
            [
             0.1111111111111111,
             "#46039f"
            ],
            [
             0.2222222222222222,
             "#7201a8"
            ],
            [
             0.3333333333333333,
             "#9c179e"
            ],
            [
             0.4444444444444444,
             "#bd3786"
            ],
            [
             0.5555555555555556,
             "#d8576b"
            ],
            [
             0.6666666666666666,
             "#ed7953"
            ],
            [
             0.7777777777777778,
             "#fb9f3a"
            ],
            [
             0.8888888888888888,
             "#fdca26"
            ],
            [
             1,
             "#f0f921"
            ]
           ],
           "sequentialminus": [
            [
             0,
             "#0d0887"
            ],
            [
             0.1111111111111111,
             "#46039f"
            ],
            [
             0.2222222222222222,
             "#7201a8"
            ],
            [
             0.3333333333333333,
             "#9c179e"
            ],
            [
             0.4444444444444444,
             "#bd3786"
            ],
            [
             0.5555555555555556,
             "#d8576b"
            ],
            [
             0.6666666666666666,
             "#ed7953"
            ],
            [
             0.7777777777777778,
             "#fb9f3a"
            ],
            [
             0.8888888888888888,
             "#fdca26"
            ],
            [
             1,
             "#f0f921"
            ]
           ]
          },
          "colorway": [
           "#636efa",
           "#EF553B",
           "#00cc96",
           "#ab63fa",
           "#FFA15A",
           "#19d3f3",
           "#FF6692",
           "#B6E880",
           "#FF97FF",
           "#FECB52"
          ],
          "font": {
           "color": "#2a3f5f"
          },
          "geo": {
           "bgcolor": "white",
           "lakecolor": "white",
           "landcolor": "#E5ECF6",
           "showlakes": true,
           "showland": true,
           "subunitcolor": "white"
          },
          "hoverlabel": {
           "align": "left"
          },
          "hovermode": "closest",
          "mapbox": {
           "style": "light"
          },
          "paper_bgcolor": "white",
          "plot_bgcolor": "#E5ECF6",
          "polar": {
           "angularaxis": {
            "gridcolor": "white",
            "linecolor": "white",
            "ticks": ""
           },
           "bgcolor": "#E5ECF6",
           "radialaxis": {
            "gridcolor": "white",
            "linecolor": "white",
            "ticks": ""
           }
          },
          "scene": {
           "xaxis": {
            "backgroundcolor": "#E5ECF6",
            "gridcolor": "white",
            "gridwidth": 2,
            "linecolor": "white",
            "showbackground": true,
            "ticks": "",
            "zerolinecolor": "white"
           },
           "yaxis": {
            "backgroundcolor": "#E5ECF6",
            "gridcolor": "white",
            "gridwidth": 2,
            "linecolor": "white",
            "showbackground": true,
            "ticks": "",
            "zerolinecolor": "white"
           },
           "zaxis": {
            "backgroundcolor": "#E5ECF6",
            "gridcolor": "white",
            "gridwidth": 2,
            "linecolor": "white",
            "showbackground": true,
            "ticks": "",
            "zerolinecolor": "white"
           }
          },
          "shapedefaults": {
           "line": {
            "color": "#2a3f5f"
           }
          },
          "ternary": {
           "aaxis": {
            "gridcolor": "white",
            "linecolor": "white",
            "ticks": ""
           },
           "baxis": {
            "gridcolor": "white",
            "linecolor": "white",
            "ticks": ""
           },
           "bgcolor": "#E5ECF6",
           "caxis": {
            "gridcolor": "white",
            "linecolor": "white",
            "ticks": ""
           }
          },
          "title": {
           "x": 0.05
          },
          "xaxis": {
           "automargin": true,
           "gridcolor": "white",
           "linecolor": "white",
           "ticks": "",
           "title": {
            "standoff": 15
           },
           "zerolinecolor": "white",
           "zerolinewidth": 2
          },
          "yaxis": {
           "automargin": true,
           "gridcolor": "white",
           "linecolor": "white",
           "ticks": "",
           "title": {
            "standoff": 15
           },
           "zerolinecolor": "white",
           "zerolinewidth": 2
          }
         }
        },
        "title": {
         "text": "Avg Silhouette Score for Each Album - lorde lyrics"
        },
        "xaxis": {
         "anchor": "y",
         "domain": [
          0,
          1
         ],
         "title": {
          "text": "Silhouette Score"
         }
        },
        "yaxis": {
         "anchor": "x",
         "domain": [
          0,
          1
         ],
         "title": {
          "text": "Album"
         }
        }
       }
      }
     },
     "metadata": {},
     "output_type": "display_data"
    }
   ],
   "source": [
    "pt.plot_sillhouette_score()"
   ]
  },
  {
   "cell_type": "code",
   "execution_count": 11,
   "metadata": {},
   "outputs": [
    {
     "name": "stdout",
     "output_type": "stream",
     "text": [
      "cluster  album       \n",
      "0        Melodrama        1\n",
      "         Pure Heroine     1\n",
      "         Solar Power      8\n",
      "1        Melodrama        1\n",
      "         Pure Heroine     6\n",
      "         Solar Power      2\n",
      "2        Melodrama       10\n",
      "         Pure Heroine     3\n",
      "         Solar Power      2\n",
      "dtype: int64\n"
     ]
    },
    {
     "data": {
      "application/vnd.plotly.v1+json": {
       "config": {
        "plotlyServerURL": "https://plot.ly"
       },
       "data": [
        {
         "customdata": [
          [
           "Pure Heroine",
           "Tennis Court"
          ],
          [
           "Pure Heroine",
           "400 Lux"
          ],
          [
           "Pure Heroine",
           "Royals"
          ],
          [
           "Pure Heroine",
           "Ribs"
          ],
          [
           "Pure Heroine",
           "Buzzcut Season"
          ],
          [
           "Pure Heroine",
           "Team"
          ],
          [
           "Pure Heroine",
           "Glory And Gore"
          ],
          [
           "Pure Heroine",
           "Still Sane"
          ],
          [
           "Pure Heroine",
           "White Teeth Teens"
          ],
          [
           "Pure Heroine",
           "A World Alone"
          ]
         ],
         "hovertemplate": "<b>%{hovertext}</b><br>Album: %{customdata[0]}<br>Cluster: %{z}<br>Song Title: %{customdata[1]}<br>x: %{x}<br>y: %{y}<br>z: %{z}<br><extra></extra>",
         "hovertext": [
          "Pure Heroine",
          "Pure Heroine",
          "Pure Heroine",
          "Pure Heroine",
          "Pure Heroine",
          "Pure Heroine",
          "Pure Heroine",
          "Pure Heroine",
          "Pure Heroine",
          "Pure Heroine"
         ],
         "legendgroup": "Pure Heroine",
         "marker": {
          "color": "#636efa",
          "size": [
           1,
           1,
           1,
           1,
           1,
           1,
           1,
           1,
           1,
           1
          ],
          "sizemode": "area",
          "sizeref": 0.01,
          "symbol": "circle"
         },
         "mode": "markers",
         "name": "Pure Heroine",
         "scene": "scene",
         "showlegend": true,
         "type": "scatter3d",
         "x": [
          -100.33638000488281,
          -145.97300720214844,
          73.40874481201172,
          -171.58560180664062,
          -57.58211135864258,
          20.808818817138672,
          4.68874454498291,
          148.86737060546875,
          -85.81327819824219,
          -75.30280303955078
         ],
         "y": [
          -135.07626342773438,
          104.98985290527344,
          69.04275512695312,
          27.69251823425293,
          14.232454299926758,
          74.38764953613281,
          57.69752502441406,
          -47.465576171875,
          124.7160873413086,
          -118.91641235351562
         ],
         "z": [
          1,
          1,
          1,
          2,
          0,
          1,
          1,
          2,
          1,
          2
         ]
        },
        {
         "customdata": [
          [
           "Melodrama",
           "Green Light"
          ],
          [
           "Melodrama",
           "Sober"
          ],
          [
           "Melodrama",
           "Homemade Dynamite"
          ],
          [
           "Melodrama",
           "The Louvre"
          ],
          [
           "Melodrama",
           "Liability"
          ],
          [
           "Melodrama",
           "Hard Feelings / Loveless"
          ],
          [
           "Melodrama",
           "Sober II (Melodrama)"
          ],
          [
           "Melodrama",
           "Writer In The Dark"
          ],
          [
           "Melodrama",
           "Supercut"
          ],
          [
           "Melodrama",
           "Liability (Reprise)"
          ],
          [
           "Melodrama",
           "Perfect Places"
          ],
          [
           "Melodrama",
           "Homemade Dynamite (remix) (feat. Khalid, SZA & Post Malone)"
          ]
         ],
         "hovertemplate": "<b>%{hovertext}</b><br>Album: %{customdata[0]}<br>Cluster: %{z}<br>Song Title: %{customdata[1]}<br>x: %{x}<br>y: %{y}<br>z: %{z}<br><extra></extra>",
         "hovertext": [
          "Melodrama",
          "Melodrama",
          "Melodrama",
          "Melodrama",
          "Melodrama",
          "Melodrama",
          "Melodrama",
          "Melodrama",
          "Melodrama",
          "Melodrama",
          "Melodrama",
          "Melodrama"
         ],
         "legendgroup": "Melodrama",
         "marker": {
          "color": "#EF553B",
          "size": [
           1,
           1,
           1,
           1,
           1,
           1,
           1,
           1,
           1,
           1,
           1,
           1
          ],
          "sizemode": "area",
          "sizeref": 0.01,
          "symbol": "circle"
         },
         "mode": "markers",
         "name": "Melodrama",
         "scene": "scene",
         "showlegend": true,
         "type": "scatter3d",
         "x": [
          102.14610290527344,
          -195.43702697753906,
          53.85662841796875,
          -8.455700874328613,
          31.293359756469727,
          68.7645263671875,
          -218.92881774902344,
          91.80695343017578,
          -35.6196174621582,
          19.616779327392578,
          -171.78753662109375,
          65.60858917236328
         ],
         "y": [
          47.31434631347656,
          51.026187896728516,
          -62.922767639160156,
          -21.011991500854492,
          -179.38490295410156,
          -172.66818237304688,
          46.35393524169922,
          -192.5198516845703,
          17.47945785522461,
          -199.9154815673828,
          75.86263275146484,
          -81.1435775756836
         ],
         "z": [
          2,
          2,
          2,
          2,
          2,
          2,
          2,
          2,
          0,
          2,
          1,
          2
         ]
        },
        {
         "customdata": [
          [
           "Solar Power",
           "The Path"
          ],
          [
           "Solar Power",
           "Solar Power"
          ],
          [
           "Solar Power",
           "California"
          ],
          [
           "Solar Power",
           "Stoned At The Nail Salon"
          ],
          [
           "Solar Power",
           "Fallen Fruit"
          ],
          [
           "Solar Power",
           "Secrets from a Girl (Who's Seen it All)"
          ],
          [
           "Solar Power",
           "Stoned At The Nail Salon"
          ],
          [
           "Solar Power",
           "Dominoes"
          ],
          [
           "Solar Power",
           "White Teeth Teens"
          ],
          [
           "Solar Power",
           "Leader Of a New Regime"
          ],
          [
           "Solar Power",
           "Mood Ring"
          ],
          [
           "Solar Power",
           "Oceanic Feeling"
          ]
         ],
         "hovertemplate": "<b>%{hovertext}</b><br>Album: %{customdata[0]}<br>Cluster: %{z}<br>Song Title: %{customdata[1]}<br>x: %{x}<br>y: %{y}<br>z: %{z}<br><extra></extra>",
         "hovertext": [
          "Solar Power",
          "Solar Power",
          "Solar Power",
          "Solar Power",
          "Solar Power",
          "Solar Power",
          "Solar Power",
          "Solar Power",
          "Solar Power",
          "Solar Power",
          "Solar Power",
          "Solar Power"
         ],
         "legendgroup": "Solar Power",
         "marker": {
          "color": "#00cc96",
          "size": [
           1,
           1,
           1,
           1,
           1,
           1,
           1,
           1,
           1,
           1,
           1,
           1
          ],
          "sizemode": "area",
          "sizeref": 0.01,
          "symbol": "circle"
         },
         "mode": "markers",
         "name": "Solar Power",
         "scene": "scene",
         "showlegend": true,
         "type": "scatter3d",
         "x": [
          37.060707092285156,
          55.884361267089844,
          94.45991516113281,
          129.12680053710938,
          43.12480545043945,
          18.880691528320312,
          131.97459411621094,
          169.55332946777344,
          -96.63589477539062,
          9.71931266784668,
          -124.45819091796875,
          -107.13045501708984
         ],
         "y": [
          195.90090942382812,
          213.64784240722656,
          -6.483456611633301,
          9.278663635253906,
          158.11390686035156,
          -148.4621124267578,
          -11.752095222473145,
          12.673681259155273,
          143.62559509277344,
          205.33717346191406,
          -40.1426887512207,
          -24.99020767211914
         ],
         "z": [
          0,
          0,
          0,
          0,
          0,
          2,
          0,
          0,
          1,
          1,
          2,
          0
         ]
        }
       ],
       "layout": {
        "height": 800,
        "legend": {
         "itemsizing": "constant",
         "title": {
          "text": "album"
         },
         "tracegroupgap": 0
        },
        "scene": {
         "domain": {
          "x": [
           0,
           1
          ],
          "y": [
           0,
           1
          ]
         },
         "xaxis": {
          "title": {
           "text": "embeddings_x"
          }
         },
         "yaxis": {
          "title": {
           "text": "embeddings_y"
          }
         },
         "zaxis": {
          "title": {
           "text": "cluster"
          }
         }
        },
        "template": {
         "data": {
          "bar": [
           {
            "error_x": {
             "color": "#2a3f5f"
            },
            "error_y": {
             "color": "#2a3f5f"
            },
            "marker": {
             "line": {
              "color": "#E5ECF6",
              "width": 0.5
             },
             "pattern": {
              "fillmode": "overlay",
              "size": 10,
              "solidity": 0.2
             }
            },
            "type": "bar"
           }
          ],
          "barpolar": [
           {
            "marker": {
             "line": {
              "color": "#E5ECF6",
              "width": 0.5
             },
             "pattern": {
              "fillmode": "overlay",
              "size": 10,
              "solidity": 0.2
             }
            },
            "type": "barpolar"
           }
          ],
          "carpet": [
           {
            "aaxis": {
             "endlinecolor": "#2a3f5f",
             "gridcolor": "white",
             "linecolor": "white",
             "minorgridcolor": "white",
             "startlinecolor": "#2a3f5f"
            },
            "baxis": {
             "endlinecolor": "#2a3f5f",
             "gridcolor": "white",
             "linecolor": "white",
             "minorgridcolor": "white",
             "startlinecolor": "#2a3f5f"
            },
            "type": "carpet"
           }
          ],
          "choropleth": [
           {
            "colorbar": {
             "outlinewidth": 0,
             "ticks": ""
            },
            "type": "choropleth"
           }
          ],
          "contour": [
           {
            "colorbar": {
             "outlinewidth": 0,
             "ticks": ""
            },
            "colorscale": [
             [
              0,
              "#0d0887"
             ],
             [
              0.1111111111111111,
              "#46039f"
             ],
             [
              0.2222222222222222,
              "#7201a8"
             ],
             [
              0.3333333333333333,
              "#9c179e"
             ],
             [
              0.4444444444444444,
              "#bd3786"
             ],
             [
              0.5555555555555556,
              "#d8576b"
             ],
             [
              0.6666666666666666,
              "#ed7953"
             ],
             [
              0.7777777777777778,
              "#fb9f3a"
             ],
             [
              0.8888888888888888,
              "#fdca26"
             ],
             [
              1,
              "#f0f921"
             ]
            ],
            "type": "contour"
           }
          ],
          "contourcarpet": [
           {
            "colorbar": {
             "outlinewidth": 0,
             "ticks": ""
            },
            "type": "contourcarpet"
           }
          ],
          "heatmap": [
           {
            "colorbar": {
             "outlinewidth": 0,
             "ticks": ""
            },
            "colorscale": [
             [
              0,
              "#0d0887"
             ],
             [
              0.1111111111111111,
              "#46039f"
             ],
             [
              0.2222222222222222,
              "#7201a8"
             ],
             [
              0.3333333333333333,
              "#9c179e"
             ],
             [
              0.4444444444444444,
              "#bd3786"
             ],
             [
              0.5555555555555556,
              "#d8576b"
             ],
             [
              0.6666666666666666,
              "#ed7953"
             ],
             [
              0.7777777777777778,
              "#fb9f3a"
             ],
             [
              0.8888888888888888,
              "#fdca26"
             ],
             [
              1,
              "#f0f921"
             ]
            ],
            "type": "heatmap"
           }
          ],
          "heatmapgl": [
           {
            "colorbar": {
             "outlinewidth": 0,
             "ticks": ""
            },
            "colorscale": [
             [
              0,
              "#0d0887"
             ],
             [
              0.1111111111111111,
              "#46039f"
             ],
             [
              0.2222222222222222,
              "#7201a8"
             ],
             [
              0.3333333333333333,
              "#9c179e"
             ],
             [
              0.4444444444444444,
              "#bd3786"
             ],
             [
              0.5555555555555556,
              "#d8576b"
             ],
             [
              0.6666666666666666,
              "#ed7953"
             ],
             [
              0.7777777777777778,
              "#fb9f3a"
             ],
             [
              0.8888888888888888,
              "#fdca26"
             ],
             [
              1,
              "#f0f921"
             ]
            ],
            "type": "heatmapgl"
           }
          ],
          "histogram": [
           {
            "marker": {
             "pattern": {
              "fillmode": "overlay",
              "size": 10,
              "solidity": 0.2
             }
            },
            "type": "histogram"
           }
          ],
          "histogram2d": [
           {
            "colorbar": {
             "outlinewidth": 0,
             "ticks": ""
            },
            "colorscale": [
             [
              0,
              "#0d0887"
             ],
             [
              0.1111111111111111,
              "#46039f"
             ],
             [
              0.2222222222222222,
              "#7201a8"
             ],
             [
              0.3333333333333333,
              "#9c179e"
             ],
             [
              0.4444444444444444,
              "#bd3786"
             ],
             [
              0.5555555555555556,
              "#d8576b"
             ],
             [
              0.6666666666666666,
              "#ed7953"
             ],
             [
              0.7777777777777778,
              "#fb9f3a"
             ],
             [
              0.8888888888888888,
              "#fdca26"
             ],
             [
              1,
              "#f0f921"
             ]
            ],
            "type": "histogram2d"
           }
          ],
          "histogram2dcontour": [
           {
            "colorbar": {
             "outlinewidth": 0,
             "ticks": ""
            },
            "colorscale": [
             [
              0,
              "#0d0887"
             ],
             [
              0.1111111111111111,
              "#46039f"
             ],
             [
              0.2222222222222222,
              "#7201a8"
             ],
             [
              0.3333333333333333,
              "#9c179e"
             ],
             [
              0.4444444444444444,
              "#bd3786"
             ],
             [
              0.5555555555555556,
              "#d8576b"
             ],
             [
              0.6666666666666666,
              "#ed7953"
             ],
             [
              0.7777777777777778,
              "#fb9f3a"
             ],
             [
              0.8888888888888888,
              "#fdca26"
             ],
             [
              1,
              "#f0f921"
             ]
            ],
            "type": "histogram2dcontour"
           }
          ],
          "mesh3d": [
           {
            "colorbar": {
             "outlinewidth": 0,
             "ticks": ""
            },
            "type": "mesh3d"
           }
          ],
          "parcoords": [
           {
            "line": {
             "colorbar": {
              "outlinewidth": 0,
              "ticks": ""
             }
            },
            "type": "parcoords"
           }
          ],
          "pie": [
           {
            "automargin": true,
            "type": "pie"
           }
          ],
          "scatter": [
           {
            "fillpattern": {
             "fillmode": "overlay",
             "size": 10,
             "solidity": 0.2
            },
            "type": "scatter"
           }
          ],
          "scatter3d": [
           {
            "line": {
             "colorbar": {
              "outlinewidth": 0,
              "ticks": ""
             }
            },
            "marker": {
             "colorbar": {
              "outlinewidth": 0,
              "ticks": ""
             }
            },
            "type": "scatter3d"
           }
          ],
          "scattercarpet": [
           {
            "marker": {
             "colorbar": {
              "outlinewidth": 0,
              "ticks": ""
             }
            },
            "type": "scattercarpet"
           }
          ],
          "scattergeo": [
           {
            "marker": {
             "colorbar": {
              "outlinewidth": 0,
              "ticks": ""
             }
            },
            "type": "scattergeo"
           }
          ],
          "scattergl": [
           {
            "marker": {
             "colorbar": {
              "outlinewidth": 0,
              "ticks": ""
             }
            },
            "type": "scattergl"
           }
          ],
          "scattermapbox": [
           {
            "marker": {
             "colorbar": {
              "outlinewidth": 0,
              "ticks": ""
             }
            },
            "type": "scattermapbox"
           }
          ],
          "scatterpolar": [
           {
            "marker": {
             "colorbar": {
              "outlinewidth": 0,
              "ticks": ""
             }
            },
            "type": "scatterpolar"
           }
          ],
          "scatterpolargl": [
           {
            "marker": {
             "colorbar": {
              "outlinewidth": 0,
              "ticks": ""
             }
            },
            "type": "scatterpolargl"
           }
          ],
          "scatterternary": [
           {
            "marker": {
             "colorbar": {
              "outlinewidth": 0,
              "ticks": ""
             }
            },
            "type": "scatterternary"
           }
          ],
          "surface": [
           {
            "colorbar": {
             "outlinewidth": 0,
             "ticks": ""
            },
            "colorscale": [
             [
              0,
              "#0d0887"
             ],
             [
              0.1111111111111111,
              "#46039f"
             ],
             [
              0.2222222222222222,
              "#7201a8"
             ],
             [
              0.3333333333333333,
              "#9c179e"
             ],
             [
              0.4444444444444444,
              "#bd3786"
             ],
             [
              0.5555555555555556,
              "#d8576b"
             ],
             [
              0.6666666666666666,
              "#ed7953"
             ],
             [
              0.7777777777777778,
              "#fb9f3a"
             ],
             [
              0.8888888888888888,
              "#fdca26"
             ],
             [
              1,
              "#f0f921"
             ]
            ],
            "type": "surface"
           }
          ],
          "table": [
           {
            "cells": {
             "fill": {
              "color": "#EBF0F8"
             },
             "line": {
              "color": "white"
             }
            },
            "header": {
             "fill": {
              "color": "#C8D4E3"
             },
             "line": {
              "color": "white"
             }
            },
            "type": "table"
           }
          ]
         },
         "layout": {
          "annotationdefaults": {
           "arrowcolor": "#2a3f5f",
           "arrowhead": 0,
           "arrowwidth": 1
          },
          "autotypenumbers": "strict",
          "coloraxis": {
           "colorbar": {
            "outlinewidth": 0,
            "ticks": ""
           }
          },
          "colorscale": {
           "diverging": [
            [
             0,
             "#8e0152"
            ],
            [
             0.1,
             "#c51b7d"
            ],
            [
             0.2,
             "#de77ae"
            ],
            [
             0.3,
             "#f1b6da"
            ],
            [
             0.4,
             "#fde0ef"
            ],
            [
             0.5,
             "#f7f7f7"
            ],
            [
             0.6,
             "#e6f5d0"
            ],
            [
             0.7,
             "#b8e186"
            ],
            [
             0.8,
             "#7fbc41"
            ],
            [
             0.9,
             "#4d9221"
            ],
            [
             1,
             "#276419"
            ]
           ],
           "sequential": [
            [
             0,
             "#0d0887"
            ],
            [
             0.1111111111111111,
             "#46039f"
            ],
            [
             0.2222222222222222,
             "#7201a8"
            ],
            [
             0.3333333333333333,
             "#9c179e"
            ],
            [
             0.4444444444444444,
             "#bd3786"
            ],
            [
             0.5555555555555556,
             "#d8576b"
            ],
            [
             0.6666666666666666,
             "#ed7953"
            ],
            [
             0.7777777777777778,
             "#fb9f3a"
            ],
            [
             0.8888888888888888,
             "#fdca26"
            ],
            [
             1,
             "#f0f921"
            ]
           ],
           "sequentialminus": [
            [
             0,
             "#0d0887"
            ],
            [
             0.1111111111111111,
             "#46039f"
            ],
            [
             0.2222222222222222,
             "#7201a8"
            ],
            [
             0.3333333333333333,
             "#9c179e"
            ],
            [
             0.4444444444444444,
             "#bd3786"
            ],
            [
             0.5555555555555556,
             "#d8576b"
            ],
            [
             0.6666666666666666,
             "#ed7953"
            ],
            [
             0.7777777777777778,
             "#fb9f3a"
            ],
            [
             0.8888888888888888,
             "#fdca26"
            ],
            [
             1,
             "#f0f921"
            ]
           ]
          },
          "colorway": [
           "#636efa",
           "#EF553B",
           "#00cc96",
           "#ab63fa",
           "#FFA15A",
           "#19d3f3",
           "#FF6692",
           "#B6E880",
           "#FF97FF",
           "#FECB52"
          ],
          "font": {
           "color": "#2a3f5f"
          },
          "geo": {
           "bgcolor": "white",
           "lakecolor": "white",
           "landcolor": "#E5ECF6",
           "showlakes": true,
           "showland": true,
           "subunitcolor": "white"
          },
          "hoverlabel": {
           "align": "left"
          },
          "hovermode": "closest",
          "mapbox": {
           "style": "light"
          },
          "paper_bgcolor": "white",
          "plot_bgcolor": "#E5ECF6",
          "polar": {
           "angularaxis": {
            "gridcolor": "white",
            "linecolor": "white",
            "ticks": ""
           },
           "bgcolor": "#E5ECF6",
           "radialaxis": {
            "gridcolor": "white",
            "linecolor": "white",
            "ticks": ""
           }
          },
          "scene": {
           "xaxis": {
            "backgroundcolor": "#E5ECF6",
            "gridcolor": "white",
            "gridwidth": 2,
            "linecolor": "white",
            "showbackground": true,
            "ticks": "",
            "zerolinecolor": "white"
           },
           "yaxis": {
            "backgroundcolor": "#E5ECF6",
            "gridcolor": "white",
            "gridwidth": 2,
            "linecolor": "white",
            "showbackground": true,
            "ticks": "",
            "zerolinecolor": "white"
           },
           "zaxis": {
            "backgroundcolor": "#E5ECF6",
            "gridcolor": "white",
            "gridwidth": 2,
            "linecolor": "white",
            "showbackground": true,
            "ticks": "",
            "zerolinecolor": "white"
           }
          },
          "shapedefaults": {
           "line": {
            "color": "#2a3f5f"
           }
          },
          "ternary": {
           "aaxis": {
            "gridcolor": "white",
            "linecolor": "white",
            "ticks": ""
           },
           "baxis": {
            "gridcolor": "white",
            "linecolor": "white",
            "ticks": ""
           },
           "bgcolor": "#E5ECF6",
           "caxis": {
            "gridcolor": "white",
            "linecolor": "white",
            "ticks": ""
           }
          },
          "title": {
           "x": 0.05
          },
          "xaxis": {
           "automargin": true,
           "gridcolor": "white",
           "linecolor": "white",
           "ticks": "",
           "title": {
            "standoff": 15
           },
           "zerolinecolor": "white",
           "zerolinewidth": 2
          },
          "yaxis": {
           "automargin": true,
           "gridcolor": "white",
           "linecolor": "white",
           "ticks": "",
           "title": {
            "standoff": 15
           },
           "zerolinecolor": "white",
           "zerolinewidth": 2
          }
         }
        },
        "title": {
         "text": "Song coordinates in 2D space - lorde lyrics"
        },
        "width": 1200
       }
      }
     },
     "metadata": {},
     "output_type": "display_data"
    }
   ],
   "source": [
    "pt.plot_clusters()"
   ]
  },
  {
   "cell_type": "code",
   "execution_count": 12,
   "metadata": {},
   "outputs": [
    {
     "name": "stdout",
     "output_type": "stream",
     "text": [
      "Rand score: 0.6844919786096256\n"
     ]
    }
   ],
   "source": [
    "pt.get_rand_score()"
   ]
  },
  {
   "attachments": {},
   "cell_type": "markdown",
   "metadata": {},
   "source": [
    "## Song titles embeddings"
   ]
  },
  {
   "cell_type": "code",
   "execution_count": 13,
   "metadata": {},
   "outputs": [
    {
     "name": "stderr",
     "output_type": "stream",
     "text": [
      "/Users/luisa/Library/Python/3.9/lib/python/site-packages/sklearn/cluster/_kmeans.py:870: FutureWarning:\n",
      "\n",
      "The default value of `n_init` will change from 10 to 'auto' in 1.4. Set the value of `n_init` explicitly to suppress the warning\n",
      "\n"
     ]
    }
   ],
   "source": [
    "pt = Plot(discography, column=\"song_title\")"
   ]
  },
  {
   "cell_type": "code",
   "execution_count": 14,
   "metadata": {},
   "outputs": [
    {
     "name": "stdout",
     "output_type": "stream",
     "text": [
      "cluster  album       \n",
      "0        Melodrama       2\n",
      "         Pure Heroine    3\n",
      "         Solar Power     1\n",
      "1        Melodrama       7\n",
      "         Pure Heroine    3\n",
      "         Solar Power     5\n",
      "2        Melodrama       3\n",
      "         Pure Heroine    4\n",
      "         Solar Power     6\n",
      "dtype: int64\n"
     ]
    },
    {
     "data": {
      "application/vnd.plotly.v1+json": {
       "config": {
        "plotlyServerURL": "https://plot.ly"
       },
       "data": [
        {
         "customdata": [
          [
           "Pure Heroine",
           "Tennis Court"
          ],
          [
           "Pure Heroine",
           "400 Lux"
          ],
          [
           "Pure Heroine",
           "Royals"
          ],
          [
           "Pure Heroine",
           "Ribs"
          ],
          [
           "Pure Heroine",
           "Buzzcut Season"
          ],
          [
           "Pure Heroine",
           "Team"
          ],
          [
           "Pure Heroine",
           "Glory And Gore"
          ],
          [
           "Pure Heroine",
           "Still Sane"
          ],
          [
           "Pure Heroine",
           "White Teeth Teens"
          ],
          [
           "Pure Heroine",
           "A World Alone"
          ]
         ],
         "hovertemplate": "<b>%{hovertext}</b><br>Album: %{customdata[0]}<br>Cluster: %{z}<br>Song Title: %{customdata[1]}<br>x: %{x}<br>y: %{y}<br>z: %{z}<br><extra></extra>",
         "hovertext": [
          "Pure Heroine",
          "Pure Heroine",
          "Pure Heroine",
          "Pure Heroine",
          "Pure Heroine",
          "Pure Heroine",
          "Pure Heroine",
          "Pure Heroine",
          "Pure Heroine",
          "Pure Heroine"
         ],
         "legendgroup": "Pure Heroine",
         "marker": {
          "color": "#636efa",
          "size": [
           1,
           1,
           1,
           1,
           1,
           1,
           1,
           1,
           1,
           1
          ],
          "sizemode": "area",
          "sizeref": 0.01,
          "symbol": "circle"
         },
         "mode": "markers",
         "name": "Pure Heroine",
         "scene": "scene",
         "showlegend": true,
         "type": "scatter3d",
         "x": [
          143.15835571289062,
          43.94013595581055,
          -60.30796432495117,
          -87.29080200195312,
          -161.77642822265625,
          -108.23419189453125,
          21.46196746826172,
          -55.73965835571289,
          -213.28338623046875,
          108.09623718261719
         ],
         "y": [
          -57.662681579589844,
          170.4110565185547,
          136.86962890625,
          147.9976806640625,
          -97.81051635742188,
          107.42284393310547,
          -46.79170227050781,
          34.859031677246094,
          24.2584285736084,
          -142.2148895263672
         ],
         "z": [
          2,
          0,
          0,
          0,
          2,
          2,
          1,
          1,
          2,
          1
         ]
        },
        {
         "customdata": [
          [
           "Melodrama",
           "Green Light"
          ],
          [
           "Melodrama",
           "Sober"
          ],
          [
           "Melodrama",
           "Homemade Dynamite"
          ],
          [
           "Melodrama",
           "The Louvre"
          ],
          [
           "Melodrama",
           "Liability"
          ],
          [
           "Melodrama",
           "Hard Feelings / Loveless"
          ],
          [
           "Melodrama",
           "Sober II (Melodrama)"
          ],
          [
           "Melodrama",
           "Writer In The Dark"
          ],
          [
           "Melodrama",
           "Supercut"
          ],
          [
           "Melodrama",
           "Liability (Reprise)"
          ],
          [
           "Melodrama",
           "Perfect Places"
          ],
          [
           "Melodrama",
           "Homemade Dynamite (remix) (feat. Khalid, SZA & Post Malone)"
          ]
         ],
         "hovertemplate": "<b>%{hovertext}</b><br>Album: %{customdata[0]}<br>Cluster: %{z}<br>Song Title: %{customdata[1]}<br>x: %{x}<br>y: %{y}<br>z: %{z}<br><extra></extra>",
         "hovertext": [
          "Melodrama",
          "Melodrama",
          "Melodrama",
          "Melodrama",
          "Melodrama",
          "Melodrama",
          "Melodrama",
          "Melodrama",
          "Melodrama",
          "Melodrama",
          "Melodrama",
          "Melodrama"
         ],
         "legendgroup": "Melodrama",
         "marker": {
          "color": "#EF553B",
          "size": [
           1,
           1,
           1,
           1,
           1,
           1,
           1,
           1,
           1,
           1,
           1,
           1
          ],
          "sizemode": "area",
          "sizeref": 0.01,
          "symbol": "circle"
         },
         "mode": "markers",
         "name": "Melodrama",
         "scene": "scene",
         "showlegend": true,
         "type": "scatter3d",
         "x": [
          14.127301216125488,
          -32.06451416015625,
          -85.06562805175781,
          182.21214294433594,
          152.15493774414062,
          93.53364562988281,
          -5.28041934967041,
          126.68218231201172,
          -182.0206298828125,
          -98.51763916015625,
          131.85992431640625,
          -72.72439575195312
         ],
         "y": [
          149.06019592285156,
          16.45212173461914,
          -70.41304779052734,
          -87.50227355957031,
          272.4111022949219,
          35.4423713684082,
          -5.3308234214782715,
          -207.27041625976562,
          -113.58341979980469,
          265.9112243652344,
          -95.36663818359375,
          -44.452789306640625
         ],
         "z": [
          0,
          1,
          2,
          2,
          0,
          1,
          1,
          1,
          1,
          1,
          2,
          1
         ]
        },
        {
         "customdata": [
          [
           "Solar Power",
           "The Path"
          ],
          [
           "Solar Power",
           "Solar Power"
          ],
          [
           "Solar Power",
           "California"
          ],
          [
           "Solar Power",
           "Stoned At The Nail Salon"
          ],
          [
           "Solar Power",
           "Fallen Fruit"
          ],
          [
           "Solar Power",
           "Secrets from a Girl (Who's Seen it All)"
          ],
          [
           "Solar Power",
           "Stoned At The Nail Salon"
          ],
          [
           "Solar Power",
           "Dominoes"
          ],
          [
           "Solar Power",
           "White Teeth Teens"
          ],
          [
           "Solar Power",
           "Leader Of a New Regime"
          ],
          [
           "Solar Power",
           "Mood Ring"
          ],
          [
           "Solar Power",
           "Oceanic Feeling"
          ]
         ],
         "hovertemplate": "<b>%{hovertext}</b><br>Album: %{customdata[0]}<br>Cluster: %{z}<br>Song Title: %{customdata[1]}<br>x: %{x}<br>y: %{y}<br>z: %{z}<br><extra></extra>",
         "hovertext": [
          "Solar Power",
          "Solar Power",
          "Solar Power",
          "Solar Power",
          "Solar Power",
          "Solar Power",
          "Solar Power",
          "Solar Power",
          "Solar Power",
          "Solar Power",
          "Solar Power",
          "Solar Power"
         ],
         "legendgroup": "Solar Power",
         "marker": {
          "color": "#00cc96",
          "size": [
           1,
           1,
           1,
           1,
           1,
           1,
           1,
           1,
           1,
           1,
           1,
           1
          ],
          "sizemode": "area",
          "sizeref": 0.01,
          "symbol": "circle"
         },
         "mode": "markers",
         "name": "Solar Power",
         "scene": "scene",
         "showlegend": true,
         "type": "scatter3d",
         "x": [
          101.537841796875,
          183.4036407470703,
          -23.37164306640625,
          -55.38651657104492,
          62.262062072753906,
          89.31135559082031,
          -55.38651657104492,
          45.23089599609375,
          -188.4380645751953,
          -1.9848276376724243,
          24.26837921142578,
          76.99947357177734
         ],
         "y": [
          -98.81304931640625,
          16.962446212768555,
          142.95822143554688,
          -156.73251342773438,
          -70.4837875366211,
          -192.79579162597656,
          -156.73251342773438,
          -126.26688385009766,
          17.862627029418945,
          -76.69010925292969,
          38.10309982299805,
          58.09723663330078
         ],
         "z": [
          1,
          2,
          0,
          2,
          2,
          1,
          2,
          2,
          2,
          1,
          1,
          1
         ]
        }
       ],
       "layout": {
        "height": 800,
        "legend": {
         "itemsizing": "constant",
         "title": {
          "text": "album"
         },
         "tracegroupgap": 0
        },
        "scene": {
         "domain": {
          "x": [
           0,
           1
          ],
          "y": [
           0,
           1
          ]
         },
         "xaxis": {
          "title": {
           "text": "embeddings_x"
          }
         },
         "yaxis": {
          "title": {
           "text": "embeddings_y"
          }
         },
         "zaxis": {
          "title": {
           "text": "cluster"
          }
         }
        },
        "template": {
         "data": {
          "bar": [
           {
            "error_x": {
             "color": "#2a3f5f"
            },
            "error_y": {
             "color": "#2a3f5f"
            },
            "marker": {
             "line": {
              "color": "#E5ECF6",
              "width": 0.5
             },
             "pattern": {
              "fillmode": "overlay",
              "size": 10,
              "solidity": 0.2
             }
            },
            "type": "bar"
           }
          ],
          "barpolar": [
           {
            "marker": {
             "line": {
              "color": "#E5ECF6",
              "width": 0.5
             },
             "pattern": {
              "fillmode": "overlay",
              "size": 10,
              "solidity": 0.2
             }
            },
            "type": "barpolar"
           }
          ],
          "carpet": [
           {
            "aaxis": {
             "endlinecolor": "#2a3f5f",
             "gridcolor": "white",
             "linecolor": "white",
             "minorgridcolor": "white",
             "startlinecolor": "#2a3f5f"
            },
            "baxis": {
             "endlinecolor": "#2a3f5f",
             "gridcolor": "white",
             "linecolor": "white",
             "minorgridcolor": "white",
             "startlinecolor": "#2a3f5f"
            },
            "type": "carpet"
           }
          ],
          "choropleth": [
           {
            "colorbar": {
             "outlinewidth": 0,
             "ticks": ""
            },
            "type": "choropleth"
           }
          ],
          "contour": [
           {
            "colorbar": {
             "outlinewidth": 0,
             "ticks": ""
            },
            "colorscale": [
             [
              0,
              "#0d0887"
             ],
             [
              0.1111111111111111,
              "#46039f"
             ],
             [
              0.2222222222222222,
              "#7201a8"
             ],
             [
              0.3333333333333333,
              "#9c179e"
             ],
             [
              0.4444444444444444,
              "#bd3786"
             ],
             [
              0.5555555555555556,
              "#d8576b"
             ],
             [
              0.6666666666666666,
              "#ed7953"
             ],
             [
              0.7777777777777778,
              "#fb9f3a"
             ],
             [
              0.8888888888888888,
              "#fdca26"
             ],
             [
              1,
              "#f0f921"
             ]
            ],
            "type": "contour"
           }
          ],
          "contourcarpet": [
           {
            "colorbar": {
             "outlinewidth": 0,
             "ticks": ""
            },
            "type": "contourcarpet"
           }
          ],
          "heatmap": [
           {
            "colorbar": {
             "outlinewidth": 0,
             "ticks": ""
            },
            "colorscale": [
             [
              0,
              "#0d0887"
             ],
             [
              0.1111111111111111,
              "#46039f"
             ],
             [
              0.2222222222222222,
              "#7201a8"
             ],
             [
              0.3333333333333333,
              "#9c179e"
             ],
             [
              0.4444444444444444,
              "#bd3786"
             ],
             [
              0.5555555555555556,
              "#d8576b"
             ],
             [
              0.6666666666666666,
              "#ed7953"
             ],
             [
              0.7777777777777778,
              "#fb9f3a"
             ],
             [
              0.8888888888888888,
              "#fdca26"
             ],
             [
              1,
              "#f0f921"
             ]
            ],
            "type": "heatmap"
           }
          ],
          "heatmapgl": [
           {
            "colorbar": {
             "outlinewidth": 0,
             "ticks": ""
            },
            "colorscale": [
             [
              0,
              "#0d0887"
             ],
             [
              0.1111111111111111,
              "#46039f"
             ],
             [
              0.2222222222222222,
              "#7201a8"
             ],
             [
              0.3333333333333333,
              "#9c179e"
             ],
             [
              0.4444444444444444,
              "#bd3786"
             ],
             [
              0.5555555555555556,
              "#d8576b"
             ],
             [
              0.6666666666666666,
              "#ed7953"
             ],
             [
              0.7777777777777778,
              "#fb9f3a"
             ],
             [
              0.8888888888888888,
              "#fdca26"
             ],
             [
              1,
              "#f0f921"
             ]
            ],
            "type": "heatmapgl"
           }
          ],
          "histogram": [
           {
            "marker": {
             "pattern": {
              "fillmode": "overlay",
              "size": 10,
              "solidity": 0.2
             }
            },
            "type": "histogram"
           }
          ],
          "histogram2d": [
           {
            "colorbar": {
             "outlinewidth": 0,
             "ticks": ""
            },
            "colorscale": [
             [
              0,
              "#0d0887"
             ],
             [
              0.1111111111111111,
              "#46039f"
             ],
             [
              0.2222222222222222,
              "#7201a8"
             ],
             [
              0.3333333333333333,
              "#9c179e"
             ],
             [
              0.4444444444444444,
              "#bd3786"
             ],
             [
              0.5555555555555556,
              "#d8576b"
             ],
             [
              0.6666666666666666,
              "#ed7953"
             ],
             [
              0.7777777777777778,
              "#fb9f3a"
             ],
             [
              0.8888888888888888,
              "#fdca26"
             ],
             [
              1,
              "#f0f921"
             ]
            ],
            "type": "histogram2d"
           }
          ],
          "histogram2dcontour": [
           {
            "colorbar": {
             "outlinewidth": 0,
             "ticks": ""
            },
            "colorscale": [
             [
              0,
              "#0d0887"
             ],
             [
              0.1111111111111111,
              "#46039f"
             ],
             [
              0.2222222222222222,
              "#7201a8"
             ],
             [
              0.3333333333333333,
              "#9c179e"
             ],
             [
              0.4444444444444444,
              "#bd3786"
             ],
             [
              0.5555555555555556,
              "#d8576b"
             ],
             [
              0.6666666666666666,
              "#ed7953"
             ],
             [
              0.7777777777777778,
              "#fb9f3a"
             ],
             [
              0.8888888888888888,
              "#fdca26"
             ],
             [
              1,
              "#f0f921"
             ]
            ],
            "type": "histogram2dcontour"
           }
          ],
          "mesh3d": [
           {
            "colorbar": {
             "outlinewidth": 0,
             "ticks": ""
            },
            "type": "mesh3d"
           }
          ],
          "parcoords": [
           {
            "line": {
             "colorbar": {
              "outlinewidth": 0,
              "ticks": ""
             }
            },
            "type": "parcoords"
           }
          ],
          "pie": [
           {
            "automargin": true,
            "type": "pie"
           }
          ],
          "scatter": [
           {
            "fillpattern": {
             "fillmode": "overlay",
             "size": 10,
             "solidity": 0.2
            },
            "type": "scatter"
           }
          ],
          "scatter3d": [
           {
            "line": {
             "colorbar": {
              "outlinewidth": 0,
              "ticks": ""
             }
            },
            "marker": {
             "colorbar": {
              "outlinewidth": 0,
              "ticks": ""
             }
            },
            "type": "scatter3d"
           }
          ],
          "scattercarpet": [
           {
            "marker": {
             "colorbar": {
              "outlinewidth": 0,
              "ticks": ""
             }
            },
            "type": "scattercarpet"
           }
          ],
          "scattergeo": [
           {
            "marker": {
             "colorbar": {
              "outlinewidth": 0,
              "ticks": ""
             }
            },
            "type": "scattergeo"
           }
          ],
          "scattergl": [
           {
            "marker": {
             "colorbar": {
              "outlinewidth": 0,
              "ticks": ""
             }
            },
            "type": "scattergl"
           }
          ],
          "scattermapbox": [
           {
            "marker": {
             "colorbar": {
              "outlinewidth": 0,
              "ticks": ""
             }
            },
            "type": "scattermapbox"
           }
          ],
          "scatterpolar": [
           {
            "marker": {
             "colorbar": {
              "outlinewidth": 0,
              "ticks": ""
             }
            },
            "type": "scatterpolar"
           }
          ],
          "scatterpolargl": [
           {
            "marker": {
             "colorbar": {
              "outlinewidth": 0,
              "ticks": ""
             }
            },
            "type": "scatterpolargl"
           }
          ],
          "scatterternary": [
           {
            "marker": {
             "colorbar": {
              "outlinewidth": 0,
              "ticks": ""
             }
            },
            "type": "scatterternary"
           }
          ],
          "surface": [
           {
            "colorbar": {
             "outlinewidth": 0,
             "ticks": ""
            },
            "colorscale": [
             [
              0,
              "#0d0887"
             ],
             [
              0.1111111111111111,
              "#46039f"
             ],
             [
              0.2222222222222222,
              "#7201a8"
             ],
             [
              0.3333333333333333,
              "#9c179e"
             ],
             [
              0.4444444444444444,
              "#bd3786"
             ],
             [
              0.5555555555555556,
              "#d8576b"
             ],
             [
              0.6666666666666666,
              "#ed7953"
             ],
             [
              0.7777777777777778,
              "#fb9f3a"
             ],
             [
              0.8888888888888888,
              "#fdca26"
             ],
             [
              1,
              "#f0f921"
             ]
            ],
            "type": "surface"
           }
          ],
          "table": [
           {
            "cells": {
             "fill": {
              "color": "#EBF0F8"
             },
             "line": {
              "color": "white"
             }
            },
            "header": {
             "fill": {
              "color": "#C8D4E3"
             },
             "line": {
              "color": "white"
             }
            },
            "type": "table"
           }
          ]
         },
         "layout": {
          "annotationdefaults": {
           "arrowcolor": "#2a3f5f",
           "arrowhead": 0,
           "arrowwidth": 1
          },
          "autotypenumbers": "strict",
          "coloraxis": {
           "colorbar": {
            "outlinewidth": 0,
            "ticks": ""
           }
          },
          "colorscale": {
           "diverging": [
            [
             0,
             "#8e0152"
            ],
            [
             0.1,
             "#c51b7d"
            ],
            [
             0.2,
             "#de77ae"
            ],
            [
             0.3,
             "#f1b6da"
            ],
            [
             0.4,
             "#fde0ef"
            ],
            [
             0.5,
             "#f7f7f7"
            ],
            [
             0.6,
             "#e6f5d0"
            ],
            [
             0.7,
             "#b8e186"
            ],
            [
             0.8,
             "#7fbc41"
            ],
            [
             0.9,
             "#4d9221"
            ],
            [
             1,
             "#276419"
            ]
           ],
           "sequential": [
            [
             0,
             "#0d0887"
            ],
            [
             0.1111111111111111,
             "#46039f"
            ],
            [
             0.2222222222222222,
             "#7201a8"
            ],
            [
             0.3333333333333333,
             "#9c179e"
            ],
            [
             0.4444444444444444,
             "#bd3786"
            ],
            [
             0.5555555555555556,
             "#d8576b"
            ],
            [
             0.6666666666666666,
             "#ed7953"
            ],
            [
             0.7777777777777778,
             "#fb9f3a"
            ],
            [
             0.8888888888888888,
             "#fdca26"
            ],
            [
             1,
             "#f0f921"
            ]
           ],
           "sequentialminus": [
            [
             0,
             "#0d0887"
            ],
            [
             0.1111111111111111,
             "#46039f"
            ],
            [
             0.2222222222222222,
             "#7201a8"
            ],
            [
             0.3333333333333333,
             "#9c179e"
            ],
            [
             0.4444444444444444,
             "#bd3786"
            ],
            [
             0.5555555555555556,
             "#d8576b"
            ],
            [
             0.6666666666666666,
             "#ed7953"
            ],
            [
             0.7777777777777778,
             "#fb9f3a"
            ],
            [
             0.8888888888888888,
             "#fdca26"
            ],
            [
             1,
             "#f0f921"
            ]
           ]
          },
          "colorway": [
           "#636efa",
           "#EF553B",
           "#00cc96",
           "#ab63fa",
           "#FFA15A",
           "#19d3f3",
           "#FF6692",
           "#B6E880",
           "#FF97FF",
           "#FECB52"
          ],
          "font": {
           "color": "#2a3f5f"
          },
          "geo": {
           "bgcolor": "white",
           "lakecolor": "white",
           "landcolor": "#E5ECF6",
           "showlakes": true,
           "showland": true,
           "subunitcolor": "white"
          },
          "hoverlabel": {
           "align": "left"
          },
          "hovermode": "closest",
          "mapbox": {
           "style": "light"
          },
          "paper_bgcolor": "white",
          "plot_bgcolor": "#E5ECF6",
          "polar": {
           "angularaxis": {
            "gridcolor": "white",
            "linecolor": "white",
            "ticks": ""
           },
           "bgcolor": "#E5ECF6",
           "radialaxis": {
            "gridcolor": "white",
            "linecolor": "white",
            "ticks": ""
           }
          },
          "scene": {
           "xaxis": {
            "backgroundcolor": "#E5ECF6",
            "gridcolor": "white",
            "gridwidth": 2,
            "linecolor": "white",
            "showbackground": true,
            "ticks": "",
            "zerolinecolor": "white"
           },
           "yaxis": {
            "backgroundcolor": "#E5ECF6",
            "gridcolor": "white",
            "gridwidth": 2,
            "linecolor": "white",
            "showbackground": true,
            "ticks": "",
            "zerolinecolor": "white"
           },
           "zaxis": {
            "backgroundcolor": "#E5ECF6",
            "gridcolor": "white",
            "gridwidth": 2,
            "linecolor": "white",
            "showbackground": true,
            "ticks": "",
            "zerolinecolor": "white"
           }
          },
          "shapedefaults": {
           "line": {
            "color": "#2a3f5f"
           }
          },
          "ternary": {
           "aaxis": {
            "gridcolor": "white",
            "linecolor": "white",
            "ticks": ""
           },
           "baxis": {
            "gridcolor": "white",
            "linecolor": "white",
            "ticks": ""
           },
           "bgcolor": "#E5ECF6",
           "caxis": {
            "gridcolor": "white",
            "linecolor": "white",
            "ticks": ""
           }
          },
          "title": {
           "x": 0.05
          },
          "xaxis": {
           "automargin": true,
           "gridcolor": "white",
           "linecolor": "white",
           "ticks": "",
           "title": {
            "standoff": 15
           },
           "zerolinecolor": "white",
           "zerolinewidth": 2
          },
          "yaxis": {
           "automargin": true,
           "gridcolor": "white",
           "linecolor": "white",
           "ticks": "",
           "title": {
            "standoff": 15
           },
           "zerolinecolor": "white",
           "zerolinewidth": 2
          }
         }
        },
        "title": {
         "text": "Song coordinates in 2D space - lorde song_title"
        },
        "width": 1200
       }
      }
     },
     "metadata": {},
     "output_type": "display_data"
    }
   ],
   "source": [
    "pt.plot_clusters()"
   ]
  },
  {
   "cell_type": "code",
   "execution_count": 15,
   "metadata": {},
   "outputs": [
    {
     "data": {
      "application/vnd.plotly.v1+json": {
       "config": {
        "plotlyServerURL": "https://plot.ly"
       },
       "data": [
        {
         "alignmentgroup": "True",
         "hovertemplate": "Silhouette Score=%{marker.color:.3f}<br>Album=%{y}<extra></extra>",
         "legendgroup": "",
         "marker": {
          "color": [
           0.014210751625396261,
           -0.018554522712650495,
           0.002239316723928998
          ],
          "coloraxis": "coloraxis",
          "pattern": {
           "shape": ""
          }
         },
         "name": "",
         "offsetgroup": "",
         "orientation": "h",
         "showlegend": false,
         "text": [
          0.014210751625396261,
          -0.018554522712650495,
          0.002239316723928998
         ],
         "textposition": "auto",
         "type": "bar",
         "x": [
          0.014210751625396261,
          -0.018554522712650495,
          0.002239316723928998
         ],
         "xaxis": "x",
         "y": [
          "Pure Heroine",
          "Melodrama",
          "Solar Power"
         ],
         "yaxis": "y"
        }
       ],
       "layout": {
        "barmode": "relative",
        "coloraxis": {
         "colorbar": {
          "title": {
           "text": "Silhouette Score"
          }
         },
         "colorscale": [
          [
           0,
           "#0d0887"
          ],
          [
           0.1111111111111111,
           "#46039f"
          ],
          [
           0.2222222222222222,
           "#7201a8"
          ],
          [
           0.3333333333333333,
           "#9c179e"
          ],
          [
           0.4444444444444444,
           "#bd3786"
          ],
          [
           0.5555555555555556,
           "#d8576b"
          ],
          [
           0.6666666666666666,
           "#ed7953"
          ],
          [
           0.7777777777777778,
           "#fb9f3a"
          ],
          [
           0.8888888888888888,
           "#fdca26"
          ],
          [
           1,
           "#f0f921"
          ]
         ]
        },
        "legend": {
         "tracegroupgap": 0
        },
        "template": {
         "data": {
          "bar": [
           {
            "error_x": {
             "color": "#2a3f5f"
            },
            "error_y": {
             "color": "#2a3f5f"
            },
            "marker": {
             "line": {
              "color": "#E5ECF6",
              "width": 0.5
             },
             "pattern": {
              "fillmode": "overlay",
              "size": 10,
              "solidity": 0.2
             }
            },
            "type": "bar"
           }
          ],
          "barpolar": [
           {
            "marker": {
             "line": {
              "color": "#E5ECF6",
              "width": 0.5
             },
             "pattern": {
              "fillmode": "overlay",
              "size": 10,
              "solidity": 0.2
             }
            },
            "type": "barpolar"
           }
          ],
          "carpet": [
           {
            "aaxis": {
             "endlinecolor": "#2a3f5f",
             "gridcolor": "white",
             "linecolor": "white",
             "minorgridcolor": "white",
             "startlinecolor": "#2a3f5f"
            },
            "baxis": {
             "endlinecolor": "#2a3f5f",
             "gridcolor": "white",
             "linecolor": "white",
             "minorgridcolor": "white",
             "startlinecolor": "#2a3f5f"
            },
            "type": "carpet"
           }
          ],
          "choropleth": [
           {
            "colorbar": {
             "outlinewidth": 0,
             "ticks": ""
            },
            "type": "choropleth"
           }
          ],
          "contour": [
           {
            "colorbar": {
             "outlinewidth": 0,
             "ticks": ""
            },
            "colorscale": [
             [
              0,
              "#0d0887"
             ],
             [
              0.1111111111111111,
              "#46039f"
             ],
             [
              0.2222222222222222,
              "#7201a8"
             ],
             [
              0.3333333333333333,
              "#9c179e"
             ],
             [
              0.4444444444444444,
              "#bd3786"
             ],
             [
              0.5555555555555556,
              "#d8576b"
             ],
             [
              0.6666666666666666,
              "#ed7953"
             ],
             [
              0.7777777777777778,
              "#fb9f3a"
             ],
             [
              0.8888888888888888,
              "#fdca26"
             ],
             [
              1,
              "#f0f921"
             ]
            ],
            "type": "contour"
           }
          ],
          "contourcarpet": [
           {
            "colorbar": {
             "outlinewidth": 0,
             "ticks": ""
            },
            "type": "contourcarpet"
           }
          ],
          "heatmap": [
           {
            "colorbar": {
             "outlinewidth": 0,
             "ticks": ""
            },
            "colorscale": [
             [
              0,
              "#0d0887"
             ],
             [
              0.1111111111111111,
              "#46039f"
             ],
             [
              0.2222222222222222,
              "#7201a8"
             ],
             [
              0.3333333333333333,
              "#9c179e"
             ],
             [
              0.4444444444444444,
              "#bd3786"
             ],
             [
              0.5555555555555556,
              "#d8576b"
             ],
             [
              0.6666666666666666,
              "#ed7953"
             ],
             [
              0.7777777777777778,
              "#fb9f3a"
             ],
             [
              0.8888888888888888,
              "#fdca26"
             ],
             [
              1,
              "#f0f921"
             ]
            ],
            "type": "heatmap"
           }
          ],
          "heatmapgl": [
           {
            "colorbar": {
             "outlinewidth": 0,
             "ticks": ""
            },
            "colorscale": [
             [
              0,
              "#0d0887"
             ],
             [
              0.1111111111111111,
              "#46039f"
             ],
             [
              0.2222222222222222,
              "#7201a8"
             ],
             [
              0.3333333333333333,
              "#9c179e"
             ],
             [
              0.4444444444444444,
              "#bd3786"
             ],
             [
              0.5555555555555556,
              "#d8576b"
             ],
             [
              0.6666666666666666,
              "#ed7953"
             ],
             [
              0.7777777777777778,
              "#fb9f3a"
             ],
             [
              0.8888888888888888,
              "#fdca26"
             ],
             [
              1,
              "#f0f921"
             ]
            ],
            "type": "heatmapgl"
           }
          ],
          "histogram": [
           {
            "marker": {
             "pattern": {
              "fillmode": "overlay",
              "size": 10,
              "solidity": 0.2
             }
            },
            "type": "histogram"
           }
          ],
          "histogram2d": [
           {
            "colorbar": {
             "outlinewidth": 0,
             "ticks": ""
            },
            "colorscale": [
             [
              0,
              "#0d0887"
             ],
             [
              0.1111111111111111,
              "#46039f"
             ],
             [
              0.2222222222222222,
              "#7201a8"
             ],
             [
              0.3333333333333333,
              "#9c179e"
             ],
             [
              0.4444444444444444,
              "#bd3786"
             ],
             [
              0.5555555555555556,
              "#d8576b"
             ],
             [
              0.6666666666666666,
              "#ed7953"
             ],
             [
              0.7777777777777778,
              "#fb9f3a"
             ],
             [
              0.8888888888888888,
              "#fdca26"
             ],
             [
              1,
              "#f0f921"
             ]
            ],
            "type": "histogram2d"
           }
          ],
          "histogram2dcontour": [
           {
            "colorbar": {
             "outlinewidth": 0,
             "ticks": ""
            },
            "colorscale": [
             [
              0,
              "#0d0887"
             ],
             [
              0.1111111111111111,
              "#46039f"
             ],
             [
              0.2222222222222222,
              "#7201a8"
             ],
             [
              0.3333333333333333,
              "#9c179e"
             ],
             [
              0.4444444444444444,
              "#bd3786"
             ],
             [
              0.5555555555555556,
              "#d8576b"
             ],
             [
              0.6666666666666666,
              "#ed7953"
             ],
             [
              0.7777777777777778,
              "#fb9f3a"
             ],
             [
              0.8888888888888888,
              "#fdca26"
             ],
             [
              1,
              "#f0f921"
             ]
            ],
            "type": "histogram2dcontour"
           }
          ],
          "mesh3d": [
           {
            "colorbar": {
             "outlinewidth": 0,
             "ticks": ""
            },
            "type": "mesh3d"
           }
          ],
          "parcoords": [
           {
            "line": {
             "colorbar": {
              "outlinewidth": 0,
              "ticks": ""
             }
            },
            "type": "parcoords"
           }
          ],
          "pie": [
           {
            "automargin": true,
            "type": "pie"
           }
          ],
          "scatter": [
           {
            "fillpattern": {
             "fillmode": "overlay",
             "size": 10,
             "solidity": 0.2
            },
            "type": "scatter"
           }
          ],
          "scatter3d": [
           {
            "line": {
             "colorbar": {
              "outlinewidth": 0,
              "ticks": ""
             }
            },
            "marker": {
             "colorbar": {
              "outlinewidth": 0,
              "ticks": ""
             }
            },
            "type": "scatter3d"
           }
          ],
          "scattercarpet": [
           {
            "marker": {
             "colorbar": {
              "outlinewidth": 0,
              "ticks": ""
             }
            },
            "type": "scattercarpet"
           }
          ],
          "scattergeo": [
           {
            "marker": {
             "colorbar": {
              "outlinewidth": 0,
              "ticks": ""
             }
            },
            "type": "scattergeo"
           }
          ],
          "scattergl": [
           {
            "marker": {
             "colorbar": {
              "outlinewidth": 0,
              "ticks": ""
             }
            },
            "type": "scattergl"
           }
          ],
          "scattermapbox": [
           {
            "marker": {
             "colorbar": {
              "outlinewidth": 0,
              "ticks": ""
             }
            },
            "type": "scattermapbox"
           }
          ],
          "scatterpolar": [
           {
            "marker": {
             "colorbar": {
              "outlinewidth": 0,
              "ticks": ""
             }
            },
            "type": "scatterpolar"
           }
          ],
          "scatterpolargl": [
           {
            "marker": {
             "colorbar": {
              "outlinewidth": 0,
              "ticks": ""
             }
            },
            "type": "scatterpolargl"
           }
          ],
          "scatterternary": [
           {
            "marker": {
             "colorbar": {
              "outlinewidth": 0,
              "ticks": ""
             }
            },
            "type": "scatterternary"
           }
          ],
          "surface": [
           {
            "colorbar": {
             "outlinewidth": 0,
             "ticks": ""
            },
            "colorscale": [
             [
              0,
              "#0d0887"
             ],
             [
              0.1111111111111111,
              "#46039f"
             ],
             [
              0.2222222222222222,
              "#7201a8"
             ],
             [
              0.3333333333333333,
              "#9c179e"
             ],
             [
              0.4444444444444444,
              "#bd3786"
             ],
             [
              0.5555555555555556,
              "#d8576b"
             ],
             [
              0.6666666666666666,
              "#ed7953"
             ],
             [
              0.7777777777777778,
              "#fb9f3a"
             ],
             [
              0.8888888888888888,
              "#fdca26"
             ],
             [
              1,
              "#f0f921"
             ]
            ],
            "type": "surface"
           }
          ],
          "table": [
           {
            "cells": {
             "fill": {
              "color": "#EBF0F8"
             },
             "line": {
              "color": "white"
             }
            },
            "header": {
             "fill": {
              "color": "#C8D4E3"
             },
             "line": {
              "color": "white"
             }
            },
            "type": "table"
           }
          ]
         },
         "layout": {
          "annotationdefaults": {
           "arrowcolor": "#2a3f5f",
           "arrowhead": 0,
           "arrowwidth": 1
          },
          "autotypenumbers": "strict",
          "coloraxis": {
           "colorbar": {
            "outlinewidth": 0,
            "ticks": ""
           }
          },
          "colorscale": {
           "diverging": [
            [
             0,
             "#8e0152"
            ],
            [
             0.1,
             "#c51b7d"
            ],
            [
             0.2,
             "#de77ae"
            ],
            [
             0.3,
             "#f1b6da"
            ],
            [
             0.4,
             "#fde0ef"
            ],
            [
             0.5,
             "#f7f7f7"
            ],
            [
             0.6,
             "#e6f5d0"
            ],
            [
             0.7,
             "#b8e186"
            ],
            [
             0.8,
             "#7fbc41"
            ],
            [
             0.9,
             "#4d9221"
            ],
            [
             1,
             "#276419"
            ]
           ],
           "sequential": [
            [
             0,
             "#0d0887"
            ],
            [
             0.1111111111111111,
             "#46039f"
            ],
            [
             0.2222222222222222,
             "#7201a8"
            ],
            [
             0.3333333333333333,
             "#9c179e"
            ],
            [
             0.4444444444444444,
             "#bd3786"
            ],
            [
             0.5555555555555556,
             "#d8576b"
            ],
            [
             0.6666666666666666,
             "#ed7953"
            ],
            [
             0.7777777777777778,
             "#fb9f3a"
            ],
            [
             0.8888888888888888,
             "#fdca26"
            ],
            [
             1,
             "#f0f921"
            ]
           ],
           "sequentialminus": [
            [
             0,
             "#0d0887"
            ],
            [
             0.1111111111111111,
             "#46039f"
            ],
            [
             0.2222222222222222,
             "#7201a8"
            ],
            [
             0.3333333333333333,
             "#9c179e"
            ],
            [
             0.4444444444444444,
             "#bd3786"
            ],
            [
             0.5555555555555556,
             "#d8576b"
            ],
            [
             0.6666666666666666,
             "#ed7953"
            ],
            [
             0.7777777777777778,
             "#fb9f3a"
            ],
            [
             0.8888888888888888,
             "#fdca26"
            ],
            [
             1,
             "#f0f921"
            ]
           ]
          },
          "colorway": [
           "#636efa",
           "#EF553B",
           "#00cc96",
           "#ab63fa",
           "#FFA15A",
           "#19d3f3",
           "#FF6692",
           "#B6E880",
           "#FF97FF",
           "#FECB52"
          ],
          "font": {
           "color": "#2a3f5f"
          },
          "geo": {
           "bgcolor": "white",
           "lakecolor": "white",
           "landcolor": "#E5ECF6",
           "showlakes": true,
           "showland": true,
           "subunitcolor": "white"
          },
          "hoverlabel": {
           "align": "left"
          },
          "hovermode": "closest",
          "mapbox": {
           "style": "light"
          },
          "paper_bgcolor": "white",
          "plot_bgcolor": "#E5ECF6",
          "polar": {
           "angularaxis": {
            "gridcolor": "white",
            "linecolor": "white",
            "ticks": ""
           },
           "bgcolor": "#E5ECF6",
           "radialaxis": {
            "gridcolor": "white",
            "linecolor": "white",
            "ticks": ""
           }
          },
          "scene": {
           "xaxis": {
            "backgroundcolor": "#E5ECF6",
            "gridcolor": "white",
            "gridwidth": 2,
            "linecolor": "white",
            "showbackground": true,
            "ticks": "",
            "zerolinecolor": "white"
           },
           "yaxis": {
            "backgroundcolor": "#E5ECF6",
            "gridcolor": "white",
            "gridwidth": 2,
            "linecolor": "white",
            "showbackground": true,
            "ticks": "",
            "zerolinecolor": "white"
           },
           "zaxis": {
            "backgroundcolor": "#E5ECF6",
            "gridcolor": "white",
            "gridwidth": 2,
            "linecolor": "white",
            "showbackground": true,
            "ticks": "",
            "zerolinecolor": "white"
           }
          },
          "shapedefaults": {
           "line": {
            "color": "#2a3f5f"
           }
          },
          "ternary": {
           "aaxis": {
            "gridcolor": "white",
            "linecolor": "white",
            "ticks": ""
           },
           "baxis": {
            "gridcolor": "white",
            "linecolor": "white",
            "ticks": ""
           },
           "bgcolor": "#E5ECF6",
           "caxis": {
            "gridcolor": "white",
            "linecolor": "white",
            "ticks": ""
           }
          },
          "title": {
           "x": 0.05
          },
          "xaxis": {
           "automargin": true,
           "gridcolor": "white",
           "linecolor": "white",
           "ticks": "",
           "title": {
            "standoff": 15
           },
           "zerolinecolor": "white",
           "zerolinewidth": 2
          },
          "yaxis": {
           "automargin": true,
           "gridcolor": "white",
           "linecolor": "white",
           "ticks": "",
           "title": {
            "standoff": 15
           },
           "zerolinecolor": "white",
           "zerolinewidth": 2
          }
         }
        },
        "title": {
         "text": "Avg Silhouette Score for Each Album - lorde song_title"
        },
        "xaxis": {
         "anchor": "y",
         "domain": [
          0,
          1
         ],
         "title": {
          "text": "Silhouette Score"
         }
        },
        "yaxis": {
         "anchor": "x",
         "domain": [
          0,
          1
         ],
         "title": {
          "text": "Album"
         }
        }
       }
      }
     },
     "metadata": {},
     "output_type": "display_data"
    }
   ],
   "source": [
    "pt.plot_sillhouette_score()"
   ]
  },
  {
   "cell_type": "code",
   "execution_count": 16,
   "metadata": {},
   "outputs": [
    {
     "name": "stdout",
     "output_type": "stream",
     "text": [
      "Rand score: 0.5525846702317291\n"
     ]
    }
   ],
   "source": [
    "pt.get_rand_score()"
   ]
  },
  {
   "cell_type": "code",
   "execution_count": null,
   "metadata": {},
   "outputs": [],
   "source": []
  }
 ],
 "metadata": {
  "kernelspec": {
   "display_name": "Python 3",
   "language": "python",
   "name": "python3"
  },
  "language_info": {
   "codemirror_mode": {
    "name": "ipython",
    "version": 3
   },
   "file_extension": ".py",
   "mimetype": "text/x-python",
   "name": "python",
   "nbconvert_exporter": "python",
   "pygments_lexer": "ipython3",
   "version": "3.9.6"
  },
  "orig_nbformat": 4,
  "vscode": {
   "interpreter": {
    "hash": "31f2aee4e71d21fbe5cf8b01ff0e069b9275f58929596ceb00d14d90e3e16cd6"
   }
  }
 },
 "nbformat": 4,
 "nbformat_minor": 2
}
