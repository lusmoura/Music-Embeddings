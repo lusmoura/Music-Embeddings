{
 "cells": [
  {
   "cell_type": "code",
   "execution_count": 205,
   "metadata": {},
   "outputs": [],
   "source": [
    "import re\n",
    "import cohere\n",
    "import requests\n",
    "import pandas as pd\n",
    "import plotly.express as px\n",
    "import matplotlib.pyplot as plt\n",
    "import seaborn as sns\n",
    "from lxml import html\n",
    "from bs4 import BeautifulSoup\n",
    "from unidecode import unidecode\n",
    "from sklearn.cluster import KMeans\n",
    "from sklearn.decomposition import PCA\n",
    "from sklearn.metrics import confusion_matrix\n",
    "from sklearn.metrics import silhouette_score\n",
    "from sklearn.preprocessing import LabelEncoder"
   ]
  },
  {
   "cell_type": "code",
   "execution_count": 206,
   "metadata": {},
   "outputs": [],
   "source": [
    "artist = \"lorde\"\n",
    "API_KEY = \"YOUR_API_KEY\""
   ]
  },
  {
   "cell_type": "code",
   "execution_count": 207,
   "metadata": {},
   "outputs": [],
   "source": [
    "class Discography:\n",
    "    def __init__(self, artist, albums, verbose=True):\n",
    "        self.verbose = verbose\n",
    "        self.artist = artist\n",
    "        self.albums = albums\n",
    "        self.num_albums = len(albums)\n",
    "        self.co = cohere.Client(API_KEY)\n",
    "        self.df = self.get_df()\n",
    "\n",
    "    def get_df(self) -> pd.DataFrame:\n",
    "        \"\"\"Get pandas dataframe from albums - each row is a song\n",
    "        \n",
    "        Returns:\n",
    "            pd.DataFrame -- dataframe with columns: artist, album, song_title, lyrics, url, lyrics_embedding\n",
    "        \"\"\"\n",
    "        if self.verbose:\n",
    "            print(f\"Getting dataframe for {self.artist}...\")\n",
    "\n",
    "        df = pd.DataFrame()\n",
    "        for album in self.albums:\n",
    "            df = pd.concat(\n",
    "                [\n",
    "                    df,\n",
    "                    pd.DataFrame(\n",
    "                        {\n",
    "                            \"artist\": self.artist,\n",
    "                            \"album\": album.title,\n",
    "                            \"song_title\": [song.title for song in album.songs],\n",
    "                            \"lyrics\": [song.lyrics for song in album.songs],\n",
    "                            \"url\": [song.url for song in album.songs],\n",
    "                        }\n",
    "                    ),\n",
    "                ]\n",
    "            )\n",
    "\n",
    "        df = df.reset_index(drop=True)\n",
    "        df = self.get_embeddings(df, \"lyrics\")\n",
    "        df = self.get_embeddings(df, \"song_title\")\n",
    "\n",
    "        return df\n",
    "\n",
    "    def get_embeddings(self, df: pd.DataFrame, column: str) -> pd.DataFrame:\n",
    "        \"\"\"Get embeddings for a column\n",
    "        \n",
    "        Args:\n",
    "            df (pd.DataFrame): dataframe\n",
    "            column (str): column to get embeddings for\n",
    "\n",
    "        Returns:\n",
    "            pd.DataFrame -- dataframe with column: {column}_embedding\n",
    "        \"\"\"\n",
    "\n",
    "        if self.verbose:\n",
    "            print(f\"Getting embeddings for {column}...\")\n",
    "        \n",
    "        texts = df[column].tolist()\n",
    "        response = self.co.embed(model=\"large\", texts=texts)\n",
    "        df[f\"{column}_embedding\"] = response.embeddings\n",
    "        return df"
   ]
  },
  {
   "cell_type": "code",
   "execution_count": 208,
   "metadata": {},
   "outputs": [],
   "source": [
    "class Album:\n",
    "    \"\"\"Album class - Album wrapper\n",
    "\n",
    "    Attributes:\n",
    "        title (str): Album title\n",
    "        songs (list): List of Song objects\n",
    "    \"\"\"\n",
    "\n",
    "    def __init__(self, title, songs):\n",
    "        self.title = title\n",
    "        self.songs = songs"
   ]
  },
  {
   "cell_type": "code",
   "execution_count": 209,
   "metadata": {},
   "outputs": [],
   "source": [
    "class Song:\n",
    "    \"\"\"Song class - Song wrapper\n",
    "\n",
    "    Attributes:\n",
    "        title (str): Song title\n",
    "        lyrics (str): Song lyrics\n",
    "        url (str): Song url\n",
    "    \"\"\"\n",
    "\n",
    "    def __init__(self, title: str, lyrics: str, url: str):\n",
    "        self.title = title\n",
    "        self.lyrics = lyrics\n",
    "        self.url = url"
   ]
  },
  {
   "cell_type": "code",
   "execution_count": 210,
   "metadata": {},
   "outputs": [],
   "source": [
    "class Scraper:\n",
    "    \"\"\"Scraper class - Get albums and songs from artist page\n",
    "\n",
    "    Attributes:\n",
    "        artist (str): Artist name\n",
    "        max_albums (int): Max number of albums to get\n",
    "    \"\"\"\n",
    "\n",
    "    def __init__(self, artist, max_albums=100, verbose=False):\n",
    "        self.artist = artist\n",
    "        self.max_albums = max_albums\n",
    "        self.verbose = verbose\n",
    "        self.main_url = \"https://www.letras.mus.br\"\n",
    "        self.clean_artist = artist.lower().replace(\" \", \"-\")\n",
    "        self.url = self.main_url + \"/\" + self.clean_artist + \"/discografia\"\n",
    "\n",
    "    def clean_album_title(self, album_title: str) -> str:\n",
    "        \"\"\"Clean album title by removing anything in parenthesis - like (Deluxe Edition)\n",
    "        \n",
    "        Args:\n",
    "            album_title (str): Album title\n",
    "        \n",
    "        Returns:\n",
    "            str: Cleaned album title\n",
    "        \"\"\"\n",
    "        album_title = re.sub(r\"\\([^)]*\\)\", \"\", album_title)\n",
    "        return unidecode(album_title).lower().strip()\n",
    "\n",
    "    def make_request(self, url: str) -> requests.models.Response:\n",
    "        \"\"\"Make request with the request module and treat errors\n",
    "        \n",
    "        Args:\n",
    "            url (str): Url to make request\n",
    "\n",
    "        Returns:\n",
    "            requests.models.Response: Response object\n",
    "        \"\"\"\n",
    "\n",
    "        headers = {\n",
    "            \"sec-ch-ua\": '\" Not;A Brand\";v=\"99\", \"Google Chrome\";v=\"91\", \"Chromium\";v=\"91\"',\n",
    "            \"sec-ch-ua-mobile\": \"?0\",\n",
    "            \"Upgrade-Insecure-Requests\": \"1\",\n",
    "            \"User-Agent\": \"Mozilla/5.0 (X11; Linux x86_64) AppleWebKit/537.36 (KHTML, like Gecko) Chrome/91.0.4472.77 Safari/537.36\",\n",
    "        }\n",
    "\n",
    "        try:\n",
    "            response = requests.get(url, headers=headers)\n",
    "        except Exception as e:\n",
    "            print(f\"Error - {e.args}\")\n",
    "            return None\n",
    "\n",
    "        if response.status_code != 200:\n",
    "            return None\n",
    "\n",
    "        return response\n",
    "\n",
    "    def get_discography(self) -> Discography:\n",
    "        \"\"\"Get all albums from artist page\n",
    "        \n",
    "        Returns:\n",
    "            Discography: Discography object\n",
    "        \"\"\"\n",
    "\n",
    "        # get html from artist page - letras.mus.br\n",
    "        response = self.make_request(self.url)\n",
    "        if response is None:\n",
    "            return None\n",
    "\n",
    "        soup = BeautifulSoup(response.text, \"lxml\")\n",
    "        albums_tags = soup.find_all(\"div\", class_=\"album-item g-sp\")\n",
    "\n",
    "        albums = []\n",
    "        albuns_clean_names = []\n",
    "        # iterate over albums reversed to exclude albuns like deluxe and live versions\n",
    "        for i, album_tag in enumerate(albums_tags[::-1], 1):\n",
    "            album_title = album_tag.find(\"h1\").text.strip()\n",
    "            info_type = album_tag.find(\"span\", class_=\"header-info-type\").text\n",
    "\n",
    "            if self.verbose:\n",
    "                print(f\"[{i}/{len(albums_tags)}] - {album_title}\")\n",
    "\n",
    "            # excludes singles and EPs\n",
    "            if \"Álbum\" not in info_type:\n",
    "                if self.verbose:\n",
    "                    print(\"\\tNot an album\")\n",
    "                continue\n",
    "\n",
    "            curr_album_clean_name = self.clean_album_title(album_title)\n",
    "\n",
    "            # excludes albums with the same name\n",
    "            if curr_album_clean_name in albuns_clean_names:\n",
    "                if self.verbose:\n",
    "                    print(\"\\tAlbum already exists\")\n",
    "                continue\n",
    "            else:\n",
    "                albuns_clean_names.append(curr_album_clean_name)\n",
    "\n",
    "            songs_tags = album_tag.find_all(\"a\", class_=\"bt-play-song\")\n",
    "\n",
    "            songs = []\n",
    "            for j, song_tag in enumerate(songs_tags, 1):\n",
    "                if self.verbose:\n",
    "                    print(f\"\\t[{j}/{len(songs_tags)}] - \", end=\"\")\n",
    "                \n",
    "                url = self.main_url + song_tag.get(\"href\")\n",
    "                response = self.make_request(url)\n",
    "                \n",
    "                if response is None:\n",
    "                    if self.verbose:\n",
    "                        print(\"Failed\")\n",
    "                    continue\n",
    "\n",
    "                tree = html.fromstring(response.content)\n",
    "\n",
    "                song_title = tree.xpath(\"//div[@class='cnt-head_title']/h1\")[0].text\n",
    "                \n",
    "                if self.verbose:\n",
    "                    print(song_title)\n",
    "\n",
    "                # get lyrics\n",
    "                try:\n",
    "                    lyrics = tree.xpath('//div[@class=\"cnt-letra\"]//text()')\n",
    "                    lyrics = \"\\n\".join(lyrics)\n",
    "\n",
    "                    # if lyrics is empty this is the default message\n",
    "                    if \"Ainda nÃ£o temos a letra desta mÃºsica.\" in lyrics:\n",
    "                        raise Exception(\"No lyrics\")\n",
    "                except Exception as e:\n",
    "                    if self.verbose:\n",
    "                        print(f\"\\t\\tCouldn't get lyrics {url}\")\n",
    "                    continue\n",
    "\n",
    "                songs.append(Song(song_title, lyrics, url))\n",
    "\n",
    "            albums.append(Album(album_title, songs))\n",
    "\n",
    "            # break if max albums is reached\n",
    "            if len(albums) >= self.max_albums:\n",
    "                break\n",
    "\n",
    "        discography = Discography(self.artist, albums)\n",
    "        return discography"
   ]
  },
  {
   "cell_type": "code",
   "execution_count": 220,
   "metadata": {},
   "outputs": [],
   "source": [
    "class Plot:\n",
    "    \"\"\"Plot class - Plot embeddings and confusion matrix\n",
    "\n",
    "    Attributes:\n",
    "        discography (Discography): Discography object\n",
    "        column (str): Column to plot (lyrics or song_title)\n",
    "    \"\"\"\n",
    "\n",
    "    def __init__(self, discography: Discography, column: str = \"lyrics\"):\n",
    "        if column not in [\"lyrics\", \"song_title\"]:\n",
    "            raise ValueError(\"Column must be 'lyrics' or 'song_title'\")\n",
    "        \n",
    "        self.column = column\n",
    "        self.discography = discography\n",
    "        self.df = discography.df\n",
    "        self.set_up()\n",
    "\n",
    "    def set_up(self):\n",
    "        \"\"\"Set up embeddings and clusters\"\"\"\n",
    "        # Reduce dimensionality with PCA\n",
    "        pca = PCA(n_components=2, random_state=0)\n",
    "        embeddings_column = f'{self.column}_embedding'\n",
    "        self.embeddings = self.df[embeddings_column].tolist()\n",
    "        self.embeddings_2d = pca.fit_transform(self.embeddings)\n",
    "\n",
    "        # Cluster embeddings\n",
    "        num_clusters = self.discography.num_albums  # Modify this to your desired number of clusters\n",
    "        self.kmeans = KMeans(n_clusters=num_clusters, random_state=0)\n",
    "        self.clusters = self.kmeans.fit_predict(self.embeddings)\n",
    "\n",
    "        # Encode album labels as integers\n",
    "        label_encoder = LabelEncoder()\n",
    "        self.true_labels = label_encoder.fit_transform(self.df['album'])\n",
    "\n",
    "        # Convert encoded labels back to album names\n",
    "        self.album_names = label_encoder.inverse_transform(self.true_labels)\n",
    "        self.predicted_albums = label_encoder.inverse_transform(self.clusters)\n",
    "\n",
    "\n",
    "    def plot_confusion_matrix(self):\n",
    "        \"\"\"Plot confusion matrix\"\"\"\n",
    "        # Create confusion matrix\n",
    "        confusion_mat = confusion_matrix(self.album_names, self.predicted_albums, labels=self.df['album'].unique())\n",
    "\n",
    "        # Plot confusion matrix as heatmap\n",
    "        _, ax = plt.subplots()\n",
    "        sns.heatmap(confusion_mat, annot=True, cmap='Blues', fmt='g', ax=ax,\n",
    "                    xticklabels=self.df['album'].unique(), yticklabels=self.df['album'].unique())\n",
    "        ax.set_xlabel('Predicted labels')\n",
    "        ax.set_ylabel('True labels')\n",
    "        ax.set_title(f'Confusion Matrix - {self.column}')\n",
    "        plt.show()\n",
    "    \n",
    "    def plot_clusters(self):\n",
    "        \"\"\"Plot clusters\"\"\"\n",
    "        data = pd.DataFrame({'x': self.embeddings_2d[:, 0], 'y': self.embeddings_2d[:, 1],\n",
    "                     'predicted_album': self.predicted_albums, 'true_album': self.album_names,\n",
    "                     'symbol': 'circle', 'size': 1})\n",
    "\n",
    "        data.loc[data['predicted_album'] == data['true_album'], 'symbol'] = 'diamond'\n",
    "        data['song_title'] = self.df['song_title']\n",
    "\n",
    "        # Create scatter plot\n",
    "        fig = px.scatter(data, x='x', y='y', color='predicted_album',\n",
    "                        symbol='symbol', hover_data=['true_album', 'predicted_album', 'song_title'],\n",
    "                        hover_name='song_title', size='size', size_max=10, title=f'Song coordinates in 2D space - {self.column}')\n",
    "\n",
    "        fig.update_traces(hovertemplate='<b>%{hovertext}</b><br>' +\n",
    "                                        'True Album: %{customdata[0]}<br>' +\n",
    "                                        'Predicted Album: %{customdata[1]}<br>' +\n",
    "                                        'Song Title: %{customdata[2]}<extra></extra>')\n",
    "\n",
    "        fig.update_layout(coloraxis=dict(colorbar=dict(title='Album')))\n",
    "\n",
    "        fig.show()\n",
    "    \n",
    "    def plot_sillhouette_score(self):\n",
    "        \"\"\"Plot the average silhouette score for each album which measures how similar an object is to its own cluster\"\"\"\n",
    "        print(\"This score is between -1 and 1, where 1 means that, in average, the objects are very similar to their own cluster and far from other clusters, and -1 means the opposite.\")\n",
    "        album_names = self.df['album'].unique()\n",
    "        album_scores = {}\n",
    "        embeddings_column = f'{self.column}_embedding'\n",
    "        for album in album_names:\n",
    "            album_embeddings = self.df.loc[self.df['album'] == album, embeddings_column]\n",
    "\n",
    "            if len(album_embeddings) == 1:\n",
    "                album_scores[album] = 0\n",
    "                continue\n",
    "\n",
    "            album_clusters = self.kmeans.predict(album_embeddings.tolist())\n",
    "            silhouette_avg = silhouette_score(album_embeddings.tolist(), album_clusters)\n",
    "            album_scores[album] = silhouette_avg\n",
    "\n",
    "        # Create a pandas DataFrame from the album scores dictionary\n",
    "        df_scores = pd.DataFrame(list(album_scores.items()), columns=['Album', 'Silhouette Score'])\n",
    "\n",
    "        # Create interactive bar plot with Plotly Express\n",
    "        fig = px.bar(df_scores, x='Silhouette Score', y='Album', \n",
    "                    hover_data={'Silhouette Score': ':.3f'},\n",
    "                    text='Silhouette Score', \n",
    "                    color='Silhouette Score',\n",
    "                    labels={'Silhouette Score': 'Silhouette Score', 'Album': 'Album'},\n",
    "                    title=f'Avg Silhouette Score for Each Album - {self.column}')\n",
    "\n",
    "\n",
    "        # Show the plot\n",
    "        fig.show()\n"
   ]
  },
  {
   "cell_type": "code",
   "execution_count": 212,
   "metadata": {},
   "outputs": [
    {
     "name": "stdout",
     "output_type": "stream",
     "text": [
      "[1/28] - Royals\n",
      "\tNot an album\n",
      "[2/28] - Pure Heroine\n",
      "\t[1/10] - Tennis Court\n",
      "\t[2/10] - 400 Lux\n",
      "\t[3/10] - Royals\n",
      "\t[4/10] - Ribs\n",
      "\t[5/10] - Buzzcut Season\n",
      "\t[6/10] - Team\n",
      "\t[7/10] - Glory And Gore\n",
      "\t[8/10] - Still Sane\n",
      "\t[9/10] - White Teeth Teens\n",
      "\t[10/10] - A World Alone\n",
      "[3/28] - Pure Heroine (Extended)\n",
      "\tAlbum already exists\n",
      "[4/28] - Live In Concert\n",
      "\tNot an album\n",
      "[5/28] - No Better\n",
      "\tNot an album\n",
      "[6/28] - Team\n",
      "\tNot an album\n",
      "[7/28] - Ribs\n",
      "\tNot an album\n",
      "[8/28] - Glory And Gore\n",
      "\tNot an album\n",
      "[9/28] - Buzzcut Season\n",
      "\tNot an album\n",
      "[10/28] - The Love Club\n",
      "\tNot an album\n",
      "[11/28] - Tennis Court EP\n",
      "\tNot an album\n",
      "[12/28] - Flicker (Kanye West Rework)\n",
      "\tNot an album\n",
      "[13/28] - Yellow Flicker Beat\n",
      "\tNot an album\n",
      "[14/28] - Magnets\n",
      "\tNot an album\n",
      "[15/28] - Melodrama\n",
      "\t[1/12] - Green Light\n",
      "\t[2/12] - Sober\n",
      "\t[3/12] - Homemade Dynamite\n",
      "\t[4/12] - The Louvre\n",
      "\t[5/12] - Liability\n",
      "\t[6/12] - Hard Feelings / Loveless\n",
      "\t[7/12] - Sober II (Melodrama)\n",
      "\t[8/12] - Writer In The Dark\n",
      "\t[9/12] - Supercut\n",
      "\t[10/12] - Liability (Reprise)\n",
      "\t[11/12] - Perfect Places\n",
      "\t[12/12] - Homemade Dynamite (remix) (feat. Khalid, SZA & Post Malone)\n",
      "[16/28] - Homemade Dynamite (Remix) (feat. Khalid, Post Malone & Sza)\n",
      "\tNot an album\n",
      "[17/28] - Green Light (Chromeo Remix)\n",
      "\tNot an album\n",
      "[18/28] - Green Light\n",
      "\tNot an album\n",
      "[19/28] - Sober\n",
      "\tNot an album\n",
      "[20/28] - Liability\n",
      "\tNot an album\n",
      "[21/28] - Supercut (El-P Remix)\n",
      "\tNot an album\n",
      "[22/28] - Solar Power\n",
      "\tNot an album\n",
      "[23/28] - Stoned At The Nail Salon\n",
      "\tNot an album\n",
      "[24/28] - Mood Ring\n",
      "\tNot an album\n",
      "[25/28] - Solar Power\n",
      "\t[1/12] - The Path\n",
      "\t[2/12] - Solar Power\n",
      "\t[3/12] - California\n",
      "\t[4/12] - Stoned At The Nail Salon\n",
      "\t[5/12] - Fallen Fruit\n",
      "\t[6/12] - Secrets from a Girl (Who's Seen it All)\n",
      "\t[7/12] - Stoned At The Nail Salon\n",
      "\t[8/12] - Dominoes\n",
      "\t[9/12] - White Teeth Teens\n",
      "\t[10/12] - Leader Of a New Regime\n",
      "\t[11/12] - Mood Ring\n",
      "\t[12/12] - Oceanic Feeling\n",
      "[26/28] - Solar Power (Music Box)\n",
      "\tAlbum already exists\n",
      "[27/28] - Te Ao Mārama\n",
      "\tNot an album\n",
      "[28/28] - Solar Power (Deluxe Edition)\n",
      "\tAlbum already exists\n",
      "Getting dataframe for lorde...\n",
      "Getting embeddings for lyrics...\n",
      "Getting embeddings for song_title...\n"
     ]
    }
   ],
   "source": [
    "scraper = Scraper(artist, max_albums=20, verbose=True)\n",
    "discography = scraper.get_discography()"
   ]
  },
  {
   "cell_type": "code",
   "execution_count": 221,
   "metadata": {},
   "outputs": [
    {
     "name": "stderr",
     "output_type": "stream",
     "text": [
      "/Users/luisa/Library/Python/3.9/lib/python/site-packages/sklearn/cluster/_kmeans.py:870: FutureWarning:\n",
      "\n",
      "The default value of `n_init` will change from 10 to 'auto' in 1.4. Set the value of `n_init` explicitly to suppress the warning\n",
      "\n"
     ]
    },
    {
     "data": {
      "image/png": "[encoded data removed]",
      "text/plain": [
       "<Figure size 640x480 with 2 Axes>"
      ]
     },
     "metadata": {},
     "output_type": "display_data"
    },
    {
     "data": {
      "application/vnd.plotly.v1+json": {
       "config": {
        "plotlyServerURL": "https://plot.ly"
       },
       "data": [
        {
         "customdata": [
          [
           "Pure Heroine",
           "Solar Power",
           "Tennis Court"
          ],
          [
           "Pure Heroine",
           "Solar Power",
           "Still Sane"
          ],
          [
           "Melodrama",
           "Solar Power",
           "Writer In The Dark"
          ]
         ],
         "hovertemplate": "<b>%{hovertext}</b><br>True Album: %{customdata[0]}<br>Predicted Album: %{customdata[1]}<br>Song Title: %{customdata[2]}<extra></extra>",
         "hovertext": [
          "Tennis Court",
          "Still Sane",
          "Writer In The Dark"
         ],
         "legendgroup": "Solar Power, circle",
         "marker": {
          "color": "#636efa",
          "size": [
           1,
           1,
           1
          ],
          "sizemode": "area",
          "sizeref": 0.01,
          "symbol": "circle"
         },
         "mode": "markers",
         "name": "Solar Power, circle",
         "orientation": "v",
         "showlegend": true,
         "type": "scatter",
         "x": [
          4.994355736386758,
          0.13684355050334124,
          -7.79340166506494
         ],
         "xaxis": "x",
         "y": [
          -5.86310700431476,
          -0.7069931253012258,
          -0.5779252333250199
         ],
         "yaxis": "y"
        },
        {
         "customdata": [
          [
           "Solar Power",
           "Solar Power",
           "The Path"
          ],
          [
           "Solar Power",
           "Solar Power",
           "Solar Power"
          ],
          [
           "Solar Power",
           "Solar Power",
           "California"
          ],
          [
           "Solar Power",
           "Solar Power",
           "Stoned At The Nail Salon"
          ],
          [
           "Solar Power",
           "Solar Power",
           "Fallen Fruit"
          ],
          [
           "Solar Power",
           "Solar Power",
           "Stoned At The Nail Salon"
          ],
          [
           "Solar Power",
           "Solar Power",
           "Dominoes"
          ],
          [
           "Solar Power",
           "Solar Power",
           "Leader Of a New Regime"
          ],
          [
           "Solar Power",
           "Solar Power",
           "Mood Ring"
          ],
          [
           "Solar Power",
           "Solar Power",
           "Oceanic Feeling"
          ]
         ],
         "hovertemplate": "<b>%{hovertext}</b><br>True Album: %{customdata[0]}<br>Predicted Album: %{customdata[1]}<br>Song Title: %{customdata[2]}<extra></extra>",
         "hovertext": [
          "The Path",
          "Solar Power",
          "California",
          "Stoned At The Nail Salon",
          "Fallen Fruit",
          "Stoned At The Nail Salon",
          "Dominoes",
          "Leader Of a New Regime",
          "Mood Ring",
          "Oceanic Feeling"
         ],
         "legendgroup": "Solar Power, diamond",
         "marker": {
          "color": "#636efa",
          "size": [
           1,
           1,
           1,
           1,
           1,
           1,
           1,
           1,
           1,
           1
          ],
          "sizemode": "area",
          "sizeref": 0.01,
          "symbol": "diamond"
         },
         "mode": "markers",
         "name": "Solar Power, diamond",
         "orientation": "v",
         "showlegend": true,
         "type": "scatter",
         "x": [
          -11.1694197337617,
          -11.684144824806198,
          -17.352568470496188,
          -14.902569414669204,
          -5.0000014036199305,
          -14.902569414669204,
          -13.52337121695447,
          5.302113743472865,
          -20.728185495611662,
          -13.402027468455769
         ],
         "xaxis": "x",
         "y": [
          -22.59925136180413,
          -27.55540412917419,
          -7.4939558486730835,
          -14.270553951901922,
          -16.343212106288114,
          -14.270553951901922,
          -16.703570323315294,
          -26.980548799288,
          -11.682832496605641,
          -17.47481686917359
         ],
         "yaxis": "y"
        },
        {
         "customdata": [
          [
           "Melodrama",
           "Pure Heroine",
           "Green Light"
          ],
          [
           "Melodrama",
           "Pure Heroine",
           "Sober"
          ],
          [
           "Melodrama",
           "Pure Heroine",
           "Homemade Dynamite"
          ],
          [
           "Melodrama",
           "Pure Heroine",
           "The Louvre"
          ],
          [
           "Melodrama",
           "Pure Heroine",
           "Liability"
          ],
          [
           "Melodrama",
           "Pure Heroine",
           "Hard Feelings / Loveless"
          ],
          [
           "Melodrama",
           "Pure Heroine",
           "Sober II (Melodrama)"
          ],
          [
           "Melodrama",
           "Pure Heroine",
           "Supercut"
          ],
          [
           "Melodrama",
           "Pure Heroine",
           "Liability (Reprise)"
          ],
          [
           "Melodrama",
           "Pure Heroine",
           "Perfect Places"
          ],
          [
           "Melodrama",
           "Pure Heroine",
           "Homemade Dynamite (remix) (feat. Khalid, SZA & Post Malone)"
          ],
          [
           "Solar Power",
           "Pure Heroine",
           "Secrets from a Girl (Who's Seen it All)"
          ]
         ],
         "hovertemplate": "<b>%{hovertext}</b><br>True Album: %{customdata[0]}<br>Predicted Album: %{customdata[1]}<br>Song Title: %{customdata[2]}<extra></extra>",
         "hovertext": [
          "Green Light",
          "Sober",
          "Homemade Dynamite",
          "The Louvre",
          "Liability",
          "Hard Feelings / Loveless",
          "Sober II (Melodrama)",
          "Supercut",
          "Liability (Reprise)",
          "Perfect Places",
          "Homemade Dynamite (remix) (feat. Khalid, SZA & Post Malone)",
          "Secrets from a Girl (Who's Seen it All)"
         ],
         "legendgroup": "Pure Heroine, circle",
         "marker": {
          "color": "#EF553B",
          "size": [
           1,
           1,
           1,
           1,
           1,
           1,
           1,
           1,
           1,
           1,
           1,
           1
          ],
          "sizemode": "area",
          "sizeref": 0.01,
          "symbol": "circle"
         },
         "mode": "markers",
         "name": "Pure Heroine, circle",
         "orientation": "v",
         "showlegend": true,
         "type": "scatter",
         "x": [
          -0.8608551869585076,
          1.4976346578635544,
          19.345898933056166,
          -4.083488073454307,
          -15.422114938496033,
          -18.8248748863642,
          -6.397624587337755,
          -2.0362664674671875,
          -2.9476543826156525,
          8.243360158804872,
          18.91260988000558,
          -4.4584368464123045
         ],
         "xaxis": "x",
         "y": [
          5.113502528010303,
          21.110734451332142,
          14.598536300564607,
          5.132001469609397,
          24.659770576733862,
          11.458526824342627,
          10.270559244540454,
          12.76712723179113,
          29.05388747893365,
          7.087794692805768,
          16.95928034297946,
          19.32364289930421
         ],
         "yaxis": "y"
        },
        {
         "customdata": [
          [
           "Pure Heroine",
           "Pure Heroine",
           "400 Lux"
          ],
          [
           "Pure Heroine",
           "Pure Heroine",
           "Ribs"
          ],
          [
           "Pure Heroine",
           "Pure Heroine",
           "Buzzcut Season"
          ],
          [
           "Pure Heroine",
           "Pure Heroine",
           "Glory And Gore"
          ],
          [
           "Pure Heroine",
           "Pure Heroine",
           "A World Alone"
          ]
         ],
         "hovertemplate": "<b>%{hovertext}</b><br>True Album: %{customdata[0]}<br>Predicted Album: %{customdata[1]}<br>Song Title: %{customdata[2]}<extra></extra>",
         "hovertext": [
          "400 Lux",
          "Ribs",
          "Buzzcut Season",
          "Glory And Gore",
          "A World Alone"
         ],
         "legendgroup": "Pure Heroine, diamond",
         "marker": {
          "color": "#EF553B",
          "size": [
           1,
           1,
           1,
           1,
           1
          ],
          "sizemode": "area",
          "sizeref": 0.01,
          "symbol": "diamond"
         },
         "mode": "markers",
         "name": "Pure Heroine, diamond",
         "orientation": "v",
         "showlegend": true,
         "type": "scatter",
         "x": [
          10.832489459496548,
          -3.582846760872261,
          -14.48266688716884,
          6.835333188221919,
          -1.3548634880618242
         ],
         "xaxis": "x",
         "y": [
          2.203972793918685,
          24.579444367752952,
          1.9317448366464662,
          0.08241893570605587,
          6.403296941736455
         ],
         "yaxis": "y"
        },
        {
         "customdata": [
          [
           "Pure Heroine",
           "Melodrama",
           "Royals"
          ],
          [
           "Pure Heroine",
           "Melodrama",
           "Team"
          ],
          [
           "Pure Heroine",
           "Melodrama",
           "White Teeth Teens"
          ],
          [
           "Solar Power",
           "Melodrama",
           "White Teeth Teens"
          ]
         ],
         "hovertemplate": "<b>%{hovertext}</b><br>True Album: %{customdata[0]}<br>Predicted Album: %{customdata[1]}<br>Song Title: %{customdata[2]}<extra></extra>",
         "hovertext": [
          "Royals",
          "Team",
          "White Teeth Teens",
          "White Teeth Teens"
         ],
         "legendgroup": "Melodrama, circle",
         "marker": {
          "color": "#00cc96",
          "size": [
           1,
           1,
           1,
           1
          ],
          "sizemode": "area",
          "sizeref": 0.01,
          "symbol": "circle"
         },
         "mode": "markers",
         "name": "Melodrama, circle",
         "orientation": "v",
         "showlegend": true,
         "type": "scatter",
         "x": [
          14.969162289550505,
          16.43555050672267,
          48.702299754616675,
          48.702299754616675
         ],
         "xaxis": "x",
         "y": [
          -1.835703814190824,
          1.3733410918453846,
          -14.875576996647947,
          -14.875576996647945
         ],
         "yaxis": "y"
        }
       ],
       "layout": {
        "coloraxis": {
         "colorbar": {
          "title": {
           "text": "Album"
          }
         }
        },
        "legend": {
         "itemsizing": "constant",
         "title": {
          "text": "predicted_album, symbol"
         },
         "tracegroupgap": 0
        },
        "template": {
         "data": {
          "bar": [
           {
            "error_x": {
             "color": "#2a3f5f"
            },
            "error_y": {
             "color": "#2a3f5f"
            },
            "marker": {
             "line": {
              "color": "#E5ECF6",
              "width": 0.5
             },
             "pattern": {
              "fillmode": "overlay",
              "size": 10,
              "solidity": 0.2
             }
            },
            "type": "bar"
           }
          ],
          "barpolar": [
           {
            "marker": {
             "line": {
              "color": "#E5ECF6",
              "width": 0.5
             },
             "pattern": {
              "fillmode": "overlay",
              "size": 10,
              "solidity": 0.2
             }
            },
            "type": "barpolar"
           }
          ],
          "carpet": [
           {
            "aaxis": {
             "endlinecolor": "#2a3f5f",
             "gridcolor": "white",
             "linecolor": "white",
             "minorgridcolor": "white",
             "startlinecolor": "#2a3f5f"
            },
            "baxis": {
             "endlinecolor": "#2a3f5f",
             "gridcolor": "white",
             "linecolor": "white",
             "minorgridcolor": "white",
             "startlinecolor": "#2a3f5f"
            },
            "type": "carpet"
           }
          ],
          "choropleth": [
           {
            "colorbar": {
             "outlinewidth": 0,
             "ticks": ""
            },
            "type": "choropleth"
           }
          ],
          "contour": [
           {
            "colorbar": {
             "outlinewidth": 0,
             "ticks": ""
            },
            "colorscale": [
             [
              0,
              "#0d0887"
             ],
             [
              0.1111111111111111,
              "#46039f"
             ],
             [
              0.2222222222222222,
              "#7201a8"
             ],
             [
              0.3333333333333333,
              "#9c179e"
             ],
             [
              0.4444444444444444,
              "#bd3786"
             ],
             [
              0.5555555555555556,
              "#d8576b"
             ],
             [
              0.6666666666666666,
              "#ed7953"
             ],
             [
              0.7777777777777778,
              "#fb9f3a"
             ],
             [
              0.8888888888888888,
              "#fdca26"
             ],
             [
              1,
              "#f0f921"
             ]
            ],
            "type": "contour"
           }
          ],
          "contourcarpet": [
           {
            "colorbar": {
             "outlinewidth": 0,
             "ticks": ""
            },
            "type": "contourcarpet"
           }
          ],
          "heatmap": [
           {
            "colorbar": {
             "outlinewidth": 0,
             "ticks": ""
            },
            "colorscale": [
             [
              0,
              "#0d0887"
             ],
             [
              0.1111111111111111,
              "#46039f"
             ],
             [
              0.2222222222222222,
              "#7201a8"
             ],
             [
              0.3333333333333333,
              "#9c179e"
             ],
             [
              0.4444444444444444,
              "#bd3786"
             ],
             [
              0.5555555555555556,
              "#d8576b"
             ],
             [
              0.6666666666666666,
              "#ed7953"
             ],
             [
              0.7777777777777778,
              "#fb9f3a"
             ],
             [
              0.8888888888888888,
              "#fdca26"
             ],
             [
              1,
              "#f0f921"
             ]
            ],
            "type": "heatmap"
           }
          ],
          "heatmapgl": [
           {
            "colorbar": {
             "outlinewidth": 0,
             "ticks": ""
            },
            "colorscale": [
             [
              0,
              "#0d0887"
             ],
             [
              0.1111111111111111,
              "#46039f"
             ],
             [
              0.2222222222222222,
              "#7201a8"
             ],
             [
              0.3333333333333333,
              "#9c179e"
             ],
             [
              0.4444444444444444,
              "#bd3786"
             ],
             [
              0.5555555555555556,
              "#d8576b"
             ],
             [
              0.6666666666666666,
              "#ed7953"
             ],
             [
              0.7777777777777778,
              "#fb9f3a"
             ],
             [
              0.8888888888888888,
              "#fdca26"
             ],
             [
              1,
              "#f0f921"
             ]
            ],
            "type": "heatmapgl"
           }
          ],
          "histogram": [
           {
            "marker": {
             "pattern": {
              "fillmode": "overlay",
              "size": 10,
              "solidity": 0.2
             }
            },
            "type": "histogram"
           }
          ],
          "histogram2d": [
           {
            "colorbar": {
             "outlinewidth": 0,
             "ticks": ""
            },
            "colorscale": [
             [
              0,
              "#0d0887"
             ],
             [
              0.1111111111111111,
              "#46039f"
             ],
             [
              0.2222222222222222,
              "#7201a8"
             ],
             [
              0.3333333333333333,
              "#9c179e"
             ],
             [
              0.4444444444444444,
              "#bd3786"
             ],
             [
              0.5555555555555556,
              "#d8576b"
             ],
             [
              0.6666666666666666,
              "#ed7953"
             ],
             [
              0.7777777777777778,
              "#fb9f3a"
             ],
             [
              0.8888888888888888,
              "#fdca26"
             ],
             [
              1,
              "#f0f921"
             ]
            ],
            "type": "histogram2d"
           }
          ],
          "histogram2dcontour": [
           {
            "colorbar": {
             "outlinewidth": 0,
             "ticks": ""
            },
            "colorscale": [
             [
              0,
              "#0d0887"
             ],
             [
              0.1111111111111111,
              "#46039f"
             ],
             [
              0.2222222222222222,
              "#7201a8"
             ],
             [
              0.3333333333333333,
              "#9c179e"
             ],
             [
              0.4444444444444444,
              "#bd3786"
             ],
             [
              0.5555555555555556,
              "#d8576b"
             ],
             [
              0.6666666666666666,
              "#ed7953"
             ],
             [
              0.7777777777777778,
              "#fb9f3a"
             ],
             [
              0.8888888888888888,
              "#fdca26"
             ],
             [
              1,
              "#f0f921"
             ]
            ],
            "type": "histogram2dcontour"
           }
          ],
          "mesh3d": [
           {
            "colorbar": {
             "outlinewidth": 0,
             "ticks": ""
            },
            "type": "mesh3d"
           }
          ],
          "parcoords": [
           {
            "line": {
             "colorbar": {
              "outlinewidth": 0,
              "ticks": ""
             }
            },
            "type": "parcoords"
           }
          ],
          "pie": [
           {
            "automargin": true,
            "type": "pie"
           }
          ],
          "scatter": [
           {
            "fillpattern": {
             "fillmode": "overlay",
             "size": 10,
             "solidity": 0.2
            },
            "type": "scatter"
           }
          ],
          "scatter3d": [
           {
            "line": {
             "colorbar": {
              "outlinewidth": 0,
              "ticks": ""
             }
            },
            "marker": {
             "colorbar": {
              "outlinewidth": 0,
              "ticks": ""
             }
            },
            "type": "scatter3d"
           }
          ],
          "scattercarpet": [
           {
            "marker": {
             "colorbar": {
              "outlinewidth": 0,
              "ticks": ""
             }
            },
            "type": "scattercarpet"
           }
          ],
          "scattergeo": [
           {
            "marker": {
             "colorbar": {
              "outlinewidth": 0,
              "ticks": ""
             }
            },
            "type": "scattergeo"
           }
          ],
          "scattergl": [
           {
            "marker": {
             "colorbar": {
              "outlinewidth": 0,
              "ticks": ""
             }
            },
            "type": "scattergl"
           }
          ],
          "scattermapbox": [
           {
            "marker": {
             "colorbar": {
              "outlinewidth": 0,
              "ticks": ""
             }
            },
            "type": "scattermapbox"
           }
          ],
          "scatterpolar": [
           {
            "marker": {
             "colorbar": {
              "outlinewidth": 0,
              "ticks": ""
             }
            },
            "type": "scatterpolar"
           }
          ],
          "scatterpolargl": [
           {
            "marker": {
             "colorbar": {
              "outlinewidth": 0,
              "ticks": ""
             }
            },
            "type": "scatterpolargl"
           }
          ],
          "scatterternary": [
           {
            "marker": {
             "colorbar": {
              "outlinewidth": 0,
              "ticks": ""
             }
            },
            "type": "scatterternary"
           }
          ],
          "surface": [
           {
            "colorbar": {
             "outlinewidth": 0,
             "ticks": ""
            },
            "colorscale": [
             [
              0,
              "#0d0887"
             ],
             [
              0.1111111111111111,
              "#46039f"
             ],
             [
              0.2222222222222222,
              "#7201a8"
             ],
             [
              0.3333333333333333,
              "#9c179e"
             ],
             [
              0.4444444444444444,
              "#bd3786"
             ],
             [
              0.5555555555555556,
              "#d8576b"
             ],
             [
              0.6666666666666666,
              "#ed7953"
             ],
             [
              0.7777777777777778,
              "#fb9f3a"
             ],
             [
              0.8888888888888888,
              "#fdca26"
             ],
             [
              1,
              "#f0f921"
             ]
            ],
            "type": "surface"
           }
          ],
          "table": [
           {
            "cells": {
             "fill": {
              "color": "#EBF0F8"
             },
             "line": {
              "color": "white"
             }
            },
            "header": {
             "fill": {
              "color": "#C8D4E3"
             },
             "line": {
              "color": "white"
             }
            },
            "type": "table"
           }
          ]
         },
         "layout": {
          "annotationdefaults": {
           "arrowcolor": "#2a3f5f",
           "arrowhead": 0,
           "arrowwidth": 1
          },
          "autotypenumbers": "strict",
          "coloraxis": {
           "colorbar": {
            "outlinewidth": 0,
            "ticks": ""
           }
          },
          "colorscale": {
           "diverging": [
            [
             0,
             "#8e0152"
            ],
            [
             0.1,
             "#c51b7d"
            ],
            [
             0.2,
             "#de77ae"
            ],
            [
             0.3,
             "#f1b6da"
            ],
            [
             0.4,
             "#fde0ef"
            ],
            [
             0.5,
             "#f7f7f7"
            ],
            [
             0.6,
             "#e6f5d0"
            ],
            [
             0.7,
             "#b8e186"
            ],
            [
             0.8,
             "#7fbc41"
            ],
            [
             0.9,
             "#4d9221"
            ],
            [
             1,
             "#276419"
            ]
           ],
           "sequential": [
            [
             0,
             "#0d0887"
            ],
            [
             0.1111111111111111,
             "#46039f"
            ],
            [
             0.2222222222222222,
             "#7201a8"
            ],
            [
             0.3333333333333333,
             "#9c179e"
            ],
            [
             0.4444444444444444,
             "#bd3786"
            ],
            [
             0.5555555555555556,
             "#d8576b"
            ],
            [
             0.6666666666666666,
             "#ed7953"
            ],
            [
             0.7777777777777778,
             "#fb9f3a"
            ],
            [
             0.8888888888888888,
             "#fdca26"
            ],
            [
             1,
             "#f0f921"
            ]
           ],
           "sequentialminus": [
            [
             0,
             "#0d0887"
            ],
            [
             0.1111111111111111,
             "#46039f"
            ],
            [
             0.2222222222222222,
             "#7201a8"
            ],
            [
             0.3333333333333333,
             "#9c179e"
            ],
            [
             0.4444444444444444,
             "#bd3786"
            ],
            [
             0.5555555555555556,
             "#d8576b"
            ],
            [
             0.6666666666666666,
             "#ed7953"
            ],
            [
             0.7777777777777778,
             "#fb9f3a"
            ],
            [
             0.8888888888888888,
             "#fdca26"
            ],
            [
             1,
             "#f0f921"
            ]
           ]
          },
          "colorway": [
           "#636efa",
           "#EF553B",
           "#00cc96",
           "#ab63fa",
           "#FFA15A",
           "#19d3f3",
           "#FF6692",
           "#B6E880",
           "#FF97FF",
           "#FECB52"
          ],
          "font": {
           "color": "#2a3f5f"
          },
          "geo": {
           "bgcolor": "white",
           "lakecolor": "white",
           "landcolor": "#E5ECF6",
           "showlakes": true,
           "showland": true,
           "subunitcolor": "white"
          },
          "hoverlabel": {
           "align": "left"
          },
          "hovermode": "closest",
          "mapbox": {
           "style": "light"
          },
          "paper_bgcolor": "white",
          "plot_bgcolor": "#E5ECF6",
          "polar": {
           "angularaxis": {
            "gridcolor": "white",
            "linecolor": "white",
            "ticks": ""
           },
           "bgcolor": "#E5ECF6",
           "radialaxis": {
            "gridcolor": "white",
            "linecolor": "white",
            "ticks": ""
           }
          },
          "scene": {
           "xaxis": {
            "backgroundcolor": "#E5ECF6",
            "gridcolor": "white",
            "gridwidth": 2,
            "linecolor": "white",
            "showbackground": true,
            "ticks": "",
            "zerolinecolor": "white"
           },
           "yaxis": {
            "backgroundcolor": "#E5ECF6",
            "gridcolor": "white",
            "gridwidth": 2,
            "linecolor": "white",
            "showbackground": true,
            "ticks": "",
            "zerolinecolor": "white"
           },
           "zaxis": {
            "backgroundcolor": "#E5ECF6",
            "gridcolor": "white",
            "gridwidth": 2,
            "linecolor": "white",
            "showbackground": true,
            "ticks": "",
            "zerolinecolor": "white"
           }
          },
          "shapedefaults": {
           "line": {
            "color": "#2a3f5f"
           }
          },
          "ternary": {
           "aaxis": {
            "gridcolor": "white",
            "linecolor": "white",
            "ticks": ""
           },
           "baxis": {
            "gridcolor": "white",
            "linecolor": "white",
            "ticks": ""
           },
           "bgcolor": "#E5ECF6",
           "caxis": {
            "gridcolor": "white",
            "linecolor": "white",
            "ticks": ""
           }
          },
          "title": {
           "x": 0.05
          },
          "xaxis": {
           "automargin": true,
           "gridcolor": "white",
           "linecolor": "white",
           "ticks": "",
           "title": {
            "standoff": 15
           },
           "zerolinecolor": "white",
           "zerolinewidth": 2
          },
          "yaxis": {
           "automargin": true,
           "gridcolor": "white",
           "linecolor": "white",
           "ticks": "",
           "title": {
            "standoff": 15
           },
           "zerolinecolor": "white",
           "zerolinewidth": 2
          }
         }
        },
        "title": {
         "text": "Song coordinates in 2D space - lyrics"
        },
        "xaxis": {
         "anchor": "y",
         "domain": [
          0,
          1
         ],
         "title": {
          "text": "x"
         }
        },
        "yaxis": {
         "anchor": "x",
         "domain": [
          0,
          1
         ],
         "title": {
          "text": "y"
         }
        }
       }
      }
     },
     "metadata": {},
     "output_type": "display_data"
    },
    {
     "name": "stdout",
     "output_type": "stream",
     "text": [
      "This score is between -1 and 1, where 1 means that, in average, the objects are very similar to their own cluster and far from other clusters, and -1 means the opposite.\n"
     ]
    },
    {
     "data": {
      "application/vnd.plotly.v1+json": {
       "config": {
        "plotlyServerURL": "https://plot.ly"
       },
       "data": [
        {
         "alignmentgroup": "True",
         "hovertemplate": "Silhouette Score=%{marker.color:.3f}<br>Album=%{y}<extra></extra>",
         "legendgroup": "",
         "marker": {
          "color": [
           0.03221965321218625,
           0.030497481588306175,
           0.04512676232612877
          ],
          "coloraxis": "coloraxis",
          "pattern": {
           "shape": ""
          }
         },
         "name": "",
         "offsetgroup": "",
         "orientation": "h",
         "showlegend": false,
         "text": [
          0.03221965321218625,
          0.030497481588306175,
          0.04512676232612877
         ],
         "textposition": "auto",
         "type": "bar",
         "x": [
          0.03221965321218625,
          0.030497481588306175,
          0.04512676232612877
         ],
         "xaxis": "x",
         "y": [
          "Pure Heroine",
          "Melodrama",
          "Solar Power"
         ],
         "yaxis": "y"
        }
       ],
       "layout": {
        "barmode": "relative",
        "coloraxis": {
         "colorbar": {
          "title": {
           "text": "Silhouette Score"
          }
         },
         "colorscale": [
          [
           0,
           "#0d0887"
          ],
          [
           0.1111111111111111,
           "#46039f"
          ],
          [
           0.2222222222222222,
           "#7201a8"
          ],
          [
           0.3333333333333333,
           "#9c179e"
          ],
          [
           0.4444444444444444,
           "#bd3786"
          ],
          [
           0.5555555555555556,
           "#d8576b"
          ],
          [
           0.6666666666666666,
           "#ed7953"
          ],
          [
           0.7777777777777778,
           "#fb9f3a"
          ],
          [
           0.8888888888888888,
           "#fdca26"
          ],
          [
           1,
           "#f0f921"
          ]
         ]
        },
        "legend": {
         "tracegroupgap": 0
        },
        "template": {
         "data": {
          "bar": [
           {
            "error_x": {
             "color": "#2a3f5f"
            },
            "error_y": {
             "color": "#2a3f5f"
            },
            "marker": {
             "line": {
              "color": "#E5ECF6",
              "width": 0.5
             },
             "pattern": {
              "fillmode": "overlay",
              "size": 10,
              "solidity": 0.2
             }
            },
            "type": "bar"
           }
          ],
          "barpolar": [
           {
            "marker": {
             "line": {
              "color": "#E5ECF6",
              "width": 0.5
             },
             "pattern": {
              "fillmode": "overlay",
              "size": 10,
              "solidity": 0.2
             }
            },
            "type": "barpolar"
           }
          ],
          "carpet": [
           {
            "aaxis": {
             "endlinecolor": "#2a3f5f",
             "gridcolor": "white",
             "linecolor": "white",
             "minorgridcolor": "white",
             "startlinecolor": "#2a3f5f"
            },
            "baxis": {
             "endlinecolor": "#2a3f5f",
             "gridcolor": "white",
             "linecolor": "white",
             "minorgridcolor": "white",
             "startlinecolor": "#2a3f5f"
            },
            "type": "carpet"
           }
          ],
          "choropleth": [
           {
            "colorbar": {
             "outlinewidth": 0,
             "ticks": ""
            },
            "type": "choropleth"
           }
          ],
          "contour": [
           {
            "colorbar": {
             "outlinewidth": 0,
             "ticks": ""
            },
            "colorscale": [
             [
              0,
              "#0d0887"
             ],
             [
              0.1111111111111111,
              "#46039f"
             ],
             [
              0.2222222222222222,
              "#7201a8"
             ],
             [
              0.3333333333333333,
              "#9c179e"
             ],
             [
              0.4444444444444444,
              "#bd3786"
             ],
             [
              0.5555555555555556,
              "#d8576b"
             ],
             [
              0.6666666666666666,
              "#ed7953"
             ],
             [
              0.7777777777777778,
              "#fb9f3a"
             ],
             [
              0.8888888888888888,
              "#fdca26"
             ],
             [
              1,
              "#f0f921"
             ]
            ],
            "type": "contour"
           }
          ],
          "contourcarpet": [
           {
            "colorbar": {
             "outlinewidth": 0,
             "ticks": ""
            },
            "type": "contourcarpet"
           }
          ],
          "heatmap": [
           {
            "colorbar": {
             "outlinewidth": 0,
             "ticks": ""
            },
            "colorscale": [
             [
              0,
              "#0d0887"
             ],
             [
              0.1111111111111111,
              "#46039f"
             ],
             [
              0.2222222222222222,
              "#7201a8"
             ],
             [
              0.3333333333333333,
              "#9c179e"
             ],
             [
              0.4444444444444444,
              "#bd3786"
             ],
             [
              0.5555555555555556,
              "#d8576b"
             ],
             [
              0.6666666666666666,
              "#ed7953"
             ],
             [
              0.7777777777777778,
              "#fb9f3a"
             ],
             [
              0.8888888888888888,
              "#fdca26"
             ],
             [
              1,
              "#f0f921"
             ]
            ],
            "type": "heatmap"
           }
          ],
          "heatmapgl": [
           {
            "colorbar": {
             "outlinewidth": 0,
             "ticks": ""
            },
            "colorscale": [
             [
              0,
              "#0d0887"
             ],
             [
              0.1111111111111111,
              "#46039f"
             ],
             [
              0.2222222222222222,
              "#7201a8"
             ],
             [
              0.3333333333333333,
              "#9c179e"
             ],
             [
              0.4444444444444444,
              "#bd3786"
             ],
             [
              0.5555555555555556,
              "#d8576b"
             ],
             [
              0.6666666666666666,
              "#ed7953"
             ],
             [
              0.7777777777777778,
              "#fb9f3a"
             ],
             [
              0.8888888888888888,
              "#fdca26"
             ],
             [
              1,
              "#f0f921"
             ]
            ],
            "type": "heatmapgl"
           }
          ],
          "histogram": [
           {
            "marker": {
             "pattern": {
              "fillmode": "overlay",
              "size": 10,
              "solidity": 0.2
             }
            },
            "type": "histogram"
           }
          ],
          "histogram2d": [
           {
            "colorbar": {
             "outlinewidth": 0,
             "ticks": ""
            },
            "colorscale": [
             [
              0,
              "#0d0887"
             ],
             [
              0.1111111111111111,
              "#46039f"
             ],
             [
              0.2222222222222222,
              "#7201a8"
             ],
             [
              0.3333333333333333,
              "#9c179e"
             ],
             [
              0.4444444444444444,
              "#bd3786"
             ],
             [
              0.5555555555555556,
              "#d8576b"
             ],
             [
              0.6666666666666666,
              "#ed7953"
             ],
             [
              0.7777777777777778,
              "#fb9f3a"
             ],
             [
              0.8888888888888888,
              "#fdca26"
             ],
             [
              1,
              "#f0f921"
             ]
            ],
            "type": "histogram2d"
           }
          ],
          "histogram2dcontour": [
           {
            "colorbar": {
             "outlinewidth": 0,
             "ticks": ""
            },
            "colorscale": [
             [
              0,
              "#0d0887"
             ],
             [
              0.1111111111111111,
              "#46039f"
             ],
             [
              0.2222222222222222,
              "#7201a8"
             ],
             [
              0.3333333333333333,
              "#9c179e"
             ],
             [
              0.4444444444444444,
              "#bd3786"
             ],
             [
              0.5555555555555556,
              "#d8576b"
             ],
             [
              0.6666666666666666,
              "#ed7953"
             ],
             [
              0.7777777777777778,
              "#fb9f3a"
             ],
             [
              0.8888888888888888,
              "#fdca26"
             ],
             [
              1,
              "#f0f921"
             ]
            ],
            "type": "histogram2dcontour"
           }
          ],
          "mesh3d": [
           {
            "colorbar": {
             "outlinewidth": 0,
             "ticks": ""
            },
            "type": "mesh3d"
           }
          ],
          "parcoords": [
           {
            "line": {
             "colorbar": {
              "outlinewidth": 0,
              "ticks": ""
             }
            },
            "type": "parcoords"
           }
          ],
          "pie": [
           {
            "automargin": true,
            "type": "pie"
           }
          ],
          "scatter": [
           {
            "fillpattern": {
             "fillmode": "overlay",
             "size": 10,
             "solidity": 0.2
            },
            "type": "scatter"
           }
          ],
          "scatter3d": [
           {
            "line": {
             "colorbar": {
              "outlinewidth": 0,
              "ticks": ""
             }
            },
            "marker": {
             "colorbar": {
              "outlinewidth": 0,
              "ticks": ""
             }
            },
            "type": "scatter3d"
           }
          ],
          "scattercarpet": [
           {
            "marker": {
             "colorbar": {
              "outlinewidth": 0,
              "ticks": ""
             }
            },
            "type": "scattercarpet"
           }
          ],
          "scattergeo": [
           {
            "marker": {
             "colorbar": {
              "outlinewidth": 0,
              "ticks": ""
             }
            },
            "type": "scattergeo"
           }
          ],
          "scattergl": [
           {
            "marker": {
             "colorbar": {
              "outlinewidth": 0,
              "ticks": ""
             }
            },
            "type": "scattergl"
           }
          ],
          "scattermapbox": [
           {
            "marker": {
             "colorbar": {
              "outlinewidth": 0,
              "ticks": ""
             }
            },
            "type": "scattermapbox"
           }
          ],
          "scatterpolar": [
           {
            "marker": {
             "colorbar": {
              "outlinewidth": 0,
              "ticks": ""
             }
            },
            "type": "scatterpolar"
           }
          ],
          "scatterpolargl": [
           {
            "marker": {
             "colorbar": {
              "outlinewidth": 0,
              "ticks": ""
             }
            },
            "type": "scatterpolargl"
           }
          ],
          "scatterternary": [
           {
            "marker": {
             "colorbar": {
              "outlinewidth": 0,
              "ticks": ""
             }
            },
            "type": "scatterternary"
           }
          ],
          "surface": [
           {
            "colorbar": {
             "outlinewidth": 0,
             "ticks": ""
            },
            "colorscale": [
             [
              0,
              "#0d0887"
             ],
             [
              0.1111111111111111,
              "#46039f"
             ],
             [
              0.2222222222222222,
              "#7201a8"
             ],
             [
              0.3333333333333333,
              "#9c179e"
             ],
             [
              0.4444444444444444,
              "#bd3786"
             ],
             [
              0.5555555555555556,
              "#d8576b"
             ],
             [
              0.6666666666666666,
              "#ed7953"
             ],
             [
              0.7777777777777778,
              "#fb9f3a"
             ],
             [
              0.8888888888888888,
              "#fdca26"
             ],
             [
              1,
              "#f0f921"
             ]
            ],
            "type": "surface"
           }
          ],
          "table": [
           {
            "cells": {
             "fill": {
              "color": "#EBF0F8"
             },
             "line": {
              "color": "white"
             }
            },
            "header": {
             "fill": {
              "color": "#C8D4E3"
             },
             "line": {
              "color": "white"
             }
            },
            "type": "table"
           }
          ]
         },
         "layout": {
          "annotationdefaults": {
           "arrowcolor": "#2a3f5f",
           "arrowhead": 0,
           "arrowwidth": 1
          },
          "autotypenumbers": "strict",
          "coloraxis": {
           "colorbar": {
            "outlinewidth": 0,
            "ticks": ""
           }
          },
          "colorscale": {
           "diverging": [
            [
             0,
             "#8e0152"
            ],
            [
             0.1,
             "#c51b7d"
            ],
            [
             0.2,
             "#de77ae"
            ],
            [
             0.3,
             "#f1b6da"
            ],
            [
             0.4,
             "#fde0ef"
            ],
            [
             0.5,
             "#f7f7f7"
            ],
            [
             0.6,
             "#e6f5d0"
            ],
            [
             0.7,
             "#b8e186"
            ],
            [
             0.8,
             "#7fbc41"
            ],
            [
             0.9,
             "#4d9221"
            ],
            [
             1,
             "#276419"
            ]
           ],
           "sequential": [
            [
             0,
             "#0d0887"
            ],
            [
             0.1111111111111111,
             "#46039f"
            ],
            [
             0.2222222222222222,
             "#7201a8"
            ],
            [
             0.3333333333333333,
             "#9c179e"
            ],
            [
             0.4444444444444444,
             "#bd3786"
            ],
            [
             0.5555555555555556,
             "#d8576b"
            ],
            [
             0.6666666666666666,
             "#ed7953"
            ],
            [
             0.7777777777777778,
             "#fb9f3a"
            ],
            [
             0.8888888888888888,
             "#fdca26"
            ],
            [
             1,
             "#f0f921"
            ]
           ],
           "sequentialminus": [
            [
             0,
             "#0d0887"
            ],
            [
             0.1111111111111111,
             "#46039f"
            ],
            [
             0.2222222222222222,
             "#7201a8"
            ],
            [
             0.3333333333333333,
             "#9c179e"
            ],
            [
             0.4444444444444444,
             "#bd3786"
            ],
            [
             0.5555555555555556,
             "#d8576b"
            ],
            [
             0.6666666666666666,
             "#ed7953"
            ],
            [
             0.7777777777777778,
             "#fb9f3a"
            ],
            [
             0.8888888888888888,
             "#fdca26"
            ],
            [
             1,
             "#f0f921"
            ]
           ]
          },
          "colorway": [
           "#636efa",
           "#EF553B",
           "#00cc96",
           "#ab63fa",
           "#FFA15A",
           "#19d3f3",
           "#FF6692",
           "#B6E880",
           "#FF97FF",
           "#FECB52"
          ],
          "font": {
           "color": "#2a3f5f"
          },
          "geo": {
           "bgcolor": "white",
           "lakecolor": "white",
           "landcolor": "#E5ECF6",
           "showlakes": true,
           "showland": true,
           "subunitcolor": "white"
          },
          "hoverlabel": {
           "align": "left"
          },
          "hovermode": "closest",
          "mapbox": {
           "style": "light"
          },
          "paper_bgcolor": "white",
          "plot_bgcolor": "#E5ECF6",
          "polar": {
           "angularaxis": {
            "gridcolor": "white",
            "linecolor": "white",
            "ticks": ""
           },
           "bgcolor": "#E5ECF6",
           "radialaxis": {
            "gridcolor": "white",
            "linecolor": "white",
            "ticks": ""
           }
          },
          "scene": {
           "xaxis": {
            "backgroundcolor": "#E5ECF6",
            "gridcolor": "white",
            "gridwidth": 2,
            "linecolor": "white",
            "showbackground": true,
            "ticks": "",
            "zerolinecolor": "white"
           },
           "yaxis": {
            "backgroundcolor": "#E5ECF6",
            "gridcolor": "white",
            "gridwidth": 2,
            "linecolor": "white",
            "showbackground": true,
            "ticks": "",
            "zerolinecolor": "white"
           },
           "zaxis": {
            "backgroundcolor": "#E5ECF6",
            "gridcolor": "white",
            "gridwidth": 2,
            "linecolor": "white",
            "showbackground": true,
            "ticks": "",
            "zerolinecolor": "white"
           }
          },
          "shapedefaults": {
           "line": {
            "color": "#2a3f5f"
           }
          },
          "ternary": {
           "aaxis": {
            "gridcolor": "white",
            "linecolor": "white",
            "ticks": ""
           },
           "baxis": {
            "gridcolor": "white",
            "linecolor": "white",
            "ticks": ""
           },
           "bgcolor": "#E5ECF6",
           "caxis": {
            "gridcolor": "white",
            "linecolor": "white",
            "ticks": ""
           }
          },
          "title": {
           "x": 0.05
          },
          "xaxis": {
           "automargin": true,
           "gridcolor": "white",
           "linecolor": "white",
           "ticks": "",
           "title": {
            "standoff": 15
           },
           "zerolinecolor": "white",
           "zerolinewidth": 2
          },
          "yaxis": {
           "automargin": true,
           "gridcolor": "white",
           "linecolor": "white",
           "ticks": "",
           "title": {
            "standoff": 15
           },
           "zerolinecolor": "white",
           "zerolinewidth": 2
          }
         }
        },
        "title": {
         "text": "Avg Silhouette Score for Each Album - lyrics"
        },
        "xaxis": {
         "anchor": "y",
         "domain": [
          0,
          1
         ],
         "title": {
          "text": "Silhouette Score"
         }
        },
        "yaxis": {
         "anchor": "x",
         "domain": [
          0,
          1
         ],
         "title": {
          "text": "Album"
         }
        }
       }
      }
     },
     "metadata": {},
     "output_type": "display_data"
    }
   ],
   "source": [
    "# lyrics\n",
    "pt = Plot(discography)\n",
    "pt.plot_confusion_matrix()\n",
    "pt.plot_clusters()\n",
    "pt.plot_sillhouette_score()"
   ]
  },
  {
   "cell_type": "code",
   "execution_count": 222,
   "metadata": {},
   "outputs": [
    {
     "name": "stderr",
     "output_type": "stream",
     "text": [
      "/Users/luisa/Library/Python/3.9/lib/python/site-packages/sklearn/cluster/_kmeans.py:870: FutureWarning:\n",
      "\n",
      "The default value of `n_init` will change from 10 to 'auto' in 1.4. Set the value of `n_init` explicitly to suppress the warning\n",
      "\n"
     ]
    },
    {
     "data": {
      "image/png": "[encoded data removed]",
      "text/plain": [
       "<Figure size 640x480 with 2 Axes>"
      ]
     },
     "metadata": {},
     "output_type": "display_data"
    },
    {
     "data": {
      "application/vnd.plotly.v1+json": {
       "config": {
        "plotlyServerURL": "https://plot.ly"
       },
       "data": [
        {
         "customdata": [
          [
           "Pure Heroine",
           "Solar Power",
           "Tennis Court"
          ],
          [
           "Pure Heroine",
           "Solar Power",
           "Buzzcut Season"
          ],
          [
           "Pure Heroine",
           "Solar Power",
           "Team"
          ],
          [
           "Pure Heroine",
           "Solar Power",
           "White Teeth Teens"
          ],
          [
           "Melodrama",
           "Solar Power",
           "Homemade Dynamite"
          ],
          [
           "Melodrama",
           "Solar Power",
           "The Louvre"
          ],
          [
           "Melodrama",
           "Solar Power",
           "Perfect Places"
          ]
         ],
         "hovertemplate": "<b>%{hovertext}</b><br>True Album: %{customdata[0]}<br>Predicted Album: %{customdata[1]}<br>Song Title: %{customdata[2]}<extra></extra>",
         "hovertext": [
          "Tennis Court",
          "Buzzcut Season",
          "Team",
          "White Teeth Teens",
          "Homemade Dynamite",
          "The Louvre",
          "Perfect Places"
         ],
         "legendgroup": "Solar Power, circle",
         "marker": {
          "color": "#636efa",
          "size": [
           1,
           1,
           1,
           1,
           1,
           1,
           1
          ],
          "sizemode": "area",
          "sizeref": 0.01,
          "symbol": "circle"
         },
         "mode": "markers",
         "name": "Solar Power, circle",
         "orientation": "v",
         "showlegend": true,
         "type": "scatter",
         "x": [
          -3.107656595929045,
          6.8362474739132315,
          -13.302369304413487,
          41.25233046129018,
          -6.292710290897058,
          -13.849585111305705,
          10.7738515418145
         ],
         "xaxis": "x",
         "y": [
          -11.75747983336003,
          -9.532917185347095,
          -5.015762293097759,
          -18.384010717353892,
          -9.292459840387956,
          -7.992096209715926,
          0.1727005301151938
         ],
         "yaxis": "y"
        },
        {
         "customdata": [
          [
           "Solar Power",
           "Solar Power",
           "Solar Power"
          ],
          [
           "Solar Power",
           "Solar Power",
           "Stoned At The Nail Salon"
          ],
          [
           "Solar Power",
           "Solar Power",
           "Fallen Fruit"
          ],
          [
           "Solar Power",
           "Solar Power",
           "Stoned At The Nail Salon"
          ],
          [
           "Solar Power",
           "Solar Power",
           "Dominoes"
          ],
          [
           "Solar Power",
           "Solar Power",
           "White Teeth Teens"
          ]
         ],
         "hovertemplate": "<b>%{hovertext}</b><br>True Album: %{customdata[0]}<br>Predicted Album: %{customdata[1]}<br>Song Title: %{customdata[2]}<extra></extra>",
         "hovertext": [
          "Solar Power",
          "Stoned At The Nail Salon",
          "Fallen Fruit",
          "Stoned At The Nail Salon",
          "Dominoes",
          "White Teeth Teens"
         ],
         "legendgroup": "Solar Power, diamond",
         "marker": {
          "color": "#636efa",
          "size": [
           1,
           1,
           1,
           1,
           1,
           1
          ],
          "sizemode": "area",
          "sizeref": 0.01,
          "symbol": "diamond"
         },
         "mode": "markers",
         "name": "Solar Power, diamond",
         "orientation": "v",
         "showlegend": true,
         "type": "scatter",
         "x": [
          -34.73019390778475,
          18.13944795088208,
          -0.850041488741492,
          18.13944795088208,
          -9.381594605644764,
          41.25233046129018
         ],
         "xaxis": "x",
         "y": [
          -29.933658915220423,
          -33.65326966522318,
          2.921766963965135,
          -33.65326966522318,
          -11.903531610654277,
          -18.384010717353892
         ],
         "yaxis": "y"
        },
        {
         "customdata": [
          [
           "Pure Heroine",
           "Melodrama",
           "400 Lux"
          ],
          [
           "Pure Heroine",
           "Melodrama",
           "Royals"
          ],
          [
           "Pure Heroine",
           "Melodrama",
           "Ribs"
          ],
          [
           "Solar Power",
           "Melodrama",
           "California"
          ]
         ],
         "hovertemplate": "<b>%{hovertext}</b><br>True Album: %{customdata[0]}<br>Predicted Album: %{customdata[1]}<br>Song Title: %{customdata[2]}<extra></extra>",
         "hovertext": [
          "400 Lux",
          "Royals",
          "Ribs",
          "California"
         ],
         "legendgroup": "Melodrama, circle",
         "marker": {
          "color": "#EF553B",
          "size": [
           1,
           1,
           1,
           1
          ],
          "sizemode": "area",
          "sizeref": 0.01,
          "symbol": "circle"
         },
         "mode": "markers",
         "name": "Melodrama, circle",
         "orientation": "v",
         "showlegend": true,
         "type": "scatter",
         "x": [
          -34.289493267105044,
          -15.4618133392471,
          -8.099126814846748,
          -21.975533034664714
         ],
         "xaxis": "x",
         "y": [
          -16.16439954180435,
          -14.209959742853812,
          -4.421014954887307,
          -13.831805645035459
         ],
         "yaxis": "y"
        },
        {
         "customdata": [
          [
           "Melodrama",
           "Melodrama",
           "Green Light"
          ],
          [
           "Melodrama",
           "Melodrama",
           "Liability"
          ]
         ],
         "hovertemplate": "<b>%{hovertext}</b><br>True Album: %{customdata[0]}<br>Predicted Album: %{customdata[1]}<br>Song Title: %{customdata[2]}<extra></extra>",
         "hovertext": [
          "Green Light",
          "Liability"
         ],
         "legendgroup": "Melodrama, diamond",
         "marker": {
          "color": "#EF553B",
          "size": [
           1,
           1
          ],
          "sizemode": "area",
          "sizeref": 0.01,
          "symbol": "diamond"
         },
         "mode": "markers",
         "name": "Melodrama, diamond",
         "orientation": "v",
         "showlegend": true,
         "type": "scatter",
         "x": [
          -22.316293601135296,
          -40.94912377143913
         ],
         "xaxis": "x",
         "y": [
          -15.730069899633062,
          31.403408538966996
         ],
         "yaxis": "y"
        },
        {
         "customdata": [
          [
           "Melodrama",
           "Pure Heroine",
           "Sober"
          ],
          [
           "Melodrama",
           "Pure Heroine",
           "Hard Feelings / Loveless"
          ],
          [
           "Melodrama",
           "Pure Heroine",
           "Sober II (Melodrama)"
          ],
          [
           "Melodrama",
           "Pure Heroine",
           "Writer In The Dark"
          ],
          [
           "Melodrama",
           "Pure Heroine",
           "Supercut"
          ],
          [
           "Melodrama",
           "Pure Heroine",
           "Liability (Reprise)"
          ],
          [
           "Melodrama",
           "Pure Heroine",
           "Homemade Dynamite (remix) (feat. Khalid, SZA & Post Malone)"
          ],
          [
           "Solar Power",
           "Pure Heroine",
           "The Path"
          ],
          [
           "Solar Power",
           "Pure Heroine",
           "Secrets from a Girl (Who's Seen it All)"
          ],
          [
           "Solar Power",
           "Pure Heroine",
           "Leader Of a New Regime"
          ],
          [
           "Solar Power",
           "Pure Heroine",
           "Mood Ring"
          ],
          [
           "Solar Power",
           "Pure Heroine",
           "Oceanic Feeling"
          ]
         ],
         "hovertemplate": "<b>%{hovertext}</b><br>True Album: %{customdata[0]}<br>Predicted Album: %{customdata[1]}<br>Song Title: %{customdata[2]}<extra></extra>",
         "hovertext": [
          "Sober",
          "Hard Feelings / Loveless",
          "Sober II (Melodrama)",
          "Writer In The Dark",
          "Supercut",
          "Liability (Reprise)",
          "Homemade Dynamite (remix) (feat. Khalid, SZA & Post Malone)",
          "The Path",
          "Secrets from a Girl (Who's Seen it All)",
          "Leader Of a New Regime",
          "Mood Ring",
          "Oceanic Feeling"
         ],
         "legendgroup": "Pure Heroine, circle",
         "marker": {
          "color": "#00cc96",
          "size": [
           1,
           1,
           1,
           1,
           1,
           1,
           1,
           1,
           1,
           1,
           1,
           1
          ],
          "sizemode": "area",
          "sizeref": 0.01,
          "symbol": "circle"
         },
         "mode": "markers",
         "name": "Pure Heroine, circle",
         "orientation": "v",
         "showlegend": true,
         "type": "scatter",
         "x": [
          -6.2935981960855845,
          23.99524693948494,
          17.89366447649529,
          7.212862290328062,
          -1.8601401366262655,
          -28.714548615716126,
          7.695012577892124,
          1.8133480442226595,
          27.287531795346194,
          1.2844479857656608,
          9.793986268712857,
          10.670493080884487
         ],
         "xaxis": "x",
         "y": [
          3.116100773054378,
          27.456909585974692,
          22.31685544008807,
          19.843639075244848,
          -12.699460729646212,
          43.226731464137934,
          11.652508783743233,
          7.151455479730731,
          20.883125135889816,
          20.557418168172095,
          -0.812231116209595,
          15.419505668312947
         ],
         "yaxis": "y"
        },
        {
         "customdata": [
          [
           "Pure Heroine",
           "Pure Heroine",
           "Glory And Gore"
          ],
          [
           "Pure Heroine",
           "Pure Heroine",
           "Still Sane"
          ],
          [
           "Pure Heroine",
           "Pure Heroine",
           "A World Alone"
          ]
         ],
         "hovertemplate": "<b>%{hovertext}</b><br>True Album: %{customdata[0]}<br>Predicted Album: %{customdata[1]}<br>Song Title: %{customdata[2]}<extra></extra>",
         "hovertext": [
          "Glory And Gore",
          "Still Sane",
          "A World Alone"
         ],
         "legendgroup": "Pure Heroine, diamond",
         "marker": {
          "color": "#00cc96",
          "size": [
           1,
           1,
           1
          ],
          "sizemode": "area",
          "sizeref": 0.01,
          "symbol": "diamond"
         },
         "mode": "markers",
         "name": "Pure Heroine, diamond",
         "orientation": "v",
         "showlegend": true,
         "type": "scatter",
         "x": [
          9.381951135787874,
          -4.697260391959173,
          12.748882038549088
         ],
         "xaxis": "x",
         "y": [
          10.79704785262514,
          6.19879122557456,
          24.253443597411678
         ],
         "yaxis": "y"
        }
       ],
       "layout": {
        "coloraxis": {
         "colorbar": {
          "title": {
           "text": "Album"
          }
         }
        },
        "legend": {
         "itemsizing": "constant",
         "title": {
          "text": "predicted_album, symbol"
         },
         "tracegroupgap": 0
        },
        "template": {
         "data": {
          "bar": [
           {
            "error_x": {
             "color": "#2a3f5f"
            },
            "error_y": {
             "color": "#2a3f5f"
            },
            "marker": {
             "line": {
              "color": "#E5ECF6",
              "width": 0.5
             },
             "pattern": {
              "fillmode": "overlay",
              "size": 10,
              "solidity": 0.2
             }
            },
            "type": "bar"
           }
          ],
          "barpolar": [
           {
            "marker": {
             "line": {
              "color": "#E5ECF6",
              "width": 0.5
             },
             "pattern": {
              "fillmode": "overlay",
              "size": 10,
              "solidity": 0.2
             }
            },
            "type": "barpolar"
           }
          ],
          "carpet": [
           {
            "aaxis": {
             "endlinecolor": "#2a3f5f",
             "gridcolor": "white",
             "linecolor": "white",
             "minorgridcolor": "white",
             "startlinecolor": "#2a3f5f"
            },
            "baxis": {
             "endlinecolor": "#2a3f5f",
             "gridcolor": "white",
             "linecolor": "white",
             "minorgridcolor": "white",
             "startlinecolor": "#2a3f5f"
            },
            "type": "carpet"
           }
          ],
          "choropleth": [
           {
            "colorbar": {
             "outlinewidth": 0,
             "ticks": ""
            },
            "type": "choropleth"
           }
          ],
          "contour": [
           {
            "colorbar": {
             "outlinewidth": 0,
             "ticks": ""
            },
            "colorscale": [
             [
              0,
              "#0d0887"
             ],
             [
              0.1111111111111111,
              "#46039f"
             ],
             [
              0.2222222222222222,
              "#7201a8"
             ],
             [
              0.3333333333333333,
              "#9c179e"
             ],
             [
              0.4444444444444444,
              "#bd3786"
             ],
             [
              0.5555555555555556,
              "#d8576b"
             ],
             [
              0.6666666666666666,
              "#ed7953"
             ],
             [
              0.7777777777777778,
              "#fb9f3a"
             ],
             [
              0.8888888888888888,
              "#fdca26"
             ],
             [
              1,
              "#f0f921"
             ]
            ],
            "type": "contour"
           }
          ],
          "contourcarpet": [
           {
            "colorbar": {
             "outlinewidth": 0,
             "ticks": ""
            },
            "type": "contourcarpet"
           }
          ],
          "heatmap": [
           {
            "colorbar": {
             "outlinewidth": 0,
             "ticks": ""
            },
            "colorscale": [
             [
              0,
              "#0d0887"
             ],
             [
              0.1111111111111111,
              "#46039f"
             ],
             [
              0.2222222222222222,
              "#7201a8"
             ],
             [
              0.3333333333333333,
              "#9c179e"
             ],
             [
              0.4444444444444444,
              "#bd3786"
             ],
             [
              0.5555555555555556,
              "#d8576b"
             ],
             [
              0.6666666666666666,
              "#ed7953"
             ],
             [
              0.7777777777777778,
              "#fb9f3a"
             ],
             [
              0.8888888888888888,
              "#fdca26"
             ],
             [
              1,
              "#f0f921"
             ]
            ],
            "type": "heatmap"
           }
          ],
          "heatmapgl": [
           {
            "colorbar": {
             "outlinewidth": 0,
             "ticks": ""
            },
            "colorscale": [
             [
              0,
              "#0d0887"
             ],
             [
              0.1111111111111111,
              "#46039f"
             ],
             [
              0.2222222222222222,
              "#7201a8"
             ],
             [
              0.3333333333333333,
              "#9c179e"
             ],
             [
              0.4444444444444444,
              "#bd3786"
             ],
             [
              0.5555555555555556,
              "#d8576b"
             ],
             [
              0.6666666666666666,
              "#ed7953"
             ],
             [
              0.7777777777777778,
              "#fb9f3a"
             ],
             [
              0.8888888888888888,
              "#fdca26"
             ],
             [
              1,
              "#f0f921"
             ]
            ],
            "type": "heatmapgl"
           }
          ],
          "histogram": [
           {
            "marker": {
             "pattern": {
              "fillmode": "overlay",
              "size": 10,
              "solidity": 0.2
             }
            },
            "type": "histogram"
           }
          ],
          "histogram2d": [
           {
            "colorbar": {
             "outlinewidth": 0,
             "ticks": ""
            },
            "colorscale": [
             [
              0,
              "#0d0887"
             ],
             [
              0.1111111111111111,
              "#46039f"
             ],
             [
              0.2222222222222222,
              "#7201a8"
             ],
             [
              0.3333333333333333,
              "#9c179e"
             ],
             [
              0.4444444444444444,
              "#bd3786"
             ],
             [
              0.5555555555555556,
              "#d8576b"
             ],
             [
              0.6666666666666666,
              "#ed7953"
             ],
             [
              0.7777777777777778,
              "#fb9f3a"
             ],
             [
              0.8888888888888888,
              "#fdca26"
             ],
             [
              1,
              "#f0f921"
             ]
            ],
            "type": "histogram2d"
           }
          ],
          "histogram2dcontour": [
           {
            "colorbar": {
             "outlinewidth": 0,
             "ticks": ""
            },
            "colorscale": [
             [
              0,
              "#0d0887"
             ],
             [
              0.1111111111111111,
              "#46039f"
             ],
             [
              0.2222222222222222,
              "#7201a8"
             ],
             [
              0.3333333333333333,
              "#9c179e"
             ],
             [
              0.4444444444444444,
              "#bd3786"
             ],
             [
              0.5555555555555556,
              "#d8576b"
             ],
             [
              0.6666666666666666,
              "#ed7953"
             ],
             [
              0.7777777777777778,
              "#fb9f3a"
             ],
             [
              0.8888888888888888,
              "#fdca26"
             ],
             [
              1,
              "#f0f921"
             ]
            ],
            "type": "histogram2dcontour"
           }
          ],
          "mesh3d": [
           {
            "colorbar": {
             "outlinewidth": 0,
             "ticks": ""
            },
            "type": "mesh3d"
           }
          ],
          "parcoords": [
           {
            "line": {
             "colorbar": {
              "outlinewidth": 0,
              "ticks": ""
             }
            },
            "type": "parcoords"
           }
          ],
          "pie": [
           {
            "automargin": true,
            "type": "pie"
           }
          ],
          "scatter": [
           {
            "fillpattern": {
             "fillmode": "overlay",
             "size": 10,
             "solidity": 0.2
            },
            "type": "scatter"
           }
          ],
          "scatter3d": [
           {
            "line": {
             "colorbar": {
              "outlinewidth": 0,
              "ticks": ""
             }
            },
            "marker": {
             "colorbar": {
              "outlinewidth": 0,
              "ticks": ""
             }
            },
            "type": "scatter3d"
           }
          ],
          "scattercarpet": [
           {
            "marker": {
             "colorbar": {
              "outlinewidth": 0,
              "ticks": ""
             }
            },
            "type": "scattercarpet"
           }
          ],
          "scattergeo": [
           {
            "marker": {
             "colorbar": {
              "outlinewidth": 0,
              "ticks": ""
             }
            },
            "type": "scattergeo"
           }
          ],
          "scattergl": [
           {
            "marker": {
             "colorbar": {
              "outlinewidth": 0,
              "ticks": ""
             }
            },
            "type": "scattergl"
           }
          ],
          "scattermapbox": [
           {
            "marker": {
             "colorbar": {
              "outlinewidth": 0,
              "ticks": ""
             }
            },
            "type": "scattermapbox"
           }
          ],
          "scatterpolar": [
           {
            "marker": {
             "colorbar": {
              "outlinewidth": 0,
              "ticks": ""
             }
            },
            "type": "scatterpolar"
           }
          ],
          "scatterpolargl": [
           {
            "marker": {
             "colorbar": {
              "outlinewidth": 0,
              "ticks": ""
             }
            },
            "type": "scatterpolargl"
           }
          ],
          "scatterternary": [
           {
            "marker": {
             "colorbar": {
              "outlinewidth": 0,
              "ticks": ""
             }
            },
            "type": "scatterternary"
           }
          ],
          "surface": [
           {
            "colorbar": {
             "outlinewidth": 0,
             "ticks": ""
            },
            "colorscale": [
             [
              0,
              "#0d0887"
             ],
             [
              0.1111111111111111,
              "#46039f"
             ],
             [
              0.2222222222222222,
              "#7201a8"
             ],
             [
              0.3333333333333333,
              "#9c179e"
             ],
             [
              0.4444444444444444,
              "#bd3786"
             ],
             [
              0.5555555555555556,
              "#d8576b"
             ],
             [
              0.6666666666666666,
              "#ed7953"
             ],
             [
              0.7777777777777778,
              "#fb9f3a"
             ],
             [
              0.8888888888888888,
              "#fdca26"
             ],
             [
              1,
              "#f0f921"
             ]
            ],
            "type": "surface"
           }
          ],
          "table": [
           {
            "cells": {
             "fill": {
              "color": "#EBF0F8"
             },
             "line": {
              "color": "white"
             }
            },
            "header": {
             "fill": {
              "color": "#C8D4E3"
             },
             "line": {
              "color": "white"
             }
            },
            "type": "table"
           }
          ]
         },
         "layout": {
          "annotationdefaults": {
           "arrowcolor": "#2a3f5f",
           "arrowhead": 0,
           "arrowwidth": 1
          },
          "autotypenumbers": "strict",
          "coloraxis": {
           "colorbar": {
            "outlinewidth": 0,
            "ticks": ""
           }
          },
          "colorscale": {
           "diverging": [
            [
             0,
             "#8e0152"
            ],
            [
             0.1,
             "#c51b7d"
            ],
            [
             0.2,
             "#de77ae"
            ],
            [
             0.3,
             "#f1b6da"
            ],
            [
             0.4,
             "#fde0ef"
            ],
            [
             0.5,
             "#f7f7f7"
            ],
            [
             0.6,
             "#e6f5d0"
            ],
            [
             0.7,
             "#b8e186"
            ],
            [
             0.8,
             "#7fbc41"
            ],
            [
             0.9,
             "#4d9221"
            ],
            [
             1,
             "#276419"
            ]
           ],
           "sequential": [
            [
             0,
             "#0d0887"
            ],
            [
             0.1111111111111111,
             "#46039f"
            ],
            [
             0.2222222222222222,
             "#7201a8"
            ],
            [
             0.3333333333333333,
             "#9c179e"
            ],
            [
             0.4444444444444444,
             "#bd3786"
            ],
            [
             0.5555555555555556,
             "#d8576b"
            ],
            [
             0.6666666666666666,
             "#ed7953"
            ],
            [
             0.7777777777777778,
             "#fb9f3a"
            ],
            [
             0.8888888888888888,
             "#fdca26"
            ],
            [
             1,
             "#f0f921"
            ]
           ],
           "sequentialminus": [
            [
             0,
             "#0d0887"
            ],
            [
             0.1111111111111111,
             "#46039f"
            ],
            [
             0.2222222222222222,
             "#7201a8"
            ],
            [
             0.3333333333333333,
             "#9c179e"
            ],
            [
             0.4444444444444444,
             "#bd3786"
            ],
            [
             0.5555555555555556,
             "#d8576b"
            ],
            [
             0.6666666666666666,
             "#ed7953"
            ],
            [
             0.7777777777777778,
             "#fb9f3a"
            ],
            [
             0.8888888888888888,
             "#fdca26"
            ],
            [
             1,
             "#f0f921"
            ]
           ]
          },
          "colorway": [
           "#636efa",
           "#EF553B",
           "#00cc96",
           "#ab63fa",
           "#FFA15A",
           "#19d3f3",
           "#FF6692",
           "#B6E880",
           "#FF97FF",
           "#FECB52"
          ],
          "font": {
           "color": "#2a3f5f"
          },
          "geo": {
           "bgcolor": "white",
           "lakecolor": "white",
           "landcolor": "#E5ECF6",
           "showlakes": true,
           "showland": true,
           "subunitcolor": "white"
          },
          "hoverlabel": {
           "align": "left"
          },
          "hovermode": "closest",
          "mapbox": {
           "style": "light"
          },
          "paper_bgcolor": "white",
          "plot_bgcolor": "#E5ECF6",
          "polar": {
           "angularaxis": {
            "gridcolor": "white",
            "linecolor": "white",
            "ticks": ""
           },
           "bgcolor": "#E5ECF6",
           "radialaxis": {
            "gridcolor": "white",
            "linecolor": "white",
            "ticks": ""
           }
          },
          "scene": {
           "xaxis": {
            "backgroundcolor": "#E5ECF6",
            "gridcolor": "white",
            "gridwidth": 2,
            "linecolor": "white",
            "showbackground": true,
            "ticks": "",
            "zerolinecolor": "white"
           },
           "yaxis": {
            "backgroundcolor": "#E5ECF6",
            "gridcolor": "white",
            "gridwidth": 2,
            "linecolor": "white",
            "showbackground": true,
            "ticks": "",
            "zerolinecolor": "white"
           },
           "zaxis": {
            "backgroundcolor": "#E5ECF6",
            "gridcolor": "white",
            "gridwidth": 2,
            "linecolor": "white",
            "showbackground": true,
            "ticks": "",
            "zerolinecolor": "white"
           }
          },
          "shapedefaults": {
           "line": {
            "color": "#2a3f5f"
           }
          },
          "ternary": {
           "aaxis": {
            "gridcolor": "white",
            "linecolor": "white",
            "ticks": ""
           },
           "baxis": {
            "gridcolor": "white",
            "linecolor": "white",
            "ticks": ""
           },
           "bgcolor": "#E5ECF6",
           "caxis": {
            "gridcolor": "white",
            "linecolor": "white",
            "ticks": ""
           }
          },
          "title": {
           "x": 0.05
          },
          "xaxis": {
           "automargin": true,
           "gridcolor": "white",
           "linecolor": "white",
           "ticks": "",
           "title": {
            "standoff": 15
           },
           "zerolinecolor": "white",
           "zerolinewidth": 2
          },
          "yaxis": {
           "automargin": true,
           "gridcolor": "white",
           "linecolor": "white",
           "ticks": "",
           "title": {
            "standoff": 15
           },
           "zerolinecolor": "white",
           "zerolinewidth": 2
          }
         }
        },
        "title": {
         "text": "Song coordinates in 2D space - song_title"
        },
        "xaxis": {
         "anchor": "y",
         "domain": [
          0,
          1
         ],
         "title": {
          "text": "x"
         }
        },
        "yaxis": {
         "anchor": "x",
         "domain": [
          0,
          1
         ],
         "title": {
          "text": "y"
         }
        }
       }
      }
     },
     "metadata": {},
     "output_type": "display_data"
    },
    {
     "name": "stdout",
     "output_type": "stream",
     "text": [
      "This score is between -1 and 1, where 1 means that, in average, the objects are very similar to their own cluster and far from other clusters, and -1 means the opposite.\n"
     ]
    },
    {
     "data": {
      "application/vnd.plotly.v1+json": {
       "config": {
        "plotlyServerURL": "https://plot.ly"
       },
       "data": [
        {
         "alignmentgroup": "True",
         "hovertemplate": "Silhouette Score=%{marker.color:.3f}<br>Album=%{y}<extra></extra>",
         "legendgroup": "",
         "marker": {
          "color": [
           0.0059400482974494555,
           -0.009211964730799792,
           0.03912460779587859
          ],
          "coloraxis": "coloraxis",
          "pattern": {
           "shape": ""
          }
         },
         "name": "",
         "offsetgroup": "",
         "orientation": "h",
         "showlegend": false,
         "text": [
          0.0059400482974494555,
          -0.009211964730799792,
          0.03912460779587859
         ],
         "textposition": "auto",
         "type": "bar",
         "x": [
          0.0059400482974494555,
          -0.009211964730799792,
          0.03912460779587859
         ],
         "xaxis": "x",
         "y": [
          "Pure Heroine",
          "Melodrama",
          "Solar Power"
         ],
         "yaxis": "y"
        }
       ],
       "layout": {
        "barmode": "relative",
        "coloraxis": {
         "colorbar": {
          "title": {
           "text": "Silhouette Score"
          }
         },
         "colorscale": [
          [
           0,
           "#0d0887"
          ],
          [
           0.1111111111111111,
           "#46039f"
          ],
          [
           0.2222222222222222,
           "#7201a8"
          ],
          [
           0.3333333333333333,
           "#9c179e"
          ],
          [
           0.4444444444444444,
           "#bd3786"
          ],
          [
           0.5555555555555556,
           "#d8576b"
          ],
          [
           0.6666666666666666,
           "#ed7953"
          ],
          [
           0.7777777777777778,
           "#fb9f3a"
          ],
          [
           0.8888888888888888,
           "#fdca26"
          ],
          [
           1,
           "#f0f921"
          ]
         ]
        },
        "legend": {
         "tracegroupgap": 0
        },
        "template": {
         "data": {
          "bar": [
           {
            "error_x": {
             "color": "#2a3f5f"
            },
            "error_y": {
             "color": "#2a3f5f"
            },
            "marker": {
             "line": {
              "color": "#E5ECF6",
              "width": 0.5
             },
             "pattern": {
              "fillmode": "overlay",
              "size": 10,
              "solidity": 0.2
             }
            },
            "type": "bar"
           }
          ],
          "barpolar": [
           {
            "marker": {
             "line": {
              "color": "#E5ECF6",
              "width": 0.5
             },
             "pattern": {
              "fillmode": "overlay",
              "size": 10,
              "solidity": 0.2
             }
            },
            "type": "barpolar"
           }
          ],
          "carpet": [
           {
            "aaxis": {
             "endlinecolor": "#2a3f5f",
             "gridcolor": "white",
             "linecolor": "white",
             "minorgridcolor": "white",
             "startlinecolor": "#2a3f5f"
            },
            "baxis": {
             "endlinecolor": "#2a3f5f",
             "gridcolor": "white",
             "linecolor": "white",
             "minorgridcolor": "white",
             "startlinecolor": "#2a3f5f"
            },
            "type": "carpet"
           }
          ],
          "choropleth": [
           {
            "colorbar": {
             "outlinewidth": 0,
             "ticks": ""
            },
            "type": "choropleth"
           }
          ],
          "contour": [
           {
            "colorbar": {
             "outlinewidth": 0,
             "ticks": ""
            },
            "colorscale": [
             [
              0,
              "#0d0887"
             ],
             [
              0.1111111111111111,
              "#46039f"
             ],
             [
              0.2222222222222222,
              "#7201a8"
             ],
             [
              0.3333333333333333,
              "#9c179e"
             ],
             [
              0.4444444444444444,
              "#bd3786"
             ],
             [
              0.5555555555555556,
              "#d8576b"
             ],
             [
              0.6666666666666666,
              "#ed7953"
             ],
             [
              0.7777777777777778,
              "#fb9f3a"
             ],
             [
              0.8888888888888888,
              "#fdca26"
             ],
             [
              1,
              "#f0f921"
             ]
            ],
            "type": "contour"
           }
          ],
          "contourcarpet": [
           {
            "colorbar": {
             "outlinewidth": 0,
             "ticks": ""
            },
            "type": "contourcarpet"
           }
          ],
          "heatmap": [
           {
            "colorbar": {
             "outlinewidth": 0,
             "ticks": ""
            },
            "colorscale": [
             [
              0,
              "#0d0887"
             ],
             [
              0.1111111111111111,
              "#46039f"
             ],
             [
              0.2222222222222222,
              "#7201a8"
             ],
             [
              0.3333333333333333,
              "#9c179e"
             ],
             [
              0.4444444444444444,
              "#bd3786"
             ],
             [
              0.5555555555555556,
              "#d8576b"
             ],
             [
              0.6666666666666666,
              "#ed7953"
             ],
             [
              0.7777777777777778,
              "#fb9f3a"
             ],
             [
              0.8888888888888888,
              "#fdca26"
             ],
             [
              1,
              "#f0f921"
             ]
            ],
            "type": "heatmap"
           }
          ],
          "heatmapgl": [
           {
            "colorbar": {
             "outlinewidth": 0,
             "ticks": ""
            },
            "colorscale": [
             [
              0,
              "#0d0887"
             ],
             [
              0.1111111111111111,
              "#46039f"
             ],
             [
              0.2222222222222222,
              "#7201a8"
             ],
             [
              0.3333333333333333,
              "#9c179e"
             ],
             [
              0.4444444444444444,
              "#bd3786"
             ],
             [
              0.5555555555555556,
              "#d8576b"
             ],
             [
              0.6666666666666666,
              "#ed7953"
             ],
             [
              0.7777777777777778,
              "#fb9f3a"
             ],
             [
              0.8888888888888888,
              "#fdca26"
             ],
             [
              1,
              "#f0f921"
             ]
            ],
            "type": "heatmapgl"
           }
          ],
          "histogram": [
           {
            "marker": {
             "pattern": {
              "fillmode": "overlay",
              "size": 10,
              "solidity": 0.2
             }
            },
            "type": "histogram"
           }
          ],
          "histogram2d": [
           {
            "colorbar": {
             "outlinewidth": 0,
             "ticks": ""
            },
            "colorscale": [
             [
              0,
              "#0d0887"
             ],
             [
              0.1111111111111111,
              "#46039f"
             ],
             [
              0.2222222222222222,
              "#7201a8"
             ],
             [
              0.3333333333333333,
              "#9c179e"
             ],
             [
              0.4444444444444444,
              "#bd3786"
             ],
             [
              0.5555555555555556,
              "#d8576b"
             ],
             [
              0.6666666666666666,
              "#ed7953"
             ],
             [
              0.7777777777777778,
              "#fb9f3a"
             ],
             [
              0.8888888888888888,
              "#fdca26"
             ],
             [
              1,
              "#f0f921"
             ]
            ],
            "type": "histogram2d"
           }
          ],
          "histogram2dcontour": [
           {
            "colorbar": {
             "outlinewidth": 0,
             "ticks": ""
            },
            "colorscale": [
             [
              0,
              "#0d0887"
             ],
             [
              0.1111111111111111,
              "#46039f"
             ],
             [
              0.2222222222222222,
              "#7201a8"
             ],
             [
              0.3333333333333333,
              "#9c179e"
             ],
             [
              0.4444444444444444,
              "#bd3786"
             ],
             [
              0.5555555555555556,
              "#d8576b"
             ],
             [
              0.6666666666666666,
              "#ed7953"
             ],
             [
              0.7777777777777778,
              "#fb9f3a"
             ],
             [
              0.8888888888888888,
              "#fdca26"
             ],
             [
              1,
              "#f0f921"
             ]
            ],
            "type": "histogram2dcontour"
           }
          ],
          "mesh3d": [
           {
            "colorbar": {
             "outlinewidth": 0,
             "ticks": ""
            },
            "type": "mesh3d"
           }
          ],
          "parcoords": [
           {
            "line": {
             "colorbar": {
              "outlinewidth": 0,
              "ticks": ""
             }
            },
            "type": "parcoords"
           }
          ],
          "pie": [
           {
            "automargin": true,
            "type": "pie"
           }
          ],
          "scatter": [
           {
            "fillpattern": {
             "fillmode": "overlay",
             "size": 10,
             "solidity": 0.2
            },
            "type": "scatter"
           }
          ],
          "scatter3d": [
           {
            "line": {
             "colorbar": {
              "outlinewidth": 0,
              "ticks": ""
             }
            },
            "marker": {
             "colorbar": {
              "outlinewidth": 0,
              "ticks": ""
             }
            },
            "type": "scatter3d"
           }
          ],
          "scattercarpet": [
           {
            "marker": {
             "colorbar": {
              "outlinewidth": 0,
              "ticks": ""
             }
            },
            "type": "scattercarpet"
           }
          ],
          "scattergeo": [
           {
            "marker": {
             "colorbar": {
              "outlinewidth": 0,
              "ticks": ""
             }
            },
            "type": "scattergeo"
           }
          ],
          "scattergl": [
           {
            "marker": {
             "colorbar": {
              "outlinewidth": 0,
              "ticks": ""
             }
            },
            "type": "scattergl"
           }
          ],
          "scattermapbox": [
           {
            "marker": {
             "colorbar": {
              "outlinewidth": 0,
              "ticks": ""
             }
            },
            "type": "scattermapbox"
           }
          ],
          "scatterpolar": [
           {
            "marker": {
             "colorbar": {
              "outlinewidth": 0,
              "ticks": ""
             }
            },
            "type": "scatterpolar"
           }
          ],
          "scatterpolargl": [
           {
            "marker": {
             "colorbar": {
              "outlinewidth": 0,
              "ticks": ""
             }
            },
            "type": "scatterpolargl"
           }
          ],
          "scatterternary": [
           {
            "marker": {
             "colorbar": {
              "outlinewidth": 0,
              "ticks": ""
             }
            },
            "type": "scatterternary"
           }
          ],
          "surface": [
           {
            "colorbar": {
             "outlinewidth": 0,
             "ticks": ""
            },
            "colorscale": [
             [
              0,
              "#0d0887"
             ],
             [
              0.1111111111111111,
              "#46039f"
             ],
             [
              0.2222222222222222,
              "#7201a8"
             ],
             [
              0.3333333333333333,
              "#9c179e"
             ],
             [
              0.4444444444444444,
              "#bd3786"
             ],
             [
              0.5555555555555556,
              "#d8576b"
             ],
             [
              0.6666666666666666,
              "#ed7953"
             ],
             [
              0.7777777777777778,
              "#fb9f3a"
             ],
             [
              0.8888888888888888,
              "#fdca26"
             ],
             [
              1,
              "#f0f921"
             ]
            ],
            "type": "surface"
           }
          ],
          "table": [
           {
            "cells": {
             "fill": {
              "color": "#EBF0F8"
             },
             "line": {
              "color": "white"
             }
            },
            "header": {
             "fill": {
              "color": "#C8D4E3"
             },
             "line": {
              "color": "white"
             }
            },
            "type": "table"
           }
          ]
         },
         "layout": {
          "annotationdefaults": {
           "arrowcolor": "#2a3f5f",
           "arrowhead": 0,
           "arrowwidth": 1
          },
          "autotypenumbers": "strict",
          "coloraxis": {
           "colorbar": {
            "outlinewidth": 0,
            "ticks": ""
           }
          },
          "colorscale": {
           "diverging": [
            [
             0,
             "#8e0152"
            ],
            [
             0.1,
             "#c51b7d"
            ],
            [
             0.2,
             "#de77ae"
            ],
            [
             0.3,
             "#f1b6da"
            ],
            [
             0.4,
             "#fde0ef"
            ],
            [
             0.5,
             "#f7f7f7"
            ],
            [
             0.6,
             "#e6f5d0"
            ],
            [
             0.7,
             "#b8e186"
            ],
            [
             0.8,
             "#7fbc41"
            ],
            [
             0.9,
             "#4d9221"
            ],
            [
             1,
             "#276419"
            ]
           ],
           "sequential": [
            [
             0,
             "#0d0887"
            ],
            [
             0.1111111111111111,
             "#46039f"
            ],
            [
             0.2222222222222222,
             "#7201a8"
            ],
            [
             0.3333333333333333,
             "#9c179e"
            ],
            [
             0.4444444444444444,
             "#bd3786"
            ],
            [
             0.5555555555555556,
             "#d8576b"
            ],
            [
             0.6666666666666666,
             "#ed7953"
            ],
            [
             0.7777777777777778,
             "#fb9f3a"
            ],
            [
             0.8888888888888888,
             "#fdca26"
            ],
            [
             1,
             "#f0f921"
            ]
           ],
           "sequentialminus": [
            [
             0,
             "#0d0887"
            ],
            [
             0.1111111111111111,
             "#46039f"
            ],
            [
             0.2222222222222222,
             "#7201a8"
            ],
            [
             0.3333333333333333,
             "#9c179e"
            ],
            [
             0.4444444444444444,
             "#bd3786"
            ],
            [
             0.5555555555555556,
             "#d8576b"
            ],
            [
             0.6666666666666666,
             "#ed7953"
            ],
            [
             0.7777777777777778,
             "#fb9f3a"
            ],
            [
             0.8888888888888888,
             "#fdca26"
            ],
            [
             1,
             "#f0f921"
            ]
           ]
          },
          "colorway": [
           "#636efa",
           "#EF553B",
           "#00cc96",
           "#ab63fa",
           "#FFA15A",
           "#19d3f3",
           "#FF6692",
           "#B6E880",
           "#FF97FF",
           "#FECB52"
          ],
          "font": {
           "color": "#2a3f5f"
          },
          "geo": {
           "bgcolor": "white",
           "lakecolor": "white",
           "landcolor": "#E5ECF6",
           "showlakes": true,
           "showland": true,
           "subunitcolor": "white"
          },
          "hoverlabel": {
           "align": "left"
          },
          "hovermode": "closest",
          "mapbox": {
           "style": "light"
          },
          "paper_bgcolor": "white",
          "plot_bgcolor": "#E5ECF6",
          "polar": {
           "angularaxis": {
            "gridcolor": "white",
            "linecolor": "white",
            "ticks": ""
           },
           "bgcolor": "#E5ECF6",
           "radialaxis": {
            "gridcolor": "white",
            "linecolor": "white",
            "ticks": ""
           }
          },
          "scene": {
           "xaxis": {
            "backgroundcolor": "#E5ECF6",
            "gridcolor": "white",
            "gridwidth": 2,
            "linecolor": "white",
            "showbackground": true,
            "ticks": "",
            "zerolinecolor": "white"
           },
           "yaxis": {
            "backgroundcolor": "#E5ECF6",
            "gridcolor": "white",
            "gridwidth": 2,
            "linecolor": "white",
            "showbackground": true,
            "ticks": "",
            "zerolinecolor": "white"
           },
           "zaxis": {
            "backgroundcolor": "#E5ECF6",
            "gridcolor": "white",
            "gridwidth": 2,
            "linecolor": "white",
            "showbackground": true,
            "ticks": "",
            "zerolinecolor": "white"
           }
          },
          "shapedefaults": {
           "line": {
            "color": "#2a3f5f"
           }
          },
          "ternary": {
           "aaxis": {
            "gridcolor": "white",
            "linecolor": "white",
            "ticks": ""
           },
           "baxis": {
            "gridcolor": "white",
            "linecolor": "white",
            "ticks": ""
           },
           "bgcolor": "#E5ECF6",
           "caxis": {
            "gridcolor": "white",
            "linecolor": "white",
            "ticks": ""
           }
          },
          "title": {
           "x": 0.05
          },
          "xaxis": {
           "automargin": true,
           "gridcolor": "white",
           "linecolor": "white",
           "ticks": "",
           "title": {
            "standoff": 15
           },
           "zerolinecolor": "white",
           "zerolinewidth": 2
          },
          "yaxis": {
           "automargin": true,
           "gridcolor": "white",
           "linecolor": "white",
           "ticks": "",
           "title": {
            "standoff": 15
           },
           "zerolinecolor": "white",
           "zerolinewidth": 2
          }
         }
        },
        "title": {
         "text": "Avg Silhouette Score for Each Album - song_title"
        },
        "xaxis": {
         "anchor": "y",
         "domain": [
          0,
          1
         ],
         "title": {
          "text": "Silhouette Score"
         }
        },
        "yaxis": {
         "anchor": "x",
         "domain": [
          0,
          1
         ],
         "title": {
          "text": "Album"
         }
        }
       }
      }
     },
     "metadata": {},
     "output_type": "display_data"
    }
   ],
   "source": [
    "# song titles\n",
    "pt = Plot(discography, column=\"song_title\")\n",
    "pt.plot_confusion_matrix()\n",
    "pt.plot_clusters()\n",
    "pt.plot_sillhouette_score()"
   ]
  },
  {
   "cell_type": "code",
   "execution_count": null,
   "metadata": {},
   "outputs": [],
   "source": []
  }
 ],
 "metadata": {
  "kernelspec": {
   "display_name": "Python 3",
   "language": "python",
   "name": "python3"
  },
  "language_info": {
   "codemirror_mode": {
    "name": "ipython",
    "version": 3
   },
   "file_extension": ".py",
   "mimetype": "text/x-python",
   "name": "python",
   "nbconvert_exporter": "python",
   "pygments_lexer": "ipython3",
   "version": "3.9.6"
  },
  "orig_nbformat": 4,
  "vscode": {
   "interpreter": {
    "hash": "31f2aee4e71d21fbe5cf8b01ff0e069b9275f58929596ceb00d14d90e3e16cd6"
   }
  }
 },
 "nbformat": 4,
 "nbformat_minor": 2
}
